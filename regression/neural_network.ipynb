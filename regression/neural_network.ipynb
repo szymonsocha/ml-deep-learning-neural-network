{
  "cells": [
    {
      "cell_type": "markdown",
      "source": [
        "# Neural networks"
      ],
      "metadata": {
        "id": "vrWXVfWDhbqE"
      },
      "id": "vrWXVfWDhbqE"
    },
    {
      "cell_type": "code",
      "source": [
        "from random import shuffle\n",
        "from random import randint\n",
        "import pandas as pd\n",
        "import numpy as np\n",
        "import pickle\n",
        "from sklearn.model_selection import train_test_split\n",
        "from sklearn.model_selection import StratifiedKFold\n",
        "from sklearn.preprocessing import LabelEncoder\n",
        "from sklearn.preprocessing import StandardScaler\n",
        "from operator import itemgetter\n",
        "import time\n",
        "import xgboost as xgb\n",
        "from sklearn.model_selection import RandomizedSearchCV\n",
        "\n",
        "import matplotlib.pyplot as plt\n",
        "%matplotlib inline\n",
        "\n",
        "import gc"
      ],
      "metadata": {
        "id": "5_IYG3zfnwpW"
      },
      "id": "5_IYG3zfnwpW",
      "execution_count": 286,
      "outputs": []
    },
    {
      "cell_type": "markdown",
      "source": [
        "## Load previously prepared data"
      ],
      "metadata": {
        "id": "k51k44_GhfKa"
      },
      "id": "k51k44_GhfKa"
    },
    {
      "cell_type": "code",
      "source": [
        "df = pd.read_csv('data/laptop_train.csv')"
      ],
      "metadata": {
        "id": "EGRkLq8CYixB"
      },
      "id": "EGRkLq8CYixB",
      "execution_count": 325,
      "outputs": []
    },
    {
      "cell_type": "code",
      "source": [
        "df.head()"
      ],
      "metadata": {
        "colab": {
          "base_uri": "https://localhost:8080/",
          "height": 206
        },
        "id": "3DLT6O5UrrGC",
        "outputId": "94f1171e-5003-439c-e582-fe8ddbdee031"
      },
      "id": "3DLT6O5UrrGC",
      "execution_count": 326,
      "outputs": [
        {
          "output_type": "execute_result",
          "data": {
            "text/plain": [
              "  company               product   typename  inches                    cpu  \\\n",
              "0    Dell         Inspiron 3567   Notebook    15.6   Intel Core i3 7100U    \n",
              "1  Lenovo    Legion Y520-15IKBN     Gaming    15.6  Intel Core i5 7300HQ    \n",
              "2    Dell                XPS 13  Ultrabook    13.3   Intel Core i7 8550U    \n",
              "3    Asus  ZenBook UX305CA-UBM1  Ultrabook    13.3     Intel Core M 6Y30    \n",
              "4    Dell         Inspiron 3567   Notebook    15.6   Intel Core i3 6006U    \n",
              "\n",
              "   ram(GB)                      gpu       opsys  weight(kg) resolution  \\\n",
              "0        6    Intel HD Graphics 620  Windows 10        2.30   1366x768   \n",
              "1        8  Nvidia GeForce GTX 1050  Windows 10        2.50  1920x1080   \n",
              "2        8   Intel UHD Graphics 620  Windows 10        1.20  1920x1080   \n",
              "3        8    Intel HD Graphics 515  Windows 10        1.20  1920x1080   \n",
              "4        4       AMD Radeon R5 M430       Linux        2.25   1366x768   \n",
              "\n",
              "  screentype  touchscreen  cpu(GHz)  memory_1_storage_gb memory_1_type  \\\n",
              "0        NaN        False       2.4               1000.0           HDD   \n",
              "1   IPSPanel        False       2.5                256.0           SSD   \n",
              "2        NaN        False       1.8                256.0           SSD   \n",
              "3   IPSPanel        False       0.9                512.0           SSD   \n",
              "4        NaN        False       2.0               1000.0           HDD   \n",
              "\n",
              "   memory_2_storage_gb memory_2_type  log_price  \n",
              "0                  0.0           NaN   6.129050  \n",
              "1                  0.0           NaN   6.720220  \n",
              "2                  0.0           NaN   7.364547  \n",
              "3                  0.0           NaN   6.591674  \n",
              "4                  0.0           NaN   6.143370  "
            ],
            "text/html": [
              "\n",
              "  <div id=\"df-6f26f596-70fc-4aad-967f-409e8da34b01\">\n",
              "    <div class=\"colab-df-container\">\n",
              "      <div>\n",
              "<style scoped>\n",
              "    .dataframe tbody tr th:only-of-type {\n",
              "        vertical-align: middle;\n",
              "    }\n",
              "\n",
              "    .dataframe tbody tr th {\n",
              "        vertical-align: top;\n",
              "    }\n",
              "\n",
              "    .dataframe thead th {\n",
              "        text-align: right;\n",
              "    }\n",
              "</style>\n",
              "<table border=\"1\" class=\"dataframe\">\n",
              "  <thead>\n",
              "    <tr style=\"text-align: right;\">\n",
              "      <th></th>\n",
              "      <th>company</th>\n",
              "      <th>product</th>\n",
              "      <th>typename</th>\n",
              "      <th>inches</th>\n",
              "      <th>cpu</th>\n",
              "      <th>ram(GB)</th>\n",
              "      <th>gpu</th>\n",
              "      <th>opsys</th>\n",
              "      <th>weight(kg)</th>\n",
              "      <th>resolution</th>\n",
              "      <th>screentype</th>\n",
              "      <th>touchscreen</th>\n",
              "      <th>cpu(GHz)</th>\n",
              "      <th>memory_1_storage_gb</th>\n",
              "      <th>memory_1_type</th>\n",
              "      <th>memory_2_storage_gb</th>\n",
              "      <th>memory_2_type</th>\n",
              "      <th>log_price</th>\n",
              "    </tr>\n",
              "  </thead>\n",
              "  <tbody>\n",
              "    <tr>\n",
              "      <th>0</th>\n",
              "      <td>Dell</td>\n",
              "      <td>Inspiron 3567</td>\n",
              "      <td>Notebook</td>\n",
              "      <td>15.6</td>\n",
              "      <td>Intel Core i3 7100U</td>\n",
              "      <td>6</td>\n",
              "      <td>Intel HD Graphics 620</td>\n",
              "      <td>Windows 10</td>\n",
              "      <td>2.30</td>\n",
              "      <td>1366x768</td>\n",
              "      <td>NaN</td>\n",
              "      <td>False</td>\n",
              "      <td>2.4</td>\n",
              "      <td>1000.0</td>\n",
              "      <td>HDD</td>\n",
              "      <td>0.0</td>\n",
              "      <td>NaN</td>\n",
              "      <td>6.129050</td>\n",
              "    </tr>\n",
              "    <tr>\n",
              "      <th>1</th>\n",
              "      <td>Lenovo</td>\n",
              "      <td>Legion Y520-15IKBN</td>\n",
              "      <td>Gaming</td>\n",
              "      <td>15.6</td>\n",
              "      <td>Intel Core i5 7300HQ</td>\n",
              "      <td>8</td>\n",
              "      <td>Nvidia GeForce GTX 1050</td>\n",
              "      <td>Windows 10</td>\n",
              "      <td>2.50</td>\n",
              "      <td>1920x1080</td>\n",
              "      <td>IPSPanel</td>\n",
              "      <td>False</td>\n",
              "      <td>2.5</td>\n",
              "      <td>256.0</td>\n",
              "      <td>SSD</td>\n",
              "      <td>0.0</td>\n",
              "      <td>NaN</td>\n",
              "      <td>6.720220</td>\n",
              "    </tr>\n",
              "    <tr>\n",
              "      <th>2</th>\n",
              "      <td>Dell</td>\n",
              "      <td>XPS 13</td>\n",
              "      <td>Ultrabook</td>\n",
              "      <td>13.3</td>\n",
              "      <td>Intel Core i7 8550U</td>\n",
              "      <td>8</td>\n",
              "      <td>Intel UHD Graphics 620</td>\n",
              "      <td>Windows 10</td>\n",
              "      <td>1.20</td>\n",
              "      <td>1920x1080</td>\n",
              "      <td>NaN</td>\n",
              "      <td>False</td>\n",
              "      <td>1.8</td>\n",
              "      <td>256.0</td>\n",
              "      <td>SSD</td>\n",
              "      <td>0.0</td>\n",
              "      <td>NaN</td>\n",
              "      <td>7.364547</td>\n",
              "    </tr>\n",
              "    <tr>\n",
              "      <th>3</th>\n",
              "      <td>Asus</td>\n",
              "      <td>ZenBook UX305CA-UBM1</td>\n",
              "      <td>Ultrabook</td>\n",
              "      <td>13.3</td>\n",
              "      <td>Intel Core M 6Y30</td>\n",
              "      <td>8</td>\n",
              "      <td>Intel HD Graphics 515</td>\n",
              "      <td>Windows 10</td>\n",
              "      <td>1.20</td>\n",
              "      <td>1920x1080</td>\n",
              "      <td>IPSPanel</td>\n",
              "      <td>False</td>\n",
              "      <td>0.9</td>\n",
              "      <td>512.0</td>\n",
              "      <td>SSD</td>\n",
              "      <td>0.0</td>\n",
              "      <td>NaN</td>\n",
              "      <td>6.591674</td>\n",
              "    </tr>\n",
              "    <tr>\n",
              "      <th>4</th>\n",
              "      <td>Dell</td>\n",
              "      <td>Inspiron 3567</td>\n",
              "      <td>Notebook</td>\n",
              "      <td>15.6</td>\n",
              "      <td>Intel Core i3 6006U</td>\n",
              "      <td>4</td>\n",
              "      <td>AMD Radeon R5 M430</td>\n",
              "      <td>Linux</td>\n",
              "      <td>2.25</td>\n",
              "      <td>1366x768</td>\n",
              "      <td>NaN</td>\n",
              "      <td>False</td>\n",
              "      <td>2.0</td>\n",
              "      <td>1000.0</td>\n",
              "      <td>HDD</td>\n",
              "      <td>0.0</td>\n",
              "      <td>NaN</td>\n",
              "      <td>6.143370</td>\n",
              "    </tr>\n",
              "  </tbody>\n",
              "</table>\n",
              "</div>\n",
              "      <button class=\"colab-df-convert\" onclick=\"convertToInteractive('df-6f26f596-70fc-4aad-967f-409e8da34b01')\"\n",
              "              title=\"Convert this dataframe to an interactive table.\"\n",
              "              style=\"display:none;\">\n",
              "        \n",
              "  <svg xmlns=\"http://www.w3.org/2000/svg\" height=\"24px\"viewBox=\"0 0 24 24\"\n",
              "       width=\"24px\">\n",
              "    <path d=\"M0 0h24v24H0V0z\" fill=\"none\"/>\n",
              "    <path d=\"M18.56 5.44l.94 2.06.94-2.06 2.06-.94-2.06-.94-.94-2.06-.94 2.06-2.06.94zm-11 1L8.5 8.5l.94-2.06 2.06-.94-2.06-.94L8.5 2.5l-.94 2.06-2.06.94zm10 10l.94 2.06.94-2.06 2.06-.94-2.06-.94-.94-2.06-.94 2.06-2.06.94z\"/><path d=\"M17.41 7.96l-1.37-1.37c-.4-.4-.92-.59-1.43-.59-.52 0-1.04.2-1.43.59L10.3 9.45l-7.72 7.72c-.78.78-.78 2.05 0 2.83L4 21.41c.39.39.9.59 1.41.59.51 0 1.02-.2 1.41-.59l7.78-7.78 2.81-2.81c.8-.78.8-2.07 0-2.86zM5.41 20L4 18.59l7.72-7.72 1.47 1.35L5.41 20z\"/>\n",
              "  </svg>\n",
              "      </button>\n",
              "      \n",
              "  <style>\n",
              "    .colab-df-container {\n",
              "      display:flex;\n",
              "      flex-wrap:wrap;\n",
              "      gap: 12px;\n",
              "    }\n",
              "\n",
              "    .colab-df-convert {\n",
              "      background-color: #E8F0FE;\n",
              "      border: none;\n",
              "      border-radius: 50%;\n",
              "      cursor: pointer;\n",
              "      display: none;\n",
              "      fill: #1967D2;\n",
              "      height: 32px;\n",
              "      padding: 0 0 0 0;\n",
              "      width: 32px;\n",
              "    }\n",
              "\n",
              "    .colab-df-convert:hover {\n",
              "      background-color: #E2EBFA;\n",
              "      box-shadow: 0px 1px 2px rgba(60, 64, 67, 0.3), 0px 1px 3px 1px rgba(60, 64, 67, 0.15);\n",
              "      fill: #174EA6;\n",
              "    }\n",
              "\n",
              "    [theme=dark] .colab-df-convert {\n",
              "      background-color: #3B4455;\n",
              "      fill: #D2E3FC;\n",
              "    }\n",
              "\n",
              "    [theme=dark] .colab-df-convert:hover {\n",
              "      background-color: #434B5C;\n",
              "      box-shadow: 0px 1px 3px 1px rgba(0, 0, 0, 0.15);\n",
              "      filter: drop-shadow(0px 1px 2px rgba(0, 0, 0, 0.3));\n",
              "      fill: #FFFFFF;\n",
              "    }\n",
              "  </style>\n",
              "\n",
              "      <script>\n",
              "        const buttonEl =\n",
              "          document.querySelector('#df-6f26f596-70fc-4aad-967f-409e8da34b01 button.colab-df-convert');\n",
              "        buttonEl.style.display =\n",
              "          google.colab.kernel.accessAllowed ? 'block' : 'none';\n",
              "\n",
              "        async function convertToInteractive(key) {\n",
              "          const element = document.querySelector('#df-6f26f596-70fc-4aad-967f-409e8da34b01');\n",
              "          const dataTable =\n",
              "            await google.colab.kernel.invokeFunction('convertToInteractive',\n",
              "                                                     [key], {});\n",
              "          if (!dataTable) return;\n",
              "\n",
              "          const docLinkHtml = 'Like what you see? Visit the ' +\n",
              "            '<a target=\"_blank\" href=https://colab.research.google.com/notebooks/data_table.ipynb>data table notebook</a>'\n",
              "            + ' to learn more about interactive tables.';\n",
              "          element.innerHTML = '';\n",
              "          dataTable['output_type'] = 'display_data';\n",
              "          await google.colab.output.renderOutput(dataTable, element);\n",
              "          const docLink = document.createElement('div');\n",
              "          docLink.innerHTML = docLinkHtml;\n",
              "          element.appendChild(docLink);\n",
              "        }\n",
              "      </script>\n",
              "    </div>\n",
              "  </div>\n",
              "  "
            ]
          },
          "metadata": {},
          "execution_count": 326
        }
      ]
    },
    {
      "cell_type": "code",
      "source": [
        "df.columns"
      ],
      "metadata": {
        "colab": {
          "base_uri": "https://localhost:8080/"
        },
        "id": "JyT9LOyTnyqw",
        "outputId": "ac3a5963-0dd4-4b76-bf78-5eba9782e3f0"
      },
      "id": "JyT9LOyTnyqw",
      "execution_count": 327,
      "outputs": [
        {
          "output_type": "execute_result",
          "data": {
            "text/plain": [
              "Index(['company', 'product', 'typename', 'inches', 'cpu', 'ram(GB)', 'gpu',\n",
              "       'opsys', 'weight(kg)', 'resolution', 'screentype', 'touchscreen',\n",
              "       'cpu(GHz)', 'memory_1_storage_gb', 'memory_1_type',\n",
              "       'memory_2_storage_gb', 'memory_2_type', 'log_price'],\n",
              "      dtype='object')"
            ]
          },
          "metadata": {},
          "execution_count": 327
        }
      ]
    },
    {
      "cell_type": "code",
      "source": [
        "df.info()"
      ],
      "metadata": {
        "colab": {
          "base_uri": "https://localhost:8080/"
        },
        "id": "4xhUWGSuwNAl",
        "outputId": "633f42e9-72a3-4c6f-c90d-68d186aed0cf"
      },
      "id": "4xhUWGSuwNAl",
      "execution_count": 328,
      "outputs": [
        {
          "output_type": "stream",
          "name": "stdout",
          "text": [
            "<class 'pandas.core.frame.DataFrame'>\n",
            "RangeIndex: 1132 entries, 0 to 1131\n",
            "Data columns (total 18 columns):\n",
            " #   Column               Non-Null Count  Dtype  \n",
            "---  ------               --------------  -----  \n",
            " 0   company              1132 non-null   object \n",
            " 1   product              1132 non-null   object \n",
            " 2   typename             1132 non-null   object \n",
            " 3   inches               1132 non-null   float64\n",
            " 4   cpu                  1132 non-null   object \n",
            " 5   ram(GB)              1132 non-null   int64  \n",
            " 6   gpu                  1132 non-null   object \n",
            " 7   opsys                1132 non-null   object \n",
            " 8   weight(kg)           1132 non-null   float64\n",
            " 9   resolution           1132 non-null   object \n",
            " 10  screentype           301 non-null    object \n",
            " 11  touchscreen          1132 non-null   bool   \n",
            " 12  cpu(GHz)             1132 non-null   float64\n",
            " 13  memory_1_storage_gb  1132 non-null   float64\n",
            " 14  memory_1_type        1132 non-null   object \n",
            " 15  memory_2_storage_gb  1132 non-null   float64\n",
            " 16  memory_2_type        187 non-null    object \n",
            " 17  log_price            1132 non-null   float64\n",
            "dtypes: bool(1), float64(6), int64(1), object(10)\n",
            "memory usage: 151.6+ KB\n"
          ]
        }
      ]
    },
    {
      "cell_type": "code",
      "source": [
        "target = \"log_price\"\n",
        "numericFeatures = [\"inches\", \"ram(GB)\", \"weight(kg)\", \"cpu(GHz)\", \"memory_1_storage_gb\", \"memory_2_storage_gb\"]\n",
        "catFeatures = [\"company\", \"product\", \"typename\", \"cpu\", \"gpu\", \"opsys\", \"resolution\", \"screentype\", \"touchscreen\", \"memory_1_type\", \"memory_2_type\"]"
      ],
      "metadata": {
        "id": "vLmN6jgKpWt9"
      },
      "id": "vLmN6jgKpWt9",
      "execution_count": 329,
      "outputs": []
    },
    {
      "cell_type": "code",
      "source": [
        "# en = LabelEncoder()\n",
        "# for cols in catFeatures:\n",
        "#     df[cols] = en.fit_transform(df[cols])\n",
        "# print('Dataframe encoded by Label encoding dimension : ', df.shape)"
      ],
      "metadata": {
        "id": "9D8vU2S8rtxx"
      },
      "id": "9D8vU2S8rtxx",
      "execution_count": 330,
      "outputs": []
    },
    {
      "cell_type": "code",
      "source": [
        "df"
      ],
      "metadata": {
        "colab": {
          "base_uri": "https://localhost:8080/",
          "height": 424
        },
        "id": "hma5OA1athXo",
        "outputId": "fe087f24-8b72-4519-acc5-99e680cbc1c3"
      },
      "id": "hma5OA1athXo",
      "execution_count": 331,
      "outputs": [
        {
          "output_type": "execute_result",
          "data": {
            "text/plain": [
              "     company                            product   typename  inches  \\\n",
              "0       Dell                      Inspiron 3567   Notebook    15.6   \n",
              "1     Lenovo                 Legion Y520-15IKBN     Gaming    15.6   \n",
              "2       Dell                             XPS 13  Ultrabook    13.3   \n",
              "3       Asus               ZenBook UX305CA-UBM1  Ultrabook    13.3   \n",
              "4       Dell                      Inspiron 3567   Notebook    15.6   \n",
              "...      ...                                ...        ...     ...   \n",
              "1127      HP                      EliteBook 840   Notebook    14.0   \n",
              "1128    Acer                     Aspire F5-573G   Notebook    15.6   \n",
              "1129      HP  15-bs078cl (i7-7500U/8GB/2TB/W10)   Notebook    15.6   \n",
              "1130      HP                Pavilion 15-AW003nv   Notebook    15.6   \n",
              "1131  Lenovo                      ThinkPad E570   Notebook    15.6   \n",
              "\n",
              "                        cpu  ram(GB)                      gpu       opsys  \\\n",
              "0      Intel Core i3 7100U         6    Intel HD Graphics 620  Windows 10   \n",
              "1     Intel Core i5 7300HQ         8  Nvidia GeForce GTX 1050  Windows 10   \n",
              "2      Intel Core i7 8550U         8   Intel UHD Graphics 620  Windows 10   \n",
              "3        Intel Core M 6Y30         8    Intel HD Graphics 515  Windows 10   \n",
              "4      Intel Core i3 6006U         4       AMD Radeon R5 M430       Linux   \n",
              "...                     ...      ...                      ...         ...   \n",
              "1127   Intel Core i5 6200U         4    Intel HD Graphics 520  Windows 10   \n",
              "1128   Intel Core i5 7200U         8  Nvidia GeForce GTX 950M  Windows 10   \n",
              "1129   Intel Core i7 7500U         8    Intel HD Graphics 620  Windows 10   \n",
              "1130    AMD A9-Series 9410         6       AMD Radeon R7 M440  Windows 10   \n",
              "1131   Intel Core i5 7200U         8    Intel HD Graphics 620  Windows 10   \n",
              "\n",
              "      weight(kg) resolution screentype  touchscreen  cpu(GHz)  \\\n",
              "0           2.30   1366x768        NaN        False       2.4   \n",
              "1           2.50  1920x1080   IPSPanel        False       2.5   \n",
              "2           1.20  1920x1080        NaN        False       1.8   \n",
              "3           1.20  1920x1080   IPSPanel        False       0.9   \n",
              "4           2.25   1366x768        NaN        False       2.0   \n",
              "...          ...        ...        ...          ...       ...   \n",
              "1127        1.54  1920x1080        NaN        False       2.3   \n",
              "1128        2.40  1920x1080        NaN        False       2.5   \n",
              "1129        2.04   1366x768        NaN        False       2.7   \n",
              "1130        2.04  1920x1080        NaN        False       2.9   \n",
              "1131        2.30  1920x1080   IPSPanel        False       2.5   \n",
              "\n",
              "      memory_1_storage_gb memory_1_type  memory_2_storage_gb memory_2_type  \\\n",
              "0                  1000.0           HDD                  0.0           NaN   \n",
              "1                   256.0           SSD                  0.0           NaN   \n",
              "2                   256.0           SSD                  0.0           NaN   \n",
              "3                   512.0           SSD                  0.0           NaN   \n",
              "4                  1000.0           HDD                  0.0           NaN   \n",
              "...                   ...           ...                  ...           ...   \n",
              "1127                500.0           HDD                  0.0           NaN   \n",
              "1128                256.0           SSD               1000.0           HDD   \n",
              "1129               2000.0           HDD                  0.0           NaN   \n",
              "1130               1000.0        Hybrid                  0.0           NaN   \n",
              "1131               1000.0           HDD                  0.0           NaN   \n",
              "\n",
              "      log_price  \n",
              "0      6.129050  \n",
              "1      6.720220  \n",
              "2      7.364547  \n",
              "3      6.591674  \n",
              "4      6.143370  \n",
              "...         ...  \n",
              "1127   6.907755  \n",
              "1128   6.683361  \n",
              "1129   6.444131  \n",
              "1130   6.309900  \n",
              "1131   6.746013  \n",
              "\n",
              "[1132 rows x 18 columns]"
            ],
            "text/html": [
              "\n",
              "  <div id=\"df-28598ca5-ed5e-4951-9f4b-2a7b555e7086\">\n",
              "    <div class=\"colab-df-container\">\n",
              "      <div>\n",
              "<style scoped>\n",
              "    .dataframe tbody tr th:only-of-type {\n",
              "        vertical-align: middle;\n",
              "    }\n",
              "\n",
              "    .dataframe tbody tr th {\n",
              "        vertical-align: top;\n",
              "    }\n",
              "\n",
              "    .dataframe thead th {\n",
              "        text-align: right;\n",
              "    }\n",
              "</style>\n",
              "<table border=\"1\" class=\"dataframe\">\n",
              "  <thead>\n",
              "    <tr style=\"text-align: right;\">\n",
              "      <th></th>\n",
              "      <th>company</th>\n",
              "      <th>product</th>\n",
              "      <th>typename</th>\n",
              "      <th>inches</th>\n",
              "      <th>cpu</th>\n",
              "      <th>ram(GB)</th>\n",
              "      <th>gpu</th>\n",
              "      <th>opsys</th>\n",
              "      <th>weight(kg)</th>\n",
              "      <th>resolution</th>\n",
              "      <th>screentype</th>\n",
              "      <th>touchscreen</th>\n",
              "      <th>cpu(GHz)</th>\n",
              "      <th>memory_1_storage_gb</th>\n",
              "      <th>memory_1_type</th>\n",
              "      <th>memory_2_storage_gb</th>\n",
              "      <th>memory_2_type</th>\n",
              "      <th>log_price</th>\n",
              "    </tr>\n",
              "  </thead>\n",
              "  <tbody>\n",
              "    <tr>\n",
              "      <th>0</th>\n",
              "      <td>Dell</td>\n",
              "      <td>Inspiron 3567</td>\n",
              "      <td>Notebook</td>\n",
              "      <td>15.6</td>\n",
              "      <td>Intel Core i3 7100U</td>\n",
              "      <td>6</td>\n",
              "      <td>Intel HD Graphics 620</td>\n",
              "      <td>Windows 10</td>\n",
              "      <td>2.30</td>\n",
              "      <td>1366x768</td>\n",
              "      <td>NaN</td>\n",
              "      <td>False</td>\n",
              "      <td>2.4</td>\n",
              "      <td>1000.0</td>\n",
              "      <td>HDD</td>\n",
              "      <td>0.0</td>\n",
              "      <td>NaN</td>\n",
              "      <td>6.129050</td>\n",
              "    </tr>\n",
              "    <tr>\n",
              "      <th>1</th>\n",
              "      <td>Lenovo</td>\n",
              "      <td>Legion Y520-15IKBN</td>\n",
              "      <td>Gaming</td>\n",
              "      <td>15.6</td>\n",
              "      <td>Intel Core i5 7300HQ</td>\n",
              "      <td>8</td>\n",
              "      <td>Nvidia GeForce GTX 1050</td>\n",
              "      <td>Windows 10</td>\n",
              "      <td>2.50</td>\n",
              "      <td>1920x1080</td>\n",
              "      <td>IPSPanel</td>\n",
              "      <td>False</td>\n",
              "      <td>2.5</td>\n",
              "      <td>256.0</td>\n",
              "      <td>SSD</td>\n",
              "      <td>0.0</td>\n",
              "      <td>NaN</td>\n",
              "      <td>6.720220</td>\n",
              "    </tr>\n",
              "    <tr>\n",
              "      <th>2</th>\n",
              "      <td>Dell</td>\n",
              "      <td>XPS 13</td>\n",
              "      <td>Ultrabook</td>\n",
              "      <td>13.3</td>\n",
              "      <td>Intel Core i7 8550U</td>\n",
              "      <td>8</td>\n",
              "      <td>Intel UHD Graphics 620</td>\n",
              "      <td>Windows 10</td>\n",
              "      <td>1.20</td>\n",
              "      <td>1920x1080</td>\n",
              "      <td>NaN</td>\n",
              "      <td>False</td>\n",
              "      <td>1.8</td>\n",
              "      <td>256.0</td>\n",
              "      <td>SSD</td>\n",
              "      <td>0.0</td>\n",
              "      <td>NaN</td>\n",
              "      <td>7.364547</td>\n",
              "    </tr>\n",
              "    <tr>\n",
              "      <th>3</th>\n",
              "      <td>Asus</td>\n",
              "      <td>ZenBook UX305CA-UBM1</td>\n",
              "      <td>Ultrabook</td>\n",
              "      <td>13.3</td>\n",
              "      <td>Intel Core M 6Y30</td>\n",
              "      <td>8</td>\n",
              "      <td>Intel HD Graphics 515</td>\n",
              "      <td>Windows 10</td>\n",
              "      <td>1.20</td>\n",
              "      <td>1920x1080</td>\n",
              "      <td>IPSPanel</td>\n",
              "      <td>False</td>\n",
              "      <td>0.9</td>\n",
              "      <td>512.0</td>\n",
              "      <td>SSD</td>\n",
              "      <td>0.0</td>\n",
              "      <td>NaN</td>\n",
              "      <td>6.591674</td>\n",
              "    </tr>\n",
              "    <tr>\n",
              "      <th>4</th>\n",
              "      <td>Dell</td>\n",
              "      <td>Inspiron 3567</td>\n",
              "      <td>Notebook</td>\n",
              "      <td>15.6</td>\n",
              "      <td>Intel Core i3 6006U</td>\n",
              "      <td>4</td>\n",
              "      <td>AMD Radeon R5 M430</td>\n",
              "      <td>Linux</td>\n",
              "      <td>2.25</td>\n",
              "      <td>1366x768</td>\n",
              "      <td>NaN</td>\n",
              "      <td>False</td>\n",
              "      <td>2.0</td>\n",
              "      <td>1000.0</td>\n",
              "      <td>HDD</td>\n",
              "      <td>0.0</td>\n",
              "      <td>NaN</td>\n",
              "      <td>6.143370</td>\n",
              "    </tr>\n",
              "    <tr>\n",
              "      <th>...</th>\n",
              "      <td>...</td>\n",
              "      <td>...</td>\n",
              "      <td>...</td>\n",
              "      <td>...</td>\n",
              "      <td>...</td>\n",
              "      <td>...</td>\n",
              "      <td>...</td>\n",
              "      <td>...</td>\n",
              "      <td>...</td>\n",
              "      <td>...</td>\n",
              "      <td>...</td>\n",
              "      <td>...</td>\n",
              "      <td>...</td>\n",
              "      <td>...</td>\n",
              "      <td>...</td>\n",
              "      <td>...</td>\n",
              "      <td>...</td>\n",
              "      <td>...</td>\n",
              "    </tr>\n",
              "    <tr>\n",
              "      <th>1127</th>\n",
              "      <td>HP</td>\n",
              "      <td>EliteBook 840</td>\n",
              "      <td>Notebook</td>\n",
              "      <td>14.0</td>\n",
              "      <td>Intel Core i5 6200U</td>\n",
              "      <td>4</td>\n",
              "      <td>Intel HD Graphics 520</td>\n",
              "      <td>Windows 10</td>\n",
              "      <td>1.54</td>\n",
              "      <td>1920x1080</td>\n",
              "      <td>NaN</td>\n",
              "      <td>False</td>\n",
              "      <td>2.3</td>\n",
              "      <td>500.0</td>\n",
              "      <td>HDD</td>\n",
              "      <td>0.0</td>\n",
              "      <td>NaN</td>\n",
              "      <td>6.907755</td>\n",
              "    </tr>\n",
              "    <tr>\n",
              "      <th>1128</th>\n",
              "      <td>Acer</td>\n",
              "      <td>Aspire F5-573G</td>\n",
              "      <td>Notebook</td>\n",
              "      <td>15.6</td>\n",
              "      <td>Intel Core i5 7200U</td>\n",
              "      <td>8</td>\n",
              "      <td>Nvidia GeForce GTX 950M</td>\n",
              "      <td>Windows 10</td>\n",
              "      <td>2.40</td>\n",
              "      <td>1920x1080</td>\n",
              "      <td>NaN</td>\n",
              "      <td>False</td>\n",
              "      <td>2.5</td>\n",
              "      <td>256.0</td>\n",
              "      <td>SSD</td>\n",
              "      <td>1000.0</td>\n",
              "      <td>HDD</td>\n",
              "      <td>6.683361</td>\n",
              "    </tr>\n",
              "    <tr>\n",
              "      <th>1129</th>\n",
              "      <td>HP</td>\n",
              "      <td>15-bs078cl (i7-7500U/8GB/2TB/W10)</td>\n",
              "      <td>Notebook</td>\n",
              "      <td>15.6</td>\n",
              "      <td>Intel Core i7 7500U</td>\n",
              "      <td>8</td>\n",
              "      <td>Intel HD Graphics 620</td>\n",
              "      <td>Windows 10</td>\n",
              "      <td>2.04</td>\n",
              "      <td>1366x768</td>\n",
              "      <td>NaN</td>\n",
              "      <td>False</td>\n",
              "      <td>2.7</td>\n",
              "      <td>2000.0</td>\n",
              "      <td>HDD</td>\n",
              "      <td>0.0</td>\n",
              "      <td>NaN</td>\n",
              "      <td>6.444131</td>\n",
              "    </tr>\n",
              "    <tr>\n",
              "      <th>1130</th>\n",
              "      <td>HP</td>\n",
              "      <td>Pavilion 15-AW003nv</td>\n",
              "      <td>Notebook</td>\n",
              "      <td>15.6</td>\n",
              "      <td>AMD A9-Series 9410</td>\n",
              "      <td>6</td>\n",
              "      <td>AMD Radeon R7 M440</td>\n",
              "      <td>Windows 10</td>\n",
              "      <td>2.04</td>\n",
              "      <td>1920x1080</td>\n",
              "      <td>NaN</td>\n",
              "      <td>False</td>\n",
              "      <td>2.9</td>\n",
              "      <td>1000.0</td>\n",
              "      <td>Hybrid</td>\n",
              "      <td>0.0</td>\n",
              "      <td>NaN</td>\n",
              "      <td>6.309900</td>\n",
              "    </tr>\n",
              "    <tr>\n",
              "      <th>1131</th>\n",
              "      <td>Lenovo</td>\n",
              "      <td>ThinkPad E570</td>\n",
              "      <td>Notebook</td>\n",
              "      <td>15.6</td>\n",
              "      <td>Intel Core i5 7200U</td>\n",
              "      <td>8</td>\n",
              "      <td>Intel HD Graphics 620</td>\n",
              "      <td>Windows 10</td>\n",
              "      <td>2.30</td>\n",
              "      <td>1920x1080</td>\n",
              "      <td>IPSPanel</td>\n",
              "      <td>False</td>\n",
              "      <td>2.5</td>\n",
              "      <td>1000.0</td>\n",
              "      <td>HDD</td>\n",
              "      <td>0.0</td>\n",
              "      <td>NaN</td>\n",
              "      <td>6.746013</td>\n",
              "    </tr>\n",
              "  </tbody>\n",
              "</table>\n",
              "<p>1132 rows × 18 columns</p>\n",
              "</div>\n",
              "      <button class=\"colab-df-convert\" onclick=\"convertToInteractive('df-28598ca5-ed5e-4951-9f4b-2a7b555e7086')\"\n",
              "              title=\"Convert this dataframe to an interactive table.\"\n",
              "              style=\"display:none;\">\n",
              "        \n",
              "  <svg xmlns=\"http://www.w3.org/2000/svg\" height=\"24px\"viewBox=\"0 0 24 24\"\n",
              "       width=\"24px\">\n",
              "    <path d=\"M0 0h24v24H0V0z\" fill=\"none\"/>\n",
              "    <path d=\"M18.56 5.44l.94 2.06.94-2.06 2.06-.94-2.06-.94-.94-2.06-.94 2.06-2.06.94zm-11 1L8.5 8.5l.94-2.06 2.06-.94-2.06-.94L8.5 2.5l-.94 2.06-2.06.94zm10 10l.94 2.06.94-2.06 2.06-.94-2.06-.94-.94-2.06-.94 2.06-2.06.94z\"/><path d=\"M17.41 7.96l-1.37-1.37c-.4-.4-.92-.59-1.43-.59-.52 0-1.04.2-1.43.59L10.3 9.45l-7.72 7.72c-.78.78-.78 2.05 0 2.83L4 21.41c.39.39.9.59 1.41.59.51 0 1.02-.2 1.41-.59l7.78-7.78 2.81-2.81c.8-.78.8-2.07 0-2.86zM5.41 20L4 18.59l7.72-7.72 1.47 1.35L5.41 20z\"/>\n",
              "  </svg>\n",
              "      </button>\n",
              "      \n",
              "  <style>\n",
              "    .colab-df-container {\n",
              "      display:flex;\n",
              "      flex-wrap:wrap;\n",
              "      gap: 12px;\n",
              "    }\n",
              "\n",
              "    .colab-df-convert {\n",
              "      background-color: #E8F0FE;\n",
              "      border: none;\n",
              "      border-radius: 50%;\n",
              "      cursor: pointer;\n",
              "      display: none;\n",
              "      fill: #1967D2;\n",
              "      height: 32px;\n",
              "      padding: 0 0 0 0;\n",
              "      width: 32px;\n",
              "    }\n",
              "\n",
              "    .colab-df-convert:hover {\n",
              "      background-color: #E2EBFA;\n",
              "      box-shadow: 0px 1px 2px rgba(60, 64, 67, 0.3), 0px 1px 3px 1px rgba(60, 64, 67, 0.15);\n",
              "      fill: #174EA6;\n",
              "    }\n",
              "\n",
              "    [theme=dark] .colab-df-convert {\n",
              "      background-color: #3B4455;\n",
              "      fill: #D2E3FC;\n",
              "    }\n",
              "\n",
              "    [theme=dark] .colab-df-convert:hover {\n",
              "      background-color: #434B5C;\n",
              "      box-shadow: 0px 1px 3px 1px rgba(0, 0, 0, 0.15);\n",
              "      filter: drop-shadow(0px 1px 2px rgba(0, 0, 0, 0.3));\n",
              "      fill: #FFFFFF;\n",
              "    }\n",
              "  </style>\n",
              "\n",
              "      <script>\n",
              "        const buttonEl =\n",
              "          document.querySelector('#df-28598ca5-ed5e-4951-9f4b-2a7b555e7086 button.colab-df-convert');\n",
              "        buttonEl.style.display =\n",
              "          google.colab.kernel.accessAllowed ? 'block' : 'none';\n",
              "\n",
              "        async function convertToInteractive(key) {\n",
              "          const element = document.querySelector('#df-28598ca5-ed5e-4951-9f4b-2a7b555e7086');\n",
              "          const dataTable =\n",
              "            await google.colab.kernel.invokeFunction('convertToInteractive',\n",
              "                                                     [key], {});\n",
              "          if (!dataTable) return;\n",
              "\n",
              "          const docLinkHtml = 'Like what you see? Visit the ' +\n",
              "            '<a target=\"_blank\" href=https://colab.research.google.com/notebooks/data_table.ipynb>data table notebook</a>'\n",
              "            + ' to learn more about interactive tables.';\n",
              "          element.innerHTML = '';\n",
              "          dataTable['output_type'] = 'display_data';\n",
              "          await google.colab.output.renderOutput(dataTable, element);\n",
              "          const docLink = document.createElement('div');\n",
              "          docLink.innerHTML = docLinkHtml;\n",
              "          element.appendChild(docLink);\n",
              "        }\n",
              "      </script>\n",
              "    </div>\n",
              "  </div>\n",
              "  "
            ]
          },
          "metadata": {},
          "execution_count": 331
        }
      ]
    },
    {
      "cell_type": "code",
      "source": [
        "# One hot encoding\n",
        "dummLev = pd.get_dummies(df[catFeatures], drop_first=True)\n",
        "\n",
        "# Połączenie zmiennych numerycznych, kategorycznych w postaci on hot encoding oraz targetu\n",
        "df = pd.concat([df[numericFeatures], dummLev, df[[target]]], axis=1)\n",
        "\n",
        "df[numericFeatures] = df[numericFeatures].apply(lambda x: (x-x.mean())/x.std())"
      ],
      "metadata": {
        "id": "SM_iuwpF8gd0"
      },
      "id": "SM_iuwpF8gd0",
      "execution_count": 332,
      "outputs": []
    },
    {
      "cell_type": "code",
      "source": [
        "df[numericFeatures] = df[numericFeatures].apply(lambda x: (x-x.mean())/x.std())"
      ],
      "metadata": {
        "id": "RljeNkOl8jsJ"
      },
      "id": "RljeNkOl8jsJ",
      "execution_count": 333,
      "outputs": []
    },
    {
      "cell_type": "code",
      "source": [
        "features = df.columns.tolist()\n",
        "features.remove(target)"
      ],
      "metadata": {
        "id": "u3CYi66C8m1v"
      },
      "id": "u3CYi66C8m1v",
      "execution_count": 334,
      "outputs": []
    },
    {
      "cell_type": "code",
      "source": [
        "df"
      ],
      "metadata": {
        "id": "XKCs3p_786wm",
        "outputId": "f9841a24-911f-47bc-f0d0-4fc5a98d5ba2",
        "colab": {
          "base_uri": "https://localhost:8080/",
          "height": 488
        }
      },
      "id": "XKCs3p_786wm",
      "execution_count": 335,
      "outputs": [
        {
          "output_type": "execute_result",
          "data": {
            "text/plain": [
              "        inches   ram(GB)  weight(kg)  cpu(GHz)  memory_1_storage_gb  \\\n",
              "0     0.391592 -0.474786    0.379054  0.190372             1.610548   \n",
              "1     0.391592 -0.053251    0.688120  0.391249            -0.541155   \n",
              "2    -1.271621 -0.053251   -1.320809 -1.014891            -0.541155   \n",
              "3    -1.271621 -0.053251   -1.320809 -2.822787             0.199216   \n",
              "4     0.391592 -0.896322    0.301787 -0.613137             1.610548   \n",
              "...        ...       ...         ...       ...                  ...   \n",
              "1127 -0.765426 -0.896322   -0.795397 -0.010505             0.164511   \n",
              "1128  0.391592 -0.053251    0.533587  0.391249            -0.541155   \n",
              "1129  0.391592 -0.053251   -0.022732  0.793004             4.502623   \n",
              "1130  0.391592 -0.474786   -0.022732  1.194758             1.610548   \n",
              "1131  0.391592 -0.053251    0.379054  0.391249             1.610548   \n",
              "\n",
              "      memory_2_storage_gb  touchscreen  company_Apple  company_Asus  \\\n",
              "0               -0.427352        False              0             0   \n",
              "1               -0.427352        False              0             0   \n",
              "2               -0.427352        False              0             0   \n",
              "3               -0.427352        False              0             1   \n",
              "4               -0.427352        False              0             0   \n",
              "...                   ...          ...            ...           ...   \n",
              "1127            -0.427352        False              0             0   \n",
              "1128             2.027998        False              0             0   \n",
              "1129            -0.427352        False              0             0   \n",
              "1130            -0.427352        False              0             0   \n",
              "1131            -0.427352        False              0             0   \n",
              "\n",
              "      company_Chuwi  ...  resolution_2560x1600  resolution_3200x1800  \\\n",
              "0                 0  ...                     0                     0   \n",
              "1                 0  ...                     0                     0   \n",
              "2                 0  ...                     0                     0   \n",
              "3                 0  ...                     0                     0   \n",
              "4                 0  ...                     0                     0   \n",
              "...             ...  ...                   ...                   ...   \n",
              "1127              0  ...                     0                     0   \n",
              "1128              0  ...                     0                     0   \n",
              "1129              0  ...                     0                     0   \n",
              "1130              0  ...                     0                     0   \n",
              "1131              0  ...                     0                     0   \n",
              "\n",
              "      resolution_3840x2160  screentype_IPSPanelRetinaDisplay  \\\n",
              "0                        0                                 0   \n",
              "1                        0                                 0   \n",
              "2                        0                                 0   \n",
              "3                        0                                 0   \n",
              "4                        0                                 0   \n",
              "...                    ...                               ...   \n",
              "1127                     0                                 0   \n",
              "1128                     0                                 0   \n",
              "1129                     0                                 0   \n",
              "1130                     0                                 0   \n",
              "1131                     0                                 0   \n",
              "\n",
              "      memory_1_type_HDD  memory_1_type_Hybrid  memory_1_type_SSD  \\\n",
              "0                     1                     0                  0   \n",
              "1                     0                     0                  1   \n",
              "2                     0                     0                  1   \n",
              "3                     0                     0                  1   \n",
              "4                     1                     0                  0   \n",
              "...                 ...                   ...                ...   \n",
              "1127                  1                     0                  0   \n",
              "1128                  0                     0                  1   \n",
              "1129                  1                     0                  0   \n",
              "1130                  0                     1                  0   \n",
              "1131                  1                     0                  0   \n",
              "\n",
              "      memory_2_type_Hybrid  memory_2_type_SSD  log_price  \n",
              "0                        0                  0   6.129050  \n",
              "1                        0                  0   6.720220  \n",
              "2                        0                  0   7.364547  \n",
              "3                        0                  0   6.591674  \n",
              "4                        0                  0   6.143370  \n",
              "...                    ...                ...        ...  \n",
              "1127                     0                  0   6.907755  \n",
              "1128                     0                  0   6.683361  \n",
              "1129                     0                  0   6.444131  \n",
              "1130                     0                  0   6.309900  \n",
              "1131                     0                  0   6.746013  \n",
              "\n",
              "[1132 rows x 781 columns]"
            ],
            "text/html": [
              "\n",
              "  <div id=\"df-35a021a9-3f29-4585-a210-4e5d106b7574\">\n",
              "    <div class=\"colab-df-container\">\n",
              "      <div>\n",
              "<style scoped>\n",
              "    .dataframe tbody tr th:only-of-type {\n",
              "        vertical-align: middle;\n",
              "    }\n",
              "\n",
              "    .dataframe tbody tr th {\n",
              "        vertical-align: top;\n",
              "    }\n",
              "\n",
              "    .dataframe thead th {\n",
              "        text-align: right;\n",
              "    }\n",
              "</style>\n",
              "<table border=\"1\" class=\"dataframe\">\n",
              "  <thead>\n",
              "    <tr style=\"text-align: right;\">\n",
              "      <th></th>\n",
              "      <th>inches</th>\n",
              "      <th>ram(GB)</th>\n",
              "      <th>weight(kg)</th>\n",
              "      <th>cpu(GHz)</th>\n",
              "      <th>memory_1_storage_gb</th>\n",
              "      <th>memory_2_storage_gb</th>\n",
              "      <th>touchscreen</th>\n",
              "      <th>company_Apple</th>\n",
              "      <th>company_Asus</th>\n",
              "      <th>company_Chuwi</th>\n",
              "      <th>...</th>\n",
              "      <th>resolution_2560x1600</th>\n",
              "      <th>resolution_3200x1800</th>\n",
              "      <th>resolution_3840x2160</th>\n",
              "      <th>screentype_IPSPanelRetinaDisplay</th>\n",
              "      <th>memory_1_type_HDD</th>\n",
              "      <th>memory_1_type_Hybrid</th>\n",
              "      <th>memory_1_type_SSD</th>\n",
              "      <th>memory_2_type_Hybrid</th>\n",
              "      <th>memory_2_type_SSD</th>\n",
              "      <th>log_price</th>\n",
              "    </tr>\n",
              "  </thead>\n",
              "  <tbody>\n",
              "    <tr>\n",
              "      <th>0</th>\n",
              "      <td>0.391592</td>\n",
              "      <td>-0.474786</td>\n",
              "      <td>0.379054</td>\n",
              "      <td>0.190372</td>\n",
              "      <td>1.610548</td>\n",
              "      <td>-0.427352</td>\n",
              "      <td>False</td>\n",
              "      <td>0</td>\n",
              "      <td>0</td>\n",
              "      <td>0</td>\n",
              "      <td>...</td>\n",
              "      <td>0</td>\n",
              "      <td>0</td>\n",
              "      <td>0</td>\n",
              "      <td>0</td>\n",
              "      <td>1</td>\n",
              "      <td>0</td>\n",
              "      <td>0</td>\n",
              "      <td>0</td>\n",
              "      <td>0</td>\n",
              "      <td>6.129050</td>\n",
              "    </tr>\n",
              "    <tr>\n",
              "      <th>1</th>\n",
              "      <td>0.391592</td>\n",
              "      <td>-0.053251</td>\n",
              "      <td>0.688120</td>\n",
              "      <td>0.391249</td>\n",
              "      <td>-0.541155</td>\n",
              "      <td>-0.427352</td>\n",
              "      <td>False</td>\n",
              "      <td>0</td>\n",
              "      <td>0</td>\n",
              "      <td>0</td>\n",
              "      <td>...</td>\n",
              "      <td>0</td>\n",
              "      <td>0</td>\n",
              "      <td>0</td>\n",
              "      <td>0</td>\n",
              "      <td>0</td>\n",
              "      <td>0</td>\n",
              "      <td>1</td>\n",
              "      <td>0</td>\n",
              "      <td>0</td>\n",
              "      <td>6.720220</td>\n",
              "    </tr>\n",
              "    <tr>\n",
              "      <th>2</th>\n",
              "      <td>-1.271621</td>\n",
              "      <td>-0.053251</td>\n",
              "      <td>-1.320809</td>\n",
              "      <td>-1.014891</td>\n",
              "      <td>-0.541155</td>\n",
              "      <td>-0.427352</td>\n",
              "      <td>False</td>\n",
              "      <td>0</td>\n",
              "      <td>0</td>\n",
              "      <td>0</td>\n",
              "      <td>...</td>\n",
              "      <td>0</td>\n",
              "      <td>0</td>\n",
              "      <td>0</td>\n",
              "      <td>0</td>\n",
              "      <td>0</td>\n",
              "      <td>0</td>\n",
              "      <td>1</td>\n",
              "      <td>0</td>\n",
              "      <td>0</td>\n",
              "      <td>7.364547</td>\n",
              "    </tr>\n",
              "    <tr>\n",
              "      <th>3</th>\n",
              "      <td>-1.271621</td>\n",
              "      <td>-0.053251</td>\n",
              "      <td>-1.320809</td>\n",
              "      <td>-2.822787</td>\n",
              "      <td>0.199216</td>\n",
              "      <td>-0.427352</td>\n",
              "      <td>False</td>\n",
              "      <td>0</td>\n",
              "      <td>1</td>\n",
              "      <td>0</td>\n",
              "      <td>...</td>\n",
              "      <td>0</td>\n",
              "      <td>0</td>\n",
              "      <td>0</td>\n",
              "      <td>0</td>\n",
              "      <td>0</td>\n",
              "      <td>0</td>\n",
              "      <td>1</td>\n",
              "      <td>0</td>\n",
              "      <td>0</td>\n",
              "      <td>6.591674</td>\n",
              "    </tr>\n",
              "    <tr>\n",
              "      <th>4</th>\n",
              "      <td>0.391592</td>\n",
              "      <td>-0.896322</td>\n",
              "      <td>0.301787</td>\n",
              "      <td>-0.613137</td>\n",
              "      <td>1.610548</td>\n",
              "      <td>-0.427352</td>\n",
              "      <td>False</td>\n",
              "      <td>0</td>\n",
              "      <td>0</td>\n",
              "      <td>0</td>\n",
              "      <td>...</td>\n",
              "      <td>0</td>\n",
              "      <td>0</td>\n",
              "      <td>0</td>\n",
              "      <td>0</td>\n",
              "      <td>1</td>\n",
              "      <td>0</td>\n",
              "      <td>0</td>\n",
              "      <td>0</td>\n",
              "      <td>0</td>\n",
              "      <td>6.143370</td>\n",
              "    </tr>\n",
              "    <tr>\n",
              "      <th>...</th>\n",
              "      <td>...</td>\n",
              "      <td>...</td>\n",
              "      <td>...</td>\n",
              "      <td>...</td>\n",
              "      <td>...</td>\n",
              "      <td>...</td>\n",
              "      <td>...</td>\n",
              "      <td>...</td>\n",
              "      <td>...</td>\n",
              "      <td>...</td>\n",
              "      <td>...</td>\n",
              "      <td>...</td>\n",
              "      <td>...</td>\n",
              "      <td>...</td>\n",
              "      <td>...</td>\n",
              "      <td>...</td>\n",
              "      <td>...</td>\n",
              "      <td>...</td>\n",
              "      <td>...</td>\n",
              "      <td>...</td>\n",
              "      <td>...</td>\n",
              "    </tr>\n",
              "    <tr>\n",
              "      <th>1127</th>\n",
              "      <td>-0.765426</td>\n",
              "      <td>-0.896322</td>\n",
              "      <td>-0.795397</td>\n",
              "      <td>-0.010505</td>\n",
              "      <td>0.164511</td>\n",
              "      <td>-0.427352</td>\n",
              "      <td>False</td>\n",
              "      <td>0</td>\n",
              "      <td>0</td>\n",
              "      <td>0</td>\n",
              "      <td>...</td>\n",
              "      <td>0</td>\n",
              "      <td>0</td>\n",
              "      <td>0</td>\n",
              "      <td>0</td>\n",
              "      <td>1</td>\n",
              "      <td>0</td>\n",
              "      <td>0</td>\n",
              "      <td>0</td>\n",
              "      <td>0</td>\n",
              "      <td>6.907755</td>\n",
              "    </tr>\n",
              "    <tr>\n",
              "      <th>1128</th>\n",
              "      <td>0.391592</td>\n",
              "      <td>-0.053251</td>\n",
              "      <td>0.533587</td>\n",
              "      <td>0.391249</td>\n",
              "      <td>-0.541155</td>\n",
              "      <td>2.027998</td>\n",
              "      <td>False</td>\n",
              "      <td>0</td>\n",
              "      <td>0</td>\n",
              "      <td>0</td>\n",
              "      <td>...</td>\n",
              "      <td>0</td>\n",
              "      <td>0</td>\n",
              "      <td>0</td>\n",
              "      <td>0</td>\n",
              "      <td>0</td>\n",
              "      <td>0</td>\n",
              "      <td>1</td>\n",
              "      <td>0</td>\n",
              "      <td>0</td>\n",
              "      <td>6.683361</td>\n",
              "    </tr>\n",
              "    <tr>\n",
              "      <th>1129</th>\n",
              "      <td>0.391592</td>\n",
              "      <td>-0.053251</td>\n",
              "      <td>-0.022732</td>\n",
              "      <td>0.793004</td>\n",
              "      <td>4.502623</td>\n",
              "      <td>-0.427352</td>\n",
              "      <td>False</td>\n",
              "      <td>0</td>\n",
              "      <td>0</td>\n",
              "      <td>0</td>\n",
              "      <td>...</td>\n",
              "      <td>0</td>\n",
              "      <td>0</td>\n",
              "      <td>0</td>\n",
              "      <td>0</td>\n",
              "      <td>1</td>\n",
              "      <td>0</td>\n",
              "      <td>0</td>\n",
              "      <td>0</td>\n",
              "      <td>0</td>\n",
              "      <td>6.444131</td>\n",
              "    </tr>\n",
              "    <tr>\n",
              "      <th>1130</th>\n",
              "      <td>0.391592</td>\n",
              "      <td>-0.474786</td>\n",
              "      <td>-0.022732</td>\n",
              "      <td>1.194758</td>\n",
              "      <td>1.610548</td>\n",
              "      <td>-0.427352</td>\n",
              "      <td>False</td>\n",
              "      <td>0</td>\n",
              "      <td>0</td>\n",
              "      <td>0</td>\n",
              "      <td>...</td>\n",
              "      <td>0</td>\n",
              "      <td>0</td>\n",
              "      <td>0</td>\n",
              "      <td>0</td>\n",
              "      <td>0</td>\n",
              "      <td>1</td>\n",
              "      <td>0</td>\n",
              "      <td>0</td>\n",
              "      <td>0</td>\n",
              "      <td>6.309900</td>\n",
              "    </tr>\n",
              "    <tr>\n",
              "      <th>1131</th>\n",
              "      <td>0.391592</td>\n",
              "      <td>-0.053251</td>\n",
              "      <td>0.379054</td>\n",
              "      <td>0.391249</td>\n",
              "      <td>1.610548</td>\n",
              "      <td>-0.427352</td>\n",
              "      <td>False</td>\n",
              "      <td>0</td>\n",
              "      <td>0</td>\n",
              "      <td>0</td>\n",
              "      <td>...</td>\n",
              "      <td>0</td>\n",
              "      <td>0</td>\n",
              "      <td>0</td>\n",
              "      <td>0</td>\n",
              "      <td>1</td>\n",
              "      <td>0</td>\n",
              "      <td>0</td>\n",
              "      <td>0</td>\n",
              "      <td>0</td>\n",
              "      <td>6.746013</td>\n",
              "    </tr>\n",
              "  </tbody>\n",
              "</table>\n",
              "<p>1132 rows × 781 columns</p>\n",
              "</div>\n",
              "      <button class=\"colab-df-convert\" onclick=\"convertToInteractive('df-35a021a9-3f29-4585-a210-4e5d106b7574')\"\n",
              "              title=\"Convert this dataframe to an interactive table.\"\n",
              "              style=\"display:none;\">\n",
              "        \n",
              "  <svg xmlns=\"http://www.w3.org/2000/svg\" height=\"24px\"viewBox=\"0 0 24 24\"\n",
              "       width=\"24px\">\n",
              "    <path d=\"M0 0h24v24H0V0z\" fill=\"none\"/>\n",
              "    <path d=\"M18.56 5.44l.94 2.06.94-2.06 2.06-.94-2.06-.94-.94-2.06-.94 2.06-2.06.94zm-11 1L8.5 8.5l.94-2.06 2.06-.94-2.06-.94L8.5 2.5l-.94 2.06-2.06.94zm10 10l.94 2.06.94-2.06 2.06-.94-2.06-.94-.94-2.06-.94 2.06-2.06.94z\"/><path d=\"M17.41 7.96l-1.37-1.37c-.4-.4-.92-.59-1.43-.59-.52 0-1.04.2-1.43.59L10.3 9.45l-7.72 7.72c-.78.78-.78 2.05 0 2.83L4 21.41c.39.39.9.59 1.41.59.51 0 1.02-.2 1.41-.59l7.78-7.78 2.81-2.81c.8-.78.8-2.07 0-2.86zM5.41 20L4 18.59l7.72-7.72 1.47 1.35L5.41 20z\"/>\n",
              "  </svg>\n",
              "      </button>\n",
              "      \n",
              "  <style>\n",
              "    .colab-df-container {\n",
              "      display:flex;\n",
              "      flex-wrap:wrap;\n",
              "      gap: 12px;\n",
              "    }\n",
              "\n",
              "    .colab-df-convert {\n",
              "      background-color: #E8F0FE;\n",
              "      border: none;\n",
              "      border-radius: 50%;\n",
              "      cursor: pointer;\n",
              "      display: none;\n",
              "      fill: #1967D2;\n",
              "      height: 32px;\n",
              "      padding: 0 0 0 0;\n",
              "      width: 32px;\n",
              "    }\n",
              "\n",
              "    .colab-df-convert:hover {\n",
              "      background-color: #E2EBFA;\n",
              "      box-shadow: 0px 1px 2px rgba(60, 64, 67, 0.3), 0px 1px 3px 1px rgba(60, 64, 67, 0.15);\n",
              "      fill: #174EA6;\n",
              "    }\n",
              "\n",
              "    [theme=dark] .colab-df-convert {\n",
              "      background-color: #3B4455;\n",
              "      fill: #D2E3FC;\n",
              "    }\n",
              "\n",
              "    [theme=dark] .colab-df-convert:hover {\n",
              "      background-color: #434B5C;\n",
              "      box-shadow: 0px 1px 3px 1px rgba(0, 0, 0, 0.15);\n",
              "      filter: drop-shadow(0px 1px 2px rgba(0, 0, 0, 0.3));\n",
              "      fill: #FFFFFF;\n",
              "    }\n",
              "  </style>\n",
              "\n",
              "      <script>\n",
              "        const buttonEl =\n",
              "          document.querySelector('#df-35a021a9-3f29-4585-a210-4e5d106b7574 button.colab-df-convert');\n",
              "        buttonEl.style.display =\n",
              "          google.colab.kernel.accessAllowed ? 'block' : 'none';\n",
              "\n",
              "        async function convertToInteractive(key) {\n",
              "          const element = document.querySelector('#df-35a021a9-3f29-4585-a210-4e5d106b7574');\n",
              "          const dataTable =\n",
              "            await google.colab.kernel.invokeFunction('convertToInteractive',\n",
              "                                                     [key], {});\n",
              "          if (!dataTable) return;\n",
              "\n",
              "          const docLinkHtml = 'Like what you see? Visit the ' +\n",
              "            '<a target=\"_blank\" href=https://colab.research.google.com/notebooks/data_table.ipynb>data table notebook</a>'\n",
              "            + ' to learn more about interactive tables.';\n",
              "          element.innerHTML = '';\n",
              "          dataTable['output_type'] = 'display_data';\n",
              "          await google.colab.output.renderOutput(dataTable, element);\n",
              "          const docLink = document.createElement('div');\n",
              "          docLink.innerHTML = docLinkHtml;\n",
              "          element.appendChild(docLink);\n",
              "        }\n",
              "      </script>\n",
              "    </div>\n",
              "  </div>\n",
              "  "
            ]
          },
          "metadata": {},
          "execution_count": 335
        }
      ]
    },
    {
      "cell_type": "code",
      "source": [
        "#X=df.drop('log_price', axis = 1).values\n",
        "#y=df['log_price'].values"
      ],
      "metadata": {
        "id": "s9wD6jtgwwfC"
      },
      "id": "s9wD6jtgwwfC",
      "execution_count": 336,
      "outputs": []
    },
    {
      "cell_type": "code",
      "source": [
        "features = df.columns.tolist()\n",
        "features.remove(target)"
      ],
      "metadata": {
        "id": "53Zq1MKYRNzY"
      },
      "id": "53Zq1MKYRNzY",
      "execution_count": null,
      "outputs": []
    },
    {
      "cell_type": "markdown",
      "source": [
        "# Neural network"
      ],
      "metadata": {
        "id": "vM_bgNF6fRmN"
      },
      "id": "vM_bgNF6fRmN"
    },
    {
      "cell_type": "code",
      "source": [
        "import pandas as pd\n",
        "import numpy as np\n",
        "import os\n",
        "import shutil\n",
        "import pickle as pk\n",
        "import matplotlib.pyplot as plt\n",
        "\n",
        "from sklearn.model_selection import train_test_split\n",
        "from sklearn.preprocessing import StandardScaler\n",
        "\n",
        "from keras import models\n",
        "from keras import layers\n",
        "from keras.callbacks import EarlyStopping, ModelCheckpoint\n",
        "from keras.models import load_model\n",
        "\n",
        "from sklearn import metrics"
      ],
      "metadata": {
        "id": "JkyhweRaRMkR"
      },
      "id": "JkyhweRaRMkR",
      "execution_count": 411,
      "outputs": []
    },
    {
      "cell_type": "code",
      "source": [
        "x = df.drop('log_price', axis=1)\n",
        "y = df['log_price']"
      ],
      "metadata": {
        "id": "9GlYXAeuQz6H"
      },
      "id": "9GlYXAeuQz6H",
      "execution_count": 412,
      "outputs": []
    },
    {
      "cell_type": "code",
      "source": [
        "train_ratio = 0.70\n",
        "validation_ratio = 0.15\n",
        "test_ratio = 0.15\n",
        "\n",
        "# Generate TrainX and TrainY\n",
        "trainX, testX, trainY, testY = train_test_split(x, y, test_size= 1 - train_ratio)\n",
        "# Genearate ValX, TestX, ValY and TestY\n",
        "valX, testX, valY, testY = train_test_split(testX, testY, test_size=test_ratio/(test_ratio + validation_ratio))"
      ],
      "metadata": {
        "id": "QWYljmjhNXfh"
      },
      "id": "QWYljmjhNXfh",
      "execution_count": 413,
      "outputs": []
    },
    {
      "cell_type": "code",
      "source": [
        "print(trainX.shape)\n",
        "print(valX.shape)\n",
        "print(testX.shape)"
      ],
      "metadata": {
        "id": "Xx7lDjz8NI2j",
        "outputId": "3c23cd00-3c61-4d67-9854-6d620470ab18",
        "colab": {
          "base_uri": "https://localhost:8080/"
        }
      },
      "id": "Xx7lDjz8NI2j",
      "execution_count": 414,
      "outputs": [
        {
          "output_type": "stream",
          "name": "stdout",
          "text": [
            "(792, 780)\n",
            "(170, 780)\n",
            "(170, 780)\n"
          ]
        }
      ]
    },
    {
      "cell_type": "code",
      "source": [
        "sc=StandardScaler()\n",
        "\n",
        "scaler = sc.fit(trainX)\n",
        "\n",
        "trainX_scaled = scaler.transform(trainX)\n",
        "valX_scaled = scaler.transform(valX)\n",
        "testX_scaled = scaler.transform(testX)"
      ],
      "metadata": {
        "id": "eO5crVElRBRj"
      },
      "id": "eO5crVElRBRj",
      "execution_count": 415,
      "outputs": []
    },
    {
      "cell_type": "code",
      "source": [
        "checkpoint_no = 'ckpt_1_ANN'\n",
        "model_name = 'House_ANN_2FC_F64_64_epoch_120'"
      ],
      "metadata": {
        "id": "sATelL_lRDoc"
      },
      "id": "sATelL_lRDoc",
      "execution_count": 416,
      "outputs": []
    },
    {
      "cell_type": "code",
      "source": [
        "input_shape = trainX.shape[1]\n",
        "\n",
        "n_batch_size = 128\n",
        "\n",
        "n_steps_per_epoch = int(trainX.shape[0] / n_batch_size)\n",
        "n_validation_steps = int(valX.shape[0] / n_batch_size)\n",
        "n_test_steps = int(testX.shape[0] / n_batch_size)\n",
        "\n",
        "n_epochs = 120\n",
        "\n",
        "\n",
        "print('Input Shape: ' + str(input_shape))\n",
        "print('Batch Size: ' + str(n_batch_size))\n",
        "print()\n",
        "print('Steps per Epoch: ' + str(n_steps_per_epoch))\n",
        "print()\n",
        "print('Validation Steps: ' + str(n_validation_steps))\n",
        "print('Test Steps: ' + str(n_test_steps))\n",
        "print()\n",
        "print('Number of Epochs: ' + str(n_epochs))"
      ],
      "metadata": {
        "id": "GQibbPgCRFLs",
        "outputId": "bc210746-3f9d-4817-bcc6-a8ac94947bc3",
        "colab": {
          "base_uri": "https://localhost:8080/"
        }
      },
      "id": "GQibbPgCRFLs",
      "execution_count": 417,
      "outputs": [
        {
          "output_type": "stream",
          "name": "stdout",
          "text": [
            "Input Shape: 780\n",
            "Batch Size: 128\n",
            "\n",
            "Steps per Epoch: 6\n",
            "\n",
            "Validation Steps: 1\n",
            "Test Steps: 1\n",
            "\n",
            "Number of Epochs: 120\n"
          ]
        }
      ]
    },
    {
      "cell_type": "code",
      "source": [
        "model = models.Sequential()\n",
        "model.add(layers.Dense(64, activation='relu', input_shape=(input_shape,)))\n",
        "model.add(layers.Dense(64, activation='relu'))\n",
        "model.add(layers.Dense(1))"
      ],
      "metadata": {
        "id": "Ty4hscn6RHou"
      },
      "id": "Ty4hscn6RHou",
      "execution_count": 418,
      "outputs": []
    },
    {
      "cell_type": "code",
      "source": [
        "model.summary()"
      ],
      "metadata": {
        "id": "28Fj-kK5RSc_",
        "outputId": "dbc409a8-d383-45c5-c3d1-fc54e336db9a",
        "colab": {
          "base_uri": "https://localhost:8080/"
        }
      },
      "id": "28Fj-kK5RSc_",
      "execution_count": 419,
      "outputs": [
        {
          "output_type": "stream",
          "name": "stdout",
          "text": [
            "Model: \"sequential_77\"\n",
            "_________________________________________________________________\n",
            " Layer (type)                Output Shape              Param #   \n",
            "=================================================================\n",
            " dense_219 (Dense)           (None, 64)                49984     \n",
            "                                                                 \n",
            " dense_220 (Dense)           (None, 64)                4160      \n",
            "                                                                 \n",
            " dense_221 (Dense)           (None, 1)                 65        \n",
            "                                                                 \n",
            "=================================================================\n",
            "Total params: 54,209\n",
            "Trainable params: 54,209\n",
            "Non-trainable params: 0\n",
            "_________________________________________________________________\n"
          ]
        }
      ]
    },
    {
      "cell_type": "code",
      "source": [
        "model.compile(loss='mse',\n",
        "              optimizer='rmsprop',\n",
        "              metrics=['mae'])"
      ],
      "metadata": {
        "id": "qvCtZqvSRUlt"
      },
      "id": "qvCtZqvSRUlt",
      "execution_count": 420,
      "outputs": []
    },
    {
      "cell_type": "code",
      "source": [
        "checkpoint_dir = './'+ checkpoint_no\n",
        "if not os.path.exists(checkpoint_dir):\n",
        "    os.makedirs(checkpoint_dir)"
      ],
      "metadata": {
        "id": "8Q8FmiYARdOv"
      },
      "id": "8Q8FmiYARdOv",
      "execution_count": 421,
      "outputs": []
    },
    {
      "cell_type": "code",
      "source": [
        "keras_callbacks = [ModelCheckpoint(filepath = checkpoint_dir + '/' + model_name, \n",
        "                                   monitor='val_loss', save_best_only=True, mode='auto')]"
      ],
      "metadata": {
        "id": "2pUSsPQdRdng"
      },
      "id": "2pUSsPQdRdng",
      "execution_count": 422,
      "outputs": []
    },
    {
      "cell_type": "code",
      "source": [
        "history = model.fit(trainX_scaled,\n",
        "                    trainY,\n",
        "                    steps_per_epoch=n_steps_per_epoch,\n",
        "                    epochs=n_epochs,\n",
        "                    batch_size=n_batch_size,\n",
        "                    validation_data=(valX_scaled, valY),\n",
        "                    validation_steps=n_validation_steps,\n",
        "                    callbacks=[keras_callbacks])"
      ],
      "metadata": {
        "id": "ASb6NX2eRhk8",
        "outputId": "7ac52517-eeba-45fb-e012-ce7172af17f9",
        "colab": {
          "base_uri": "https://localhost:8080/"
        }
      },
      "id": "ASb6NX2eRhk8",
      "execution_count": 423,
      "outputs": [
        {
          "output_type": "stream",
          "name": "stdout",
          "text": [
            "Epoch 1/120\n",
            "6/6 [==============================] - 3s 288ms/step - loss: 45.5109 - mae: 6.6523 - val_loss: 32.1655 - val_mae: 5.6180\n",
            "Epoch 2/120\n",
            "6/6 [==============================] - 1s 144ms/step - loss: 22.6067 - mae: 4.6295 - val_loss: 20.1633 - val_mae: 4.3949\n",
            "Epoch 3/120\n",
            "6/6 [==============================] - 1s 218ms/step - loss: 11.8551 - mae: 3.1891 - val_loss: 11.4269 - val_mae: 3.2215\n",
            "Epoch 4/120\n",
            "6/6 [==============================] - 1s 136ms/step - loss: 5.5592 - mae: 2.0551 - val_loss: 5.8503 - val_mae: 2.1879\n",
            "Epoch 5/120\n",
            "6/6 [==============================] - 1s 129ms/step - loss: 2.4549 - mae: 1.2898 - val_loss: 3.0774 - val_mae: 1.4632\n",
            "Epoch 6/120\n",
            "6/6 [==============================] - 1s 137ms/step - loss: 1.2786 - mae: 0.8764 - val_loss: 2.1536 - val_mae: 1.1600\n",
            "Epoch 7/120\n",
            "6/6 [==============================] - 1s 142ms/step - loss: 0.8443 - mae: 0.6923 - val_loss: 1.5406 - val_mae: 0.9505\n",
            "Epoch 8/120\n",
            "6/6 [==============================] - 1s 135ms/step - loss: 0.4844 - mae: 0.5039 - val_loss: 1.4194 - val_mae: 0.8859\n",
            "Epoch 9/120\n",
            "6/6 [==============================] - 1s 145ms/step - loss: 0.2960 - mae: 0.3712 - val_loss: 1.2822 - val_mae: 0.8306\n",
            "Epoch 10/120\n",
            "6/6 [==============================] - 1s 142ms/step - loss: 0.1933 - mae: 0.2921 - val_loss: 1.2306 - val_mae: 0.7957\n",
            "Epoch 11/120\n",
            "6/6 [==============================] - 1s 143ms/step - loss: 0.1541 - mae: 0.2465 - val_loss: 1.1207 - val_mae: 0.7568\n",
            "Epoch 12/120\n",
            "6/6 [==============================] - 1s 135ms/step - loss: 0.0949 - mae: 0.2043 - val_loss: 1.0883 - val_mae: 0.7366\n",
            "Epoch 13/120\n",
            "6/6 [==============================] - 1s 133ms/step - loss: 0.0750 - mae: 0.1766 - val_loss: 1.0644 - val_mae: 0.7276\n",
            "Epoch 14/120\n",
            "6/6 [==============================] - 1s 126ms/step - loss: 0.0568 - mae: 0.1710 - val_loss: 0.9485 - val_mae: 0.6806\n",
            "Epoch 15/120\n",
            "6/6 [==============================] - 1s 137ms/step - loss: 0.0973 - mae: 0.2501 - val_loss: 0.8417 - val_mae: 0.6496\n",
            "Epoch 16/120\n",
            "6/6 [==============================] - 0s 14ms/step - loss: 0.0986 - mae: 0.2534 - val_loss: 1.1394 - val_mae: 0.7539\n",
            "Epoch 17/120\n",
            "6/6 [==============================] - 0s 9ms/step - loss: 0.0579 - mae: 0.1911 - val_loss: 1.0951 - val_mae: 0.7526\n",
            "Epoch 18/120\n",
            "6/6 [==============================] - 0s 10ms/step - loss: 0.0453 - mae: 0.1668 - val_loss: 0.9827 - val_mae: 0.6916\n",
            "Epoch 19/120\n",
            "6/6 [==============================] - 0s 11ms/step - loss: 0.0885 - mae: 0.2298 - val_loss: 1.3660 - val_mae: 0.9107\n",
            "Epoch 20/120\n",
            "6/6 [==============================] - 0s 10ms/step - loss: 0.0781 - mae: 0.2245 - val_loss: 0.9953 - val_mae: 0.7099\n",
            "Epoch 21/120\n",
            "6/6 [==============================] - 0s 12ms/step - loss: 0.0727 - mae: 0.2089 - val_loss: 0.8645 - val_mae: 0.6464\n",
            "Epoch 22/120\n",
            "6/6 [==============================] - 0s 11ms/step - loss: 0.0656 - mae: 0.2092 - val_loss: 0.8943 - val_mae: 0.6558\n",
            "Epoch 23/120\n",
            "6/6 [==============================] - 1s 133ms/step - loss: 0.0795 - mae: 0.2223 - val_loss: 0.8221 - val_mae: 0.6499\n",
            "Epoch 24/120\n",
            "6/6 [==============================] - 0s 10ms/step - loss: 0.0535 - mae: 0.1830 - val_loss: 0.9598 - val_mae: 0.6902\n",
            "Epoch 25/120\n",
            "6/6 [==============================] - 0s 9ms/step - loss: 0.0645 - mae: 0.2070 - val_loss: 1.2871 - val_mae: 0.8605\n",
            "Epoch 26/120\n",
            "6/6 [==============================] - 0s 13ms/step - loss: 0.0658 - mae: 0.2102 - val_loss: 1.0307 - val_mae: 0.7236\n",
            "Epoch 27/120\n",
            "6/6 [==============================] - 1s 214ms/step - loss: 0.0545 - mae: 0.1853 - val_loss: 0.8167 - val_mae: 0.6265\n",
            "Epoch 28/120\n",
            "6/6 [==============================] - 0s 10ms/step - loss: 0.0816 - mae: 0.2377 - val_loss: 0.9036 - val_mae: 0.6681\n",
            "Epoch 29/120\n",
            "6/6 [==============================] - 1s 135ms/step - loss: 0.0682 - mae: 0.2140 - val_loss: 0.8032 - val_mae: 0.6171\n",
            "Epoch 30/120\n",
            "6/6 [==============================] - 0s 9ms/step - loss: 0.0590 - mae: 0.1955 - val_loss: 0.9147 - val_mae: 0.6781\n",
            "Epoch 31/120\n",
            "6/6 [==============================] - 0s 10ms/step - loss: 0.0580 - mae: 0.1894 - val_loss: 0.8950 - val_mae: 0.6651\n",
            "Epoch 32/120\n",
            "6/6 [==============================] - 0s 9ms/step - loss: 0.0614 - mae: 0.1927 - val_loss: 0.8162 - val_mae: 0.6559\n",
            "Epoch 33/120\n",
            "6/6 [==============================] - 0s 14ms/step - loss: 0.0681 - mae: 0.2097 - val_loss: 0.9165 - val_mae: 0.6849\n",
            "Epoch 34/120\n",
            "6/6 [==============================] - 0s 11ms/step - loss: 0.0587 - mae: 0.1908 - val_loss: 0.8847 - val_mae: 0.6509\n",
            "Epoch 35/120\n",
            "6/6 [==============================] - 0s 10ms/step - loss: 0.0462 - mae: 0.1715 - val_loss: 0.9011 - val_mae: 0.6754\n",
            "Epoch 36/120\n",
            "6/6 [==============================] - 0s 10ms/step - loss: 0.0659 - mae: 0.2063 - val_loss: 0.8880 - val_mae: 0.6615\n",
            "Epoch 37/120\n",
            "6/6 [==============================] - 1s 137ms/step - loss: 0.0518 - mae: 0.1854 - val_loss: 0.7664 - val_mae: 0.6296\n",
            "Epoch 38/120\n",
            "6/6 [==============================] - 0s 10ms/step - loss: 0.0756 - mae: 0.2224 - val_loss: 0.8343 - val_mae: 0.6492\n",
            "Epoch 39/120\n",
            "6/6 [==============================] - 0s 15ms/step - loss: 0.0540 - mae: 0.1882 - val_loss: 0.9532 - val_mae: 0.6855\n",
            "Epoch 40/120\n",
            "6/6 [==============================] - 0s 10ms/step - loss: 0.0668 - mae: 0.2053 - val_loss: 0.8254 - val_mae: 0.6543\n",
            "Epoch 41/120\n",
            "6/6 [==============================] - 0s 10ms/step - loss: 0.0401 - mae: 0.1511 - val_loss: 1.0832 - val_mae: 0.7556\n",
            "Epoch 42/120\n",
            "6/6 [==============================] - 0s 10ms/step - loss: 0.0619 - mae: 0.2002 - val_loss: 1.0361 - val_mae: 0.7398\n",
            "Epoch 43/120\n",
            "6/6 [==============================] - 0s 10ms/step - loss: 0.0395 - mae: 0.1522 - val_loss: 0.9168 - val_mae: 0.6570\n",
            "Epoch 44/120\n",
            "6/6 [==============================] - 0s 13ms/step - loss: 0.0655 - mae: 0.2036 - val_loss: 0.7870 - val_mae: 0.6495\n",
            "Epoch 45/120\n",
            "6/6 [==============================] - 0s 11ms/step - loss: 0.0792 - mae: 0.2314 - val_loss: 0.8988 - val_mae: 0.6587\n",
            "Epoch 46/120\n",
            "6/6 [==============================] - 0s 13ms/step - loss: 0.0440 - mae: 0.1619 - val_loss: 0.8770 - val_mae: 0.6556\n",
            "Epoch 47/120\n",
            "6/6 [==============================] - 0s 11ms/step - loss: 0.0404 - mae: 0.1565 - val_loss: 0.8158 - val_mae: 0.6329\n",
            "Epoch 48/120\n",
            "6/6 [==============================] - 0s 12ms/step - loss: 0.0731 - mae: 0.2230 - val_loss: 0.8957 - val_mae: 0.6687\n",
            "Epoch 49/120\n",
            "6/6 [==============================] - 0s 13ms/step - loss: 0.0606 - mae: 0.1934 - val_loss: 0.9885 - val_mae: 0.6989\n",
            "Epoch 50/120\n",
            "6/6 [==============================] - 0s 9ms/step - loss: 0.0360 - mae: 0.1514 - val_loss: 1.2048 - val_mae: 0.8303\n",
            "Epoch 51/120\n",
            "6/6 [==============================] - 0s 10ms/step - loss: 0.0773 - mae: 0.2284 - val_loss: 1.0656 - val_mae: 0.7528\n",
            "Epoch 52/120\n",
            "6/6 [==============================] - 0s 11ms/step - loss: 0.0451 - mae: 0.1661 - val_loss: 1.0258 - val_mae: 0.7189\n",
            "Epoch 53/120\n",
            "6/6 [==============================] - 0s 10ms/step - loss: 0.0692 - mae: 0.2174 - val_loss: 1.1471 - val_mae: 0.8050\n",
            "Epoch 54/120\n",
            "6/6 [==============================] - 0s 10ms/step - loss: 0.0511 - mae: 0.1789 - val_loss: 1.1628 - val_mae: 0.8039\n",
            "Epoch 55/120\n",
            "6/6 [==============================] - 0s 9ms/step - loss: 0.0630 - mae: 0.1999 - val_loss: 1.2071 - val_mae: 0.8546\n",
            "Epoch 56/120\n",
            "6/6 [==============================] - 0s 11ms/step - loss: 0.0589 - mae: 0.1998 - val_loss: 1.1468 - val_mae: 0.7966\n",
            "Epoch 57/120\n",
            "6/6 [==============================] - 0s 11ms/step - loss: 0.0527 - mae: 0.1818 - val_loss: 0.9302 - val_mae: 0.6782\n",
            "Epoch 58/120\n",
            "6/6 [==============================] - 0s 11ms/step - loss: 0.0423 - mae: 0.1642 - val_loss: 1.2220 - val_mae: 0.8545\n",
            "Epoch 59/120\n",
            "6/6 [==============================] - 0s 9ms/step - loss: 0.0620 - mae: 0.2043 - val_loss: 0.9946 - val_mae: 0.7104\n",
            "Epoch 60/120\n",
            "6/6 [==============================] - 0s 10ms/step - loss: 0.0659 - mae: 0.2114 - val_loss: 1.1761 - val_mae: 0.8260\n",
            "Epoch 61/120\n",
            "6/6 [==============================] - 0s 10ms/step - loss: 0.0488 - mae: 0.1810 - val_loss: 0.9489 - val_mae: 0.6920\n",
            "Epoch 62/120\n",
            "6/6 [==============================] - 0s 10ms/step - loss: 0.0436 - mae: 0.1649 - val_loss: 1.1672 - val_mae: 0.8233\n",
            "Epoch 63/120\n",
            "6/6 [==============================] - 0s 11ms/step - loss: 0.0577 - mae: 0.2023 - val_loss: 0.9822 - val_mae: 0.7135\n",
            "Epoch 64/120\n",
            "6/6 [==============================] - 0s 10ms/step - loss: 0.0486 - mae: 0.1804 - val_loss: 0.7782 - val_mae: 0.6101\n",
            "Epoch 65/120\n",
            "6/6 [==============================] - 0s 10ms/step - loss: 0.0590 - mae: 0.1977 - val_loss: 0.8837 - val_mae: 0.6448\n",
            "Epoch 66/120\n",
            "6/6 [==============================] - 1s 136ms/step - loss: 0.0544 - mae: 0.1885 - val_loss: 0.7251 - val_mae: 0.6021\n",
            "Epoch 67/120\n",
            "6/6 [==============================] - 0s 12ms/step - loss: 0.0630 - mae: 0.1999 - val_loss: 0.8520 - val_mae: 0.6467\n",
            "Epoch 68/120\n",
            "6/6 [==============================] - 0s 10ms/step - loss: 0.0328 - mae: 0.1396 - val_loss: 0.8310 - val_mae: 0.6321\n",
            "Epoch 69/120\n",
            "6/6 [==============================] - 0s 9ms/step - loss: 0.0623 - mae: 0.2051 - val_loss: 0.8179 - val_mae: 0.6539\n",
            "Epoch 70/120\n",
            "6/6 [==============================] - 0s 10ms/step - loss: 0.0475 - mae: 0.1727 - val_loss: 1.0835 - val_mae: 0.7613\n",
            "Epoch 71/120\n",
            "6/6 [==============================] - 0s 10ms/step - loss: 0.0448 - mae: 0.1695 - val_loss: 1.2323 - val_mae: 0.8496\n",
            "Epoch 72/120\n",
            "6/6 [==============================] - 0s 10ms/step - loss: 0.0500 - mae: 0.1779 - val_loss: 1.0203 - val_mae: 0.7251\n",
            "Epoch 73/120\n",
            "6/6 [==============================] - 0s 10ms/step - loss: 0.0394 - mae: 0.1593 - val_loss: 1.1807 - val_mae: 0.8180\n",
            "Epoch 74/120\n",
            "6/6 [==============================] - 0s 12ms/step - loss: 0.0600 - mae: 0.1966 - val_loss: 1.0933 - val_mae: 0.7770\n",
            "Epoch 75/120\n",
            "6/6 [==============================] - 0s 12ms/step - loss: 0.0545 - mae: 0.1929 - val_loss: 1.1134 - val_mae: 0.7941\n",
            "Epoch 76/120\n",
            "6/6 [==============================] - 0s 10ms/step - loss: 0.0529 - mae: 0.1829 - val_loss: 1.0665 - val_mae: 0.7546\n",
            "Epoch 77/120\n",
            "6/6 [==============================] - 0s 14ms/step - loss: 0.0411 - mae: 0.1614 - val_loss: 1.0895 - val_mae: 0.7697\n",
            "Epoch 78/120\n",
            "6/6 [==============================] - 0s 10ms/step - loss: 0.0542 - mae: 0.1945 - val_loss: 1.0710 - val_mae: 0.7709\n",
            "Epoch 79/120\n",
            "6/6 [==============================] - 0s 10ms/step - loss: 0.0683 - mae: 0.2106 - val_loss: 1.0057 - val_mae: 0.7185\n",
            "Epoch 80/120\n",
            "6/6 [==============================] - 0s 9ms/step - loss: 0.0302 - mae: 0.1351 - val_loss: 0.8777 - val_mae: 0.6407\n",
            "Epoch 81/120\n",
            "6/6 [==============================] - 0s 11ms/step - loss: 0.0609 - mae: 0.1987 - val_loss: 0.8114 - val_mae: 0.6444\n",
            "Epoch 82/120\n",
            "6/6 [==============================] - 0s 10ms/step - loss: 0.0486 - mae: 0.1755 - val_loss: 0.7967 - val_mae: 0.6008\n",
            "Epoch 83/120\n",
            "6/6 [==============================] - 0s 13ms/step - loss: 0.0462 - mae: 0.1744 - val_loss: 0.9676 - val_mae: 0.6853\n",
            "Epoch 84/120\n",
            "6/6 [==============================] - 0s 9ms/step - loss: 0.0348 - mae: 0.1422 - val_loss: 1.1509 - val_mae: 0.8077\n",
            "Epoch 85/120\n",
            "6/6 [==============================] - 0s 10ms/step - loss: 0.0558 - mae: 0.1952 - val_loss: 1.0250 - val_mae: 0.7375\n",
            "Epoch 86/120\n",
            "6/6 [==============================] - 0s 10ms/step - loss: 0.0428 - mae: 0.1664 - val_loss: 0.8417 - val_mae: 0.6332\n",
            "Epoch 87/120\n",
            "6/6 [==============================] - 1s 138ms/step - loss: 0.0447 - mae: 0.1692 - val_loss: 0.7199 - val_mae: 0.6048\n",
            "Epoch 88/120\n",
            "6/6 [==============================] - 0s 10ms/step - loss: 0.0649 - mae: 0.2123 - val_loss: 0.8254 - val_mae: 0.6192\n",
            "Epoch 89/120\n",
            "6/6 [==============================] - 0s 9ms/step - loss: 0.0438 - mae: 0.1680 - val_loss: 0.7836 - val_mae: 0.6066\n",
            "Epoch 90/120\n",
            "6/6 [==============================] - 0s 9ms/step - loss: 0.0470 - mae: 0.1768 - val_loss: 0.8443 - val_mae: 0.6553\n",
            "Epoch 91/120\n",
            "6/6 [==============================] - 0s 10ms/step - loss: 0.0451 - mae: 0.1708 - val_loss: 0.7989 - val_mae: 0.6204\n",
            "Epoch 92/120\n",
            "6/6 [==============================] - 0s 10ms/step - loss: 0.0458 - mae: 0.1742 - val_loss: 0.7741 - val_mae: 0.6070\n",
            "Epoch 93/120\n",
            "6/6 [==============================] - 0s 9ms/step - loss: 0.0630 - mae: 0.2052 - val_loss: 0.7819 - val_mae: 0.6206\n",
            "Epoch 94/120\n",
            "6/6 [==============================] - 0s 9ms/step - loss: 0.0377 - mae: 0.1533 - val_loss: 0.9770 - val_mae: 0.7040\n",
            "Epoch 95/120\n",
            "6/6 [==============================] - 0s 14ms/step - loss: 0.0504 - mae: 0.1857 - val_loss: 1.1407 - val_mae: 0.8041\n",
            "Epoch 96/120\n",
            "6/6 [==============================] - 0s 10ms/step - loss: 0.0595 - mae: 0.2015 - val_loss: 1.0639 - val_mae: 0.7617\n",
            "Epoch 97/120\n",
            "6/6 [==============================] - 0s 10ms/step - loss: 0.0446 - mae: 0.1666 - val_loss: 0.8899 - val_mae: 0.6570\n",
            "Epoch 98/120\n",
            "6/6 [==============================] - 0s 13ms/step - loss: 0.0302 - mae: 0.1371 - val_loss: 1.1833 - val_mae: 0.8332\n",
            "Epoch 99/120\n",
            "6/6 [==============================] - 0s 11ms/step - loss: 0.0477 - mae: 0.1699 - val_loss: 0.9784 - val_mae: 0.7000\n",
            "Epoch 100/120\n",
            "6/6 [==============================] - 0s 10ms/step - loss: 0.0482 - mae: 0.1769 - val_loss: 1.0204 - val_mae: 0.7319\n",
            "Epoch 101/120\n",
            "6/6 [==============================] - 0s 10ms/step - loss: 0.0372 - mae: 0.1549 - val_loss: 0.9927 - val_mae: 0.7199\n",
            "Epoch 102/120\n",
            "6/6 [==============================] - 0s 12ms/step - loss: 0.0604 - mae: 0.1986 - val_loss: 1.1026 - val_mae: 0.7970\n",
            "Epoch 103/120\n",
            "6/6 [==============================] - 0s 11ms/step - loss: 0.0449 - mae: 0.1750 - val_loss: 0.9256 - val_mae: 0.6825\n",
            "Epoch 104/120\n",
            "6/6 [==============================] - 1s 135ms/step - loss: 0.0450 - mae: 0.1631 - val_loss: 0.6890 - val_mae: 0.5826\n",
            "Epoch 105/120\n",
            "6/6 [==============================] - 0s 9ms/step - loss: 0.0418 - mae: 0.1699 - val_loss: 0.8493 - val_mae: 0.6507\n",
            "Epoch 106/120\n",
            "6/6 [==============================] - 0s 10ms/step - loss: 0.0457 - mae: 0.1754 - val_loss: 0.7585 - val_mae: 0.6008\n",
            "Epoch 107/120\n",
            "6/6 [==============================] - 0s 10ms/step - loss: 0.0452 - mae: 0.1668 - val_loss: 0.8551 - val_mae: 0.6419\n",
            "Epoch 108/120\n",
            "6/6 [==============================] - 0s 11ms/step - loss: 0.0328 - mae: 0.1433 - val_loss: 1.1364 - val_mae: 0.8122\n",
            "Epoch 109/120\n",
            "6/6 [==============================] - 0s 11ms/step - loss: 0.0668 - mae: 0.2060 - val_loss: 0.9674 - val_mae: 0.7079\n",
            "Epoch 110/120\n",
            "6/6 [==============================] - 0s 10ms/step - loss: 0.0356 - mae: 0.1455 - val_loss: 0.8442 - val_mae: 0.6429\n",
            "Epoch 111/120\n",
            "6/6 [==============================] - 0s 9ms/step - loss: 0.0323 - mae: 0.1420 - val_loss: 0.7271 - val_mae: 0.6053\n",
            "Epoch 112/120\n",
            "6/6 [==============================] - 0s 10ms/step - loss: 0.0559 - mae: 0.1987 - val_loss: 0.8421 - val_mae: 0.6454\n",
            "Epoch 113/120\n",
            "6/6 [==============================] - 0s 10ms/step - loss: 0.0523 - mae: 0.1854 - val_loss: 0.7952 - val_mae: 0.6162\n",
            "Epoch 114/120\n",
            "6/6 [==============================] - 0s 11ms/step - loss: 0.0426 - mae: 0.1668 - val_loss: 0.7588 - val_mae: 0.5941\n",
            "Epoch 115/120\n",
            "6/6 [==============================] - 0s 11ms/step - loss: 0.0386 - mae: 0.1541 - val_loss: 0.7543 - val_mae: 0.5987\n",
            "Epoch 116/120\n",
            "6/6 [==============================] - 0s 9ms/step - loss: 0.0456 - mae: 0.1740 - val_loss: 0.7991 - val_mae: 0.6225\n",
            "Epoch 117/120\n",
            "6/6 [==============================] - 0s 12ms/step - loss: 0.0459 - mae: 0.1733 - val_loss: 0.7706 - val_mae: 0.6200\n",
            "Epoch 118/120\n",
            "6/6 [==============================] - 0s 9ms/step - loss: 0.0381 - mae: 0.1542 - val_loss: 0.8180 - val_mae: 0.6305\n",
            "Epoch 119/120\n",
            "6/6 [==============================] - 0s 12ms/step - loss: 0.0445 - mae: 0.1723 - val_loss: 0.8421 - val_mae: 0.6409\n",
            "Epoch 120/120\n",
            "6/6 [==============================] - 0s 10ms/step - loss: 0.0472 - mae: 0.1744 - val_loss: 0.7802 - val_mae: 0.6152\n"
          ]
        }
      ]
    },
    {
      "cell_type": "code",
      "source": [
        "hist_df = pd.DataFrame(history.history)\n",
        "hist_df['epoch'] = hist_df.index + 1\n",
        "cols = list(hist_df.columns)\n",
        "cols = [cols[-1]] + cols[:-1]\n",
        "hist_df = hist_df[cols]\n",
        "hist_df.to_csv(checkpoint_no + '/' + 'history_df_' + model_name + '.csv')\n",
        "hist_df.head()"
      ],
      "metadata": {
        "id": "-3pM5sK8Rorr",
        "outputId": "7165b42e-9031-4683-90bf-05d91b8c2573",
        "colab": {
          "base_uri": "https://localhost:8080/",
          "height": 206
        }
      },
      "id": "-3pM5sK8Rorr",
      "execution_count": 424,
      "outputs": [
        {
          "output_type": "execute_result",
          "data": {
            "text/plain": [
              "   epoch       loss       mae   val_loss   val_mae\n",
              "0      1  45.510929  6.652294  32.165478  5.617958\n",
              "1      2  22.606705  4.629506  20.163258  4.394872\n",
              "2      3  11.855143  3.189123  11.426888  3.221524\n",
              "3      4   5.559226  2.055126   5.850312  2.187925\n",
              "4      5   2.454854  1.289756   3.077375  1.463246"
            ],
            "text/html": [
              "\n",
              "  <div id=\"df-f1a7721e-10a3-4552-b7ce-07e135ee929f\">\n",
              "    <div class=\"colab-df-container\">\n",
              "      <div>\n",
              "<style scoped>\n",
              "    .dataframe tbody tr th:only-of-type {\n",
              "        vertical-align: middle;\n",
              "    }\n",
              "\n",
              "    .dataframe tbody tr th {\n",
              "        vertical-align: top;\n",
              "    }\n",
              "\n",
              "    .dataframe thead th {\n",
              "        text-align: right;\n",
              "    }\n",
              "</style>\n",
              "<table border=\"1\" class=\"dataframe\">\n",
              "  <thead>\n",
              "    <tr style=\"text-align: right;\">\n",
              "      <th></th>\n",
              "      <th>epoch</th>\n",
              "      <th>loss</th>\n",
              "      <th>mae</th>\n",
              "      <th>val_loss</th>\n",
              "      <th>val_mae</th>\n",
              "    </tr>\n",
              "  </thead>\n",
              "  <tbody>\n",
              "    <tr>\n",
              "      <th>0</th>\n",
              "      <td>1</td>\n",
              "      <td>45.510929</td>\n",
              "      <td>6.652294</td>\n",
              "      <td>32.165478</td>\n",
              "      <td>5.617958</td>\n",
              "    </tr>\n",
              "    <tr>\n",
              "      <th>1</th>\n",
              "      <td>2</td>\n",
              "      <td>22.606705</td>\n",
              "      <td>4.629506</td>\n",
              "      <td>20.163258</td>\n",
              "      <td>4.394872</td>\n",
              "    </tr>\n",
              "    <tr>\n",
              "      <th>2</th>\n",
              "      <td>3</td>\n",
              "      <td>11.855143</td>\n",
              "      <td>3.189123</td>\n",
              "      <td>11.426888</td>\n",
              "      <td>3.221524</td>\n",
              "    </tr>\n",
              "    <tr>\n",
              "      <th>3</th>\n",
              "      <td>4</td>\n",
              "      <td>5.559226</td>\n",
              "      <td>2.055126</td>\n",
              "      <td>5.850312</td>\n",
              "      <td>2.187925</td>\n",
              "    </tr>\n",
              "    <tr>\n",
              "      <th>4</th>\n",
              "      <td>5</td>\n",
              "      <td>2.454854</td>\n",
              "      <td>1.289756</td>\n",
              "      <td>3.077375</td>\n",
              "      <td>1.463246</td>\n",
              "    </tr>\n",
              "  </tbody>\n",
              "</table>\n",
              "</div>\n",
              "      <button class=\"colab-df-convert\" onclick=\"convertToInteractive('df-f1a7721e-10a3-4552-b7ce-07e135ee929f')\"\n",
              "              title=\"Convert this dataframe to an interactive table.\"\n",
              "              style=\"display:none;\">\n",
              "        \n",
              "  <svg xmlns=\"http://www.w3.org/2000/svg\" height=\"24px\"viewBox=\"0 0 24 24\"\n",
              "       width=\"24px\">\n",
              "    <path d=\"M0 0h24v24H0V0z\" fill=\"none\"/>\n",
              "    <path d=\"M18.56 5.44l.94 2.06.94-2.06 2.06-.94-2.06-.94-.94-2.06-.94 2.06-2.06.94zm-11 1L8.5 8.5l.94-2.06 2.06-.94-2.06-.94L8.5 2.5l-.94 2.06-2.06.94zm10 10l.94 2.06.94-2.06 2.06-.94-2.06-.94-.94-2.06-.94 2.06-2.06.94z\"/><path d=\"M17.41 7.96l-1.37-1.37c-.4-.4-.92-.59-1.43-.59-.52 0-1.04.2-1.43.59L10.3 9.45l-7.72 7.72c-.78.78-.78 2.05 0 2.83L4 21.41c.39.39.9.59 1.41.59.51 0 1.02-.2 1.41-.59l7.78-7.78 2.81-2.81c.8-.78.8-2.07 0-2.86zM5.41 20L4 18.59l7.72-7.72 1.47 1.35L5.41 20z\"/>\n",
              "  </svg>\n",
              "      </button>\n",
              "      \n",
              "  <style>\n",
              "    .colab-df-container {\n",
              "      display:flex;\n",
              "      flex-wrap:wrap;\n",
              "      gap: 12px;\n",
              "    }\n",
              "\n",
              "    .colab-df-convert {\n",
              "      background-color: #E8F0FE;\n",
              "      border: none;\n",
              "      border-radius: 50%;\n",
              "      cursor: pointer;\n",
              "      display: none;\n",
              "      fill: #1967D2;\n",
              "      height: 32px;\n",
              "      padding: 0 0 0 0;\n",
              "      width: 32px;\n",
              "    }\n",
              "\n",
              "    .colab-df-convert:hover {\n",
              "      background-color: #E2EBFA;\n",
              "      box-shadow: 0px 1px 2px rgba(60, 64, 67, 0.3), 0px 1px 3px 1px rgba(60, 64, 67, 0.15);\n",
              "      fill: #174EA6;\n",
              "    }\n",
              "\n",
              "    [theme=dark] .colab-df-convert {\n",
              "      background-color: #3B4455;\n",
              "      fill: #D2E3FC;\n",
              "    }\n",
              "\n",
              "    [theme=dark] .colab-df-convert:hover {\n",
              "      background-color: #434B5C;\n",
              "      box-shadow: 0px 1px 3px 1px rgba(0, 0, 0, 0.15);\n",
              "      filter: drop-shadow(0px 1px 2px rgba(0, 0, 0, 0.3));\n",
              "      fill: #FFFFFF;\n",
              "    }\n",
              "  </style>\n",
              "\n",
              "      <script>\n",
              "        const buttonEl =\n",
              "          document.querySelector('#df-f1a7721e-10a3-4552-b7ce-07e135ee929f button.colab-df-convert');\n",
              "        buttonEl.style.display =\n",
              "          google.colab.kernel.accessAllowed ? 'block' : 'none';\n",
              "\n",
              "        async function convertToInteractive(key) {\n",
              "          const element = document.querySelector('#df-f1a7721e-10a3-4552-b7ce-07e135ee929f');\n",
              "          const dataTable =\n",
              "            await google.colab.kernel.invokeFunction('convertToInteractive',\n",
              "                                                     [key], {});\n",
              "          if (!dataTable) return;\n",
              "\n",
              "          const docLinkHtml = 'Like what you see? Visit the ' +\n",
              "            '<a target=\"_blank\" href=https://colab.research.google.com/notebooks/data_table.ipynb>data table notebook</a>'\n",
              "            + ' to learn more about interactive tables.';\n",
              "          element.innerHTML = '';\n",
              "          dataTable['output_type'] = 'display_data';\n",
              "          await google.colab.output.renderOutput(dataTable, element);\n",
              "          const docLink = document.createElement('div');\n",
              "          docLink.innerHTML = docLinkHtml;\n",
              "          element.appendChild(docLink);\n",
              "        }\n",
              "      </script>\n",
              "    </div>\n",
              "  </div>\n",
              "  "
            ]
          },
          "metadata": {},
          "execution_count": 424
        }
      ]
    },
    {
      "cell_type": "code",
      "source": [
        "values_of_best_model = hist_df[hist_df.val_loss == hist_df.val_loss.min()]\n",
        "values_of_best_model"
      ],
      "metadata": {
        "id": "D4QD_EcmRsGL",
        "outputId": "275c6c8f-4c52-4aa8-b9a5-c91467e92bd1",
        "colab": {
          "base_uri": "https://localhost:8080/",
          "height": 81
        }
      },
      "id": "D4QD_EcmRsGL",
      "execution_count": 425,
      "outputs": [
        {
          "output_type": "execute_result",
          "data": {
            "text/plain": [
              "     epoch      loss       mae  val_loss   val_mae\n",
              "103    104  0.044996  0.163058  0.688966  0.582573"
            ],
            "text/html": [
              "\n",
              "  <div id=\"df-841a4209-0a20-4a6d-afa2-783aa334e410\">\n",
              "    <div class=\"colab-df-container\">\n",
              "      <div>\n",
              "<style scoped>\n",
              "    .dataframe tbody tr th:only-of-type {\n",
              "        vertical-align: middle;\n",
              "    }\n",
              "\n",
              "    .dataframe tbody tr th {\n",
              "        vertical-align: top;\n",
              "    }\n",
              "\n",
              "    .dataframe thead th {\n",
              "        text-align: right;\n",
              "    }\n",
              "</style>\n",
              "<table border=\"1\" class=\"dataframe\">\n",
              "  <thead>\n",
              "    <tr style=\"text-align: right;\">\n",
              "      <th></th>\n",
              "      <th>epoch</th>\n",
              "      <th>loss</th>\n",
              "      <th>mae</th>\n",
              "      <th>val_loss</th>\n",
              "      <th>val_mae</th>\n",
              "    </tr>\n",
              "  </thead>\n",
              "  <tbody>\n",
              "    <tr>\n",
              "      <th>103</th>\n",
              "      <td>104</td>\n",
              "      <td>0.044996</td>\n",
              "      <td>0.163058</td>\n",
              "      <td>0.688966</td>\n",
              "      <td>0.582573</td>\n",
              "    </tr>\n",
              "  </tbody>\n",
              "</table>\n",
              "</div>\n",
              "      <button class=\"colab-df-convert\" onclick=\"convertToInteractive('df-841a4209-0a20-4a6d-afa2-783aa334e410')\"\n",
              "              title=\"Convert this dataframe to an interactive table.\"\n",
              "              style=\"display:none;\">\n",
              "        \n",
              "  <svg xmlns=\"http://www.w3.org/2000/svg\" height=\"24px\"viewBox=\"0 0 24 24\"\n",
              "       width=\"24px\">\n",
              "    <path d=\"M0 0h24v24H0V0z\" fill=\"none\"/>\n",
              "    <path d=\"M18.56 5.44l.94 2.06.94-2.06 2.06-.94-2.06-.94-.94-2.06-.94 2.06-2.06.94zm-11 1L8.5 8.5l.94-2.06 2.06-.94-2.06-.94L8.5 2.5l-.94 2.06-2.06.94zm10 10l.94 2.06.94-2.06 2.06-.94-2.06-.94-.94-2.06-.94 2.06-2.06.94z\"/><path d=\"M17.41 7.96l-1.37-1.37c-.4-.4-.92-.59-1.43-.59-.52 0-1.04.2-1.43.59L10.3 9.45l-7.72 7.72c-.78.78-.78 2.05 0 2.83L4 21.41c.39.39.9.59 1.41.59.51 0 1.02-.2 1.41-.59l7.78-7.78 2.81-2.81c.8-.78.8-2.07 0-2.86zM5.41 20L4 18.59l7.72-7.72 1.47 1.35L5.41 20z\"/>\n",
              "  </svg>\n",
              "      </button>\n",
              "      \n",
              "  <style>\n",
              "    .colab-df-container {\n",
              "      display:flex;\n",
              "      flex-wrap:wrap;\n",
              "      gap: 12px;\n",
              "    }\n",
              "\n",
              "    .colab-df-convert {\n",
              "      background-color: #E8F0FE;\n",
              "      border: none;\n",
              "      border-radius: 50%;\n",
              "      cursor: pointer;\n",
              "      display: none;\n",
              "      fill: #1967D2;\n",
              "      height: 32px;\n",
              "      padding: 0 0 0 0;\n",
              "      width: 32px;\n",
              "    }\n",
              "\n",
              "    .colab-df-convert:hover {\n",
              "      background-color: #E2EBFA;\n",
              "      box-shadow: 0px 1px 2px rgba(60, 64, 67, 0.3), 0px 1px 3px 1px rgba(60, 64, 67, 0.15);\n",
              "      fill: #174EA6;\n",
              "    }\n",
              "\n",
              "    [theme=dark] .colab-df-convert {\n",
              "      background-color: #3B4455;\n",
              "      fill: #D2E3FC;\n",
              "    }\n",
              "\n",
              "    [theme=dark] .colab-df-convert:hover {\n",
              "      background-color: #434B5C;\n",
              "      box-shadow: 0px 1px 3px 1px rgba(0, 0, 0, 0.15);\n",
              "      filter: drop-shadow(0px 1px 2px rgba(0, 0, 0, 0.3));\n",
              "      fill: #FFFFFF;\n",
              "    }\n",
              "  </style>\n",
              "\n",
              "      <script>\n",
              "        const buttonEl =\n",
              "          document.querySelector('#df-841a4209-0a20-4a6d-afa2-783aa334e410 button.colab-df-convert');\n",
              "        buttonEl.style.display =\n",
              "          google.colab.kernel.accessAllowed ? 'block' : 'none';\n",
              "\n",
              "        async function convertToInteractive(key) {\n",
              "          const element = document.querySelector('#df-841a4209-0a20-4a6d-afa2-783aa334e410');\n",
              "          const dataTable =\n",
              "            await google.colab.kernel.invokeFunction('convertToInteractive',\n",
              "                                                     [key], {});\n",
              "          if (!dataTable) return;\n",
              "\n",
              "          const docLinkHtml = 'Like what you see? Visit the ' +\n",
              "            '<a target=\"_blank\" href=https://colab.research.google.com/notebooks/data_table.ipynb>data table notebook</a>'\n",
              "            + ' to learn more about interactive tables.';\n",
              "          element.innerHTML = '';\n",
              "          dataTable['output_type'] = 'display_data';\n",
              "          await google.colab.output.renderOutput(dataTable, element);\n",
              "          const docLink = document.createElement('div');\n",
              "          docLink.innerHTML = docLinkHtml;\n",
              "          element.appendChild(docLink);\n",
              "        }\n",
              "      </script>\n",
              "    </div>\n",
              "  </div>\n",
              "  "
            ]
          },
          "metadata": {},
          "execution_count": 425
        }
      ]
    },
    {
      "cell_type": "code",
      "source": [
        "pk.dump(scaler, open(checkpoint_no + '/' + 'scaler.pkl', 'wb'))"
      ],
      "metadata": {
        "id": "mm4zTEvCRuyL"
      },
      "id": "mm4zTEvCRuyL",
      "execution_count": 426,
      "outputs": []
    },
    {
      "cell_type": "code",
      "source": [
        "mae = history.history['mae']\n",
        "val_mae = history.history['val_mae']\n",
        "loss = history.history['loss']\n",
        "val_loss = history.history['val_loss']\n",
        "\n",
        "epochs = range(1, len(mae) + 1)\n",
        "\n",
        "plt.plot(epochs, mae, 'bo', label='Training MAE')\n",
        "plt.plot(epochs, val_mae, 'b', label='Validation MAE')\n",
        "plt.title('Training and validation MAE')\n",
        "plt.legend()\n",
        "\n",
        "plt.figure()\n",
        "\n",
        "plt.plot(epochs, loss, 'bo', label='Training loss')\n",
        "plt.plot(epochs, val_loss, 'b', label='Validation loss')\n",
        "plt.title('Training and validation loss')\n",
        "plt.legend()\n",
        "\n",
        "plt.show()"
      ],
      "metadata": {
        "id": "oSc-INkrRxum",
        "outputId": "0800c460-c54c-4724-e3ee-fe262c078907",
        "colab": {
          "base_uri": "https://localhost:8080/",
          "height": 545
        }
      },
      "id": "oSc-INkrRxum",
      "execution_count": 427,
      "outputs": [
        {
          "output_type": "display_data",
          "data": {
            "text/plain": [
              "<Figure size 432x288 with 1 Axes>"
            ],
            "image/png": "[encoded data removed]"
          },
          "metadata": {
            "needs_background": "light"
          }
        },
        {
          "output_type": "display_data",
          "data": {
            "text/plain": [
              "<Figure size 432x288 with 1 Axes>"
            ],
            "image/png": "[encoded data removed]"
          },
          "metadata": {
            "needs_background": "light"
          }
        }
      ]
    },
    {
      "cell_type": "markdown",
      "source": [
        "## K-fold cross validation"
      ],
      "metadata": {
        "id": "YA0o_NLo2RpX"
      },
      "id": "YA0o_NLo2RpX"
    },
    {
      "cell_type": "code",
      "source": [
        "def build_model():\n",
        "    model = models.Sequential()\n",
        "    model.add(layers.Dense(64, activation='relu',\n",
        "                           input_shape=(input_shape,)))\n",
        "    model.add(layers.Dense(64, activation='relu'))\n",
        "    model.add(layers.Dense(1))\n",
        "    model.compile(loss='mse', optimizer='rmsprop', metrics=['mae'])\n",
        "    return model\n"
      ],
      "metadata": {
        "id": "wHGZzNSCYK6y"
      },
      "id": "wHGZzNSCYK6y",
      "execution_count": 428,
      "outputs": []
    },
    {
      "cell_type": "code",
      "source": [
        "k = 5\n",
        "num_val_samples = len(trainX) // k"
      ],
      "metadata": {
        "id": "GW2xk5BiKVEI"
      },
      "id": "GW2xk5BiKVEI",
      "execution_count": 429,
      "outputs": []
    },
    {
      "cell_type": "code",
      "source": [
        "all_scores = []\n",
        "for i in range(k):\n",
        "    print('Processing Fold', i)\n",
        "    val_data = trainX_scaled[i * num_val_samples: (i + 1) * num_val_samples]\n",
        "    val_targets = trainY[i * num_val_samples: (i + 1) * num_val_samples]\n",
        "\n",
        "    partial_train_data = np.concatenate(\n",
        "        [trainX_scaled[:i * num_val_samples],\n",
        "         trainX_scaled[(i + 1) * num_val_samples:]],\n",
        "        axis=0)\n",
        "    partial_train_targets = np.concatenate(\n",
        "        [trainY[:i * num_val_samples],\n",
        "         trainY[(i + 1) * num_val_samples:]],\n",
        "        axis=0)\n",
        "\n",
        "    model = build_model()\n",
        "    model.fit(partial_train_data, partial_train_targets,\n",
        "              epochs=n_epochs, batch_size=n_batch_size, verbose=0)\n",
        "    val_mse, val_mae = model.evaluate(val_data, val_targets, verbose=0)\n",
        "    all_scores.append(val_mae)\n",
        "    print('MAE: ' + str(val_mae))\n",
        "    print('----------------------')"
      ],
      "metadata": {
        "colab": {
          "base_uri": "https://localhost:8080/"
        },
        "id": "SMjAgJ2TYIcK",
        "outputId": "88356f5b-36da-409a-e4ab-e29e3e69727a"
      },
      "id": "SMjAgJ2TYIcK",
      "execution_count": 430,
      "outputs": [
        {
          "output_type": "stream",
          "name": "stdout",
          "text": [
            "Processing Fold 0\n",
            "MAE: 1.8061044216156006\n",
            "----------------------\n",
            "Processing Fold 1\n",
            "MAE: 1.2503843307495117\n",
            "----------------------\n",
            "Processing Fold 2\n",
            "MAE: 1.4653699398040771\n",
            "----------------------\n",
            "Processing Fold 3\n",
            "MAE: 1.721246600151062\n",
            "----------------------\n",
            "Processing Fold 4\n",
            "MAE: 1.4043433666229248\n",
            "----------------------\n"
          ]
        }
      ]
    },
    {
      "cell_type": "code",
      "source": [
        "for i, val in enumerate(all_scores):\n",
        "    print('Fold ' + str(i) +': ' + 'MAE of', val)"
      ],
      "metadata": {
        "id": "WPLyoiK6SF7Q",
        "outputId": "6192454b-96af-4446-f535-93ba8b32f185",
        "colab": {
          "base_uri": "https://localhost:8080/"
        }
      },
      "id": "WPLyoiK6SF7Q",
      "execution_count": 431,
      "outputs": [
        {
          "output_type": "stream",
          "name": "stdout",
          "text": [
            "Fold 0: MAE of 1.8061044216156006\n",
            "Fold 1: MAE of 1.2503843307495117\n",
            "Fold 2: MAE of 1.4653699398040771\n",
            "Fold 3: MAE of 1.721246600151062\n",
            "Fold 4: MAE of 1.4043433666229248\n"
          ]
        }
      ]
    },
    {
      "cell_type": "code",
      "source": [
        "print('Mean MAE of all folds: ' + str(np.mean(all_scores)))"
      ],
      "metadata": {
        "id": "ejTtKjkYSHoP",
        "outputId": "dd5a7b42-8879-4d78-8180-f7bc8d42a7d0",
        "colab": {
          "base_uri": "https://localhost:8080/"
        }
      },
      "id": "ejTtKjkYSHoP",
      "execution_count": 432,
      "outputs": [
        {
          "output_type": "stream",
          "name": "stdout",
          "text": [
            "Mean MAE of all folds: 1.5294897317886353\n"
          ]
        }
      ]
    },
    {
      "cell_type": "code",
      "source": [
        "all_mae_histories = []\n",
        "for i in range(k):\n",
        "    print('Processing Fold', i)\n",
        "    val_data = trainX_scaled[i * num_val_samples: (i + 1) * num_val_samples]\n",
        "    val_targets = trainY[i * num_val_samples: (i + 1) * num_val_samples]\n",
        "    partial_train_data = np.concatenate(\n",
        "        [trainX_scaled[:i * num_val_samples],\n",
        "         trainX_scaled[(i + 1) * num_val_samples:]],\n",
        "        axis=0)\n",
        "    partial_train_targets = np.concatenate(\n",
        "        [trainY[:i * num_val_samples],\n",
        "         trainY[(i + 1) * num_val_samples:]],\n",
        "        axis=0)\n",
        "\n",
        "    model = build_model()\n",
        "    history = model.fit(partial_train_data, partial_train_targets,\n",
        "                        validation_data=(val_data, val_targets),\n",
        "                        epochs=n_epochs, batch_size=n_batch_size, verbose=0)\n",
        "    mae_history = history.history['val_mae']\n",
        "    all_mae_histories.append(mae_history)"
      ],
      "metadata": {
        "colab": {
          "base_uri": "https://localhost:8080/"
        },
        "id": "isrp21LPKOzQ",
        "outputId": "c8b17b46-d7ea-429e-8fc0-549084f5066c"
      },
      "id": "isrp21LPKOzQ",
      "execution_count": 433,
      "outputs": [
        {
          "output_type": "stream",
          "name": "stdout",
          "text": [
            "Processing Fold 0\n",
            "Processing Fold 1\n",
            "Processing Fold 2\n",
            "Processing Fold 3\n",
            "Processing Fold 4\n"
          ]
        }
      ]
    },
    {
      "cell_type": "code",
      "source": [
        "average_mae_history = [np.mean([x[i] for x in all_mae_histories]) for i in range(n_epochs)]\n",
        "\n",
        "len(average_mae_history)"
      ],
      "metadata": {
        "colab": {
          "base_uri": "https://localhost:8080/"
        },
        "id": "FGwfg_NmKQsb",
        "outputId": "6664b793-936e-4e09-d019-b0304b20d208"
      },
      "id": "FGwfg_NmKQsb",
      "execution_count": 434,
      "outputs": [
        {
          "output_type": "execute_result",
          "data": {
            "text/plain": [
              "120"
            ]
          },
          "metadata": {},
          "execution_count": 434
        }
      ]
    },
    {
      "cell_type": "code",
      "source": [
        "plt.plot(range(1, len(average_mae_history) + 1), average_mae_history)\n",
        "plt.title('Validation MAE per Epoch')\n",
        "plt.xlabel('Epochs')\n",
        "plt.ylabel('Validation MAE')\n",
        "plt.show()"
      ],
      "metadata": {
        "colab": {
          "base_uri": "https://localhost:8080/",
          "height": 295
        },
        "id": "80oxRyHSP8Oe",
        "outputId": "ac262aca-0583-44e6-a45e-a770f1ea464b"
      },
      "id": "80oxRyHSP8Oe",
      "execution_count": 435,
      "outputs": [
        {
          "output_type": "display_data",
          "data": {
            "text/plain": [
              "<Figure size 432x288 with 1 Axes>"
            ],
            "image/png": "[encoded data removed]"
          },
          "metadata": {
            "needs_background": "light"
          }
        }
      ]
    },
    {
      "cell_type": "code",
      "source": [
        "def smooth_curve(points, factor=0.9):\n",
        "      '''\n",
        "      Function for smoothing data points\n",
        "\n",
        "      Args:\n",
        "          points (float64): Array of floats to be smoothed, numpy array of floats\n",
        "\n",
        "      Returns:\n",
        "          Smoothed data points\n",
        "      '''  \n",
        "      smoothed_points = []\n",
        "      for point in points:\n",
        "        if smoothed_points:\n",
        "          previous = smoothed_points[-1]\n",
        "          smoothed_points.append(previous * factor + point * (1 - factor))\n",
        "        else:\n",
        "          smoothed_points.append(point)\n",
        "      return smoothed_points"
      ],
      "metadata": {
        "id": "hITi0gvsekb-"
      },
      "id": "hITi0gvsekb-",
      "execution_count": 436,
      "outputs": []
    },
    {
      "cell_type": "code",
      "source": [
        "n_first_observations_to_exclude = 30\n",
        "\n",
        "smooth_mae_history = smooth_curve(average_mae_history[n_first_observations_to_exclude:])\n",
        "\n",
        "smooth_mae_history = pd.DataFrame(smooth_mae_history)\n",
        "smooth_mae_history = smooth_mae_history.set_index(smooth_mae_history.index + n_first_observations_to_exclude)\n",
        "smooth_mae_history.head()"
      ],
      "metadata": {
        "colab": {
          "base_uri": "https://localhost:8080/",
          "height": 206
        },
        "id": "C7inuCGmfEmf",
        "outputId": "9ec7dfde-451c-4b37-9e28-ce7fda8f3361"
      },
      "id": "C7inuCGmfEmf",
      "execution_count": 437,
      "outputs": [
        {
          "output_type": "execute_result",
          "data": {
            "text/plain": [
              "           0\n",
              "30  1.491659\n",
              "31  1.493045\n",
              "32  1.498485\n",
              "33  1.499614\n",
              "34  1.503016"
            ],
            "text/html": [
              "\n",
              "  <div id=\"df-e28a6740-d839-42ca-a9e6-11ca52b2a37f\">\n",
              "    <div class=\"colab-df-container\">\n",
              "      <div>\n",
              "<style scoped>\n",
              "    .dataframe tbody tr th:only-of-type {\n",
              "        vertical-align: middle;\n",
              "    }\n",
              "\n",
              "    .dataframe tbody tr th {\n",
              "        vertical-align: top;\n",
              "    }\n",
              "\n",
              "    .dataframe thead th {\n",
              "        text-align: right;\n",
              "    }\n",
              "</style>\n",
              "<table border=\"1\" class=\"dataframe\">\n",
              "  <thead>\n",
              "    <tr style=\"text-align: right;\">\n",
              "      <th></th>\n",
              "      <th>0</th>\n",
              "    </tr>\n",
              "  </thead>\n",
              "  <tbody>\n",
              "    <tr>\n",
              "      <th>30</th>\n",
              "      <td>1.491659</td>\n",
              "    </tr>\n",
              "    <tr>\n",
              "      <th>31</th>\n",
              "      <td>1.493045</td>\n",
              "    </tr>\n",
              "    <tr>\n",
              "      <th>32</th>\n",
              "      <td>1.498485</td>\n",
              "    </tr>\n",
              "    <tr>\n",
              "      <th>33</th>\n",
              "      <td>1.499614</td>\n",
              "    </tr>\n",
              "    <tr>\n",
              "      <th>34</th>\n",
              "      <td>1.503016</td>\n",
              "    </tr>\n",
              "  </tbody>\n",
              "</table>\n",
              "</div>\n",
              "      <button class=\"colab-df-convert\" onclick=\"convertToInteractive('df-e28a6740-d839-42ca-a9e6-11ca52b2a37f')\"\n",
              "              title=\"Convert this dataframe to an interactive table.\"\n",
              "              style=\"display:none;\">\n",
              "        \n",
              "  <svg xmlns=\"http://www.w3.org/2000/svg\" height=\"24px\"viewBox=\"0 0 24 24\"\n",
              "       width=\"24px\">\n",
              "    <path d=\"M0 0h24v24H0V0z\" fill=\"none\"/>\n",
              "    <path d=\"M18.56 5.44l.94 2.06.94-2.06 2.06-.94-2.06-.94-.94-2.06-.94 2.06-2.06.94zm-11 1L8.5 8.5l.94-2.06 2.06-.94-2.06-.94L8.5 2.5l-.94 2.06-2.06.94zm10 10l.94 2.06.94-2.06 2.06-.94-2.06-.94-.94-2.06-.94 2.06-2.06.94z\"/><path d=\"M17.41 7.96l-1.37-1.37c-.4-.4-.92-.59-1.43-.59-.52 0-1.04.2-1.43.59L10.3 9.45l-7.72 7.72c-.78.78-.78 2.05 0 2.83L4 21.41c.39.39.9.59 1.41.59.51 0 1.02-.2 1.41-.59l7.78-7.78 2.81-2.81c.8-.78.8-2.07 0-2.86zM5.41 20L4 18.59l7.72-7.72 1.47 1.35L5.41 20z\"/>\n",
              "  </svg>\n",
              "      </button>\n",
              "      \n",
              "  <style>\n",
              "    .colab-df-container {\n",
              "      display:flex;\n",
              "      flex-wrap:wrap;\n",
              "      gap: 12px;\n",
              "    }\n",
              "\n",
              "    .colab-df-convert {\n",
              "      background-color: #E8F0FE;\n",
              "      border: none;\n",
              "      border-radius: 50%;\n",
              "      cursor: pointer;\n",
              "      display: none;\n",
              "      fill: #1967D2;\n",
              "      height: 32px;\n",
              "      padding: 0 0 0 0;\n",
              "      width: 32px;\n",
              "    }\n",
              "\n",
              "    .colab-df-convert:hover {\n",
              "      background-color: #E2EBFA;\n",
              "      box-shadow: 0px 1px 2px rgba(60, 64, 67, 0.3), 0px 1px 3px 1px rgba(60, 64, 67, 0.15);\n",
              "      fill: #174EA6;\n",
              "    }\n",
              "\n",
              "    [theme=dark] .colab-df-convert {\n",
              "      background-color: #3B4455;\n",
              "      fill: #D2E3FC;\n",
              "    }\n",
              "\n",
              "    [theme=dark] .colab-df-convert:hover {\n",
              "      background-color: #434B5C;\n",
              "      box-shadow: 0px 1px 3px 1px rgba(0, 0, 0, 0.15);\n",
              "      filter: drop-shadow(0px 1px 2px rgba(0, 0, 0, 0.3));\n",
              "      fill: #FFFFFF;\n",
              "    }\n",
              "  </style>\n",
              "\n",
              "      <script>\n",
              "        const buttonEl =\n",
              "          document.querySelector('#df-e28a6740-d839-42ca-a9e6-11ca52b2a37f button.colab-df-convert');\n",
              "        buttonEl.style.display =\n",
              "          google.colab.kernel.accessAllowed ? 'block' : 'none';\n",
              "\n",
              "        async function convertToInteractive(key) {\n",
              "          const element = document.querySelector('#df-e28a6740-d839-42ca-a9e6-11ca52b2a37f');\n",
              "          const dataTable =\n",
              "            await google.colab.kernel.invokeFunction('convertToInteractive',\n",
              "                                                     [key], {});\n",
              "          if (!dataTable) return;\n",
              "\n",
              "          const docLinkHtml = 'Like what you see? Visit the ' +\n",
              "            '<a target=\"_blank\" href=https://colab.research.google.com/notebooks/data_table.ipynb>data table notebook</a>'\n",
              "            + ' to learn more about interactive tables.';\n",
              "          element.innerHTML = '';\n",
              "          dataTable['output_type'] = 'display_data';\n",
              "          await google.colab.output.renderOutput(dataTable, element);\n",
              "          const docLink = document.createElement('div');\n",
              "          docLink.innerHTML = docLinkHtml;\n",
              "          element.appendChild(docLink);\n",
              "        }\n",
              "      </script>\n",
              "    </div>\n",
              "  </div>\n",
              "  "
            ]
          },
          "metadata": {},
          "execution_count": 437
        }
      ]
    },
    {
      "cell_type": "code",
      "source": [
        "plt.plot(smooth_mae_history)\n",
        "plt.title('Validation MAE per Epoch')\n",
        "plt.xlabel('Epochs')\n",
        "plt.ylabel('Validation MAE')\n",
        "plt.show()"
      ],
      "metadata": {
        "colab": {
          "base_uri": "https://localhost:8080/",
          "height": 295
        },
        "id": "N0Eo9ZUXff48",
        "outputId": "94c923c7-3944-4e40-e814-1e8147920538"
      },
      "id": "N0Eo9ZUXff48",
      "execution_count": 438,
      "outputs": [
        {
          "output_type": "display_data",
          "data": {
            "text/plain": [
              "<Figure size 432x288 with 1 Axes>"
            ],
            "image/png": "[encoded data removed]"
          },
          "metadata": {
            "needs_background": "light"
          }
        }
      ]
    },
    {
      "cell_type": "code",
      "source": [
        "# Loading the automatically saved model\n",
        "model_reloaded = load_model(checkpoint_no + '/' + model_name)\n",
        "\n",
        "# Saving the best model in the correct path and format\n",
        "root_directory = os.getcwd()\n",
        "checkpoint_dir = os.path.join(root_directory, checkpoint_no)\n",
        "model_name_temp = os.path.join(checkpoint_dir, model_name + '.h5')\n",
        "model_reloaded.save(model_name_temp)\n",
        "\n",
        "# Deletion of the automatically created folder under Model Checkpoint File.\n",
        "folder_name_temp = os.path.join(checkpoint_dir, model_name)\n",
        "shutil.rmtree(folder_name_temp, ignore_errors=True)"
      ],
      "metadata": {
        "id": "VWIRWsEVf56V"
      },
      "id": "VWIRWsEVf56V",
      "execution_count": 439,
      "outputs": []
    },
    {
      "cell_type": "code",
      "source": [
        "best_model = load_model(model_name_temp)"
      ],
      "metadata": {
        "id": "guaXpKSZt-nI"
      },
      "id": "guaXpKSZt-nI",
      "execution_count": 440,
      "outputs": []
    },
    {
      "cell_type": "code",
      "source": [
        "test_loss, test_mae = best_model.evaluate(testX_scaled,\n",
        "                                          testY,\n",
        "                                          steps=n_test_steps)\n",
        "print()\n",
        "print('Test MAE:', test_mae)"
      ],
      "metadata": {
        "id": "5gyAvbevSxpK",
        "outputId": "2e80dfbd-c484-4030-fd1d-cf1db999d15b",
        "colab": {
          "base_uri": "https://localhost:8080/"
        }
      },
      "id": "5gyAvbevSxpK",
      "execution_count": 441,
      "outputs": [
        {
          "output_type": "stream",
          "name": "stdout",
          "text": [
            "1/1 [==============================] - 0s 205ms/step - loss: 0.8103 - mae: 0.6800\n",
            "\n",
            "Test MAE: 0.6800051927566528\n"
          ]
        }
      ]
    },
    {
      "cell_type": "code",
      "source": [
        "X = scaler.transform(df[features])\n",
        "#Y = scaler.transform(df[target])"
      ],
      "metadata": {
        "id": "TjKzT7RnU64z"
      },
      "id": "TjKzT7RnU64z",
      "execution_count": 475,
      "outputs": []
    },
    {
      "cell_type": "code",
      "source": [
        "pred = model.predict(X)"
      ],
      "metadata": {
        "id": "T-G69u1iS2ts",
        "outputId": "94ce4008-1599-43b3-9e88-cb30386bf096",
        "colab": {
          "base_uri": "https://localhost:8080/"
        }
      },
      "id": "T-G69u1iS2ts",
      "execution_count": 476,
      "outputs": [
        {
          "output_type": "stream",
          "name": "stdout",
          "text": [
            "36/36 [==============================] - 0s 2ms/step\n"
          ]
        }
      ]
    },
    {
      "cell_type": "code",
      "source": [
        "df_Y = pd.DataFrame(Y)\n",
        "df_pred = pd.DataFrame(model.predict(X))\n",
        "\n",
        "df_Y.reset_index(drop=True, inplace=True)\n",
        "df_pred.reset_index(drop=True, inplace=True)\n",
        "\n",
        "df_results = pd.concat([df_Y, df_pred], axis=1)\n",
        "df_results.columns = ['Actual', 'Predicted']\n",
        "\n",
        "df_results"
      ],
      "metadata": {
        "id": "wFy8jj_9WmAy",
        "outputId": "c60cf3b9-5c75-47ef-eb09-b94902534a88",
        "colab": {
          "base_uri": "https://localhost:8080/",
          "height": 441
        }
      },
      "id": "wFy8jj_9WmAy",
      "execution_count": 485,
      "outputs": [
        {
          "output_type": "stream",
          "name": "stdout",
          "text": [
            "36/36 [==============================] - 0s 2ms/step\n"
          ]
        },
        {
          "output_type": "execute_result",
          "data": {
            "text/plain": [
              "        Actual  Predicted\n",
              "0     6.129050   6.134566\n",
              "1     6.720220   6.707363\n",
              "2     7.364547   7.385225\n",
              "3     6.591674   6.657373\n",
              "4     6.143370   6.115696\n",
              "...        ...        ...\n",
              "1127  6.907755   6.954369\n",
              "1128  6.683361   6.997562\n",
              "1129  6.444131   6.768174\n",
              "1130  6.309900   6.313198\n",
              "1131  6.746013   6.681204\n",
              "\n",
              "[1132 rows x 2 columns]"
            ],
            "text/html": [
              "\n",
              "  <div id=\"df-83d95a5d-5490-41a8-976d-c54542ace54d\">\n",
              "    <div class=\"colab-df-container\">\n",
              "      <div>\n",
              "<style scoped>\n",
              "    .dataframe tbody tr th:only-of-type {\n",
              "        vertical-align: middle;\n",
              "    }\n",
              "\n",
              "    .dataframe tbody tr th {\n",
              "        vertical-align: top;\n",
              "    }\n",
              "\n",
              "    .dataframe thead th {\n",
              "        text-align: right;\n",
              "    }\n",
              "</style>\n",
              "<table border=\"1\" class=\"dataframe\">\n",
              "  <thead>\n",
              "    <tr style=\"text-align: right;\">\n",
              "      <th></th>\n",
              "      <th>Actual</th>\n",
              "      <th>Predicted</th>\n",
              "    </tr>\n",
              "  </thead>\n",
              "  <tbody>\n",
              "    <tr>\n",
              "      <th>0</th>\n",
              "      <td>6.129050</td>\n",
              "      <td>6.134566</td>\n",
              "    </tr>\n",
              "    <tr>\n",
              "      <th>1</th>\n",
              "      <td>6.720220</td>\n",
              "      <td>6.707363</td>\n",
              "    </tr>\n",
              "    <tr>\n",
              "      <th>2</th>\n",
              "      <td>7.364547</td>\n",
              "      <td>7.385225</td>\n",
              "    </tr>\n",
              "    <tr>\n",
              "      <th>3</th>\n",
              "      <td>6.591674</td>\n",
              "      <td>6.657373</td>\n",
              "    </tr>\n",
              "    <tr>\n",
              "      <th>4</th>\n",
              "      <td>6.143370</td>\n",
              "      <td>6.115696</td>\n",
              "    </tr>\n",
              "    <tr>\n",
              "      <th>...</th>\n",
              "      <td>...</td>\n",
              "      <td>...</td>\n",
              "    </tr>\n",
              "    <tr>\n",
              "      <th>1127</th>\n",
              "      <td>6.907755</td>\n",
              "      <td>6.954369</td>\n",
              "    </tr>\n",
              "    <tr>\n",
              "      <th>1128</th>\n",
              "      <td>6.683361</td>\n",
              "      <td>6.997562</td>\n",
              "    </tr>\n",
              "    <tr>\n",
              "      <th>1129</th>\n",
              "      <td>6.444131</td>\n",
              "      <td>6.768174</td>\n",
              "    </tr>\n",
              "    <tr>\n",
              "      <th>1130</th>\n",
              "      <td>6.309900</td>\n",
              "      <td>6.313198</td>\n",
              "    </tr>\n",
              "    <tr>\n",
              "      <th>1131</th>\n",
              "      <td>6.746013</td>\n",
              "      <td>6.681204</td>\n",
              "    </tr>\n",
              "  </tbody>\n",
              "</table>\n",
              "<p>1132 rows × 2 columns</p>\n",
              "</div>\n",
              "      <button class=\"colab-df-convert\" onclick=\"convertToInteractive('df-83d95a5d-5490-41a8-976d-c54542ace54d')\"\n",
              "              title=\"Convert this dataframe to an interactive table.\"\n",
              "              style=\"display:none;\">\n",
              "        \n",
              "  <svg xmlns=\"http://www.w3.org/2000/svg\" height=\"24px\"viewBox=\"0 0 24 24\"\n",
              "       width=\"24px\">\n",
              "    <path d=\"M0 0h24v24H0V0z\" fill=\"none\"/>\n",
              "    <path d=\"M18.56 5.44l.94 2.06.94-2.06 2.06-.94-2.06-.94-.94-2.06-.94 2.06-2.06.94zm-11 1L8.5 8.5l.94-2.06 2.06-.94-2.06-.94L8.5 2.5l-.94 2.06-2.06.94zm10 10l.94 2.06.94-2.06 2.06-.94-2.06-.94-.94-2.06-.94 2.06-2.06.94z\"/><path d=\"M17.41 7.96l-1.37-1.37c-.4-.4-.92-.59-1.43-.59-.52 0-1.04.2-1.43.59L10.3 9.45l-7.72 7.72c-.78.78-.78 2.05 0 2.83L4 21.41c.39.39.9.59 1.41.59.51 0 1.02-.2 1.41-.59l7.78-7.78 2.81-2.81c.8-.78.8-2.07 0-2.86zM5.41 20L4 18.59l7.72-7.72 1.47 1.35L5.41 20z\"/>\n",
              "  </svg>\n",
              "      </button>\n",
              "      \n",
              "  <style>\n",
              "    .colab-df-container {\n",
              "      display:flex;\n",
              "      flex-wrap:wrap;\n",
              "      gap: 12px;\n",
              "    }\n",
              "\n",
              "    .colab-df-convert {\n",
              "      background-color: #E8F0FE;\n",
              "      border: none;\n",
              "      border-radius: 50%;\n",
              "      cursor: pointer;\n",
              "      display: none;\n",
              "      fill: #1967D2;\n",
              "      height: 32px;\n",
              "      padding: 0 0 0 0;\n",
              "      width: 32px;\n",
              "    }\n",
              "\n",
              "    .colab-df-convert:hover {\n",
              "      background-color: #E2EBFA;\n",
              "      box-shadow: 0px 1px 2px rgba(60, 64, 67, 0.3), 0px 1px 3px 1px rgba(60, 64, 67, 0.15);\n",
              "      fill: #174EA6;\n",
              "    }\n",
              "\n",
              "    [theme=dark] .colab-df-convert {\n",
              "      background-color: #3B4455;\n",
              "      fill: #D2E3FC;\n",
              "    }\n",
              "\n",
              "    [theme=dark] .colab-df-convert:hover {\n",
              "      background-color: #434B5C;\n",
              "      box-shadow: 0px 1px 3px 1px rgba(0, 0, 0, 0.15);\n",
              "      filter: drop-shadow(0px 1px 2px rgba(0, 0, 0, 0.3));\n",
              "      fill: #FFFFFF;\n",
              "    }\n",
              "  </style>\n",
              "\n",
              "      <script>\n",
              "        const buttonEl =\n",
              "          document.querySelector('#df-83d95a5d-5490-41a8-976d-c54542ace54d button.colab-df-convert');\n",
              "        buttonEl.style.display =\n",
              "          google.colab.kernel.accessAllowed ? 'block' : 'none';\n",
              "\n",
              "        async function convertToInteractive(key) {\n",
              "          const element = document.querySelector('#df-83d95a5d-5490-41a8-976d-c54542ace54d');\n",
              "          const dataTable =\n",
              "            await google.colab.kernel.invokeFunction('convertToInteractive',\n",
              "                                                     [key], {});\n",
              "          if (!dataTable) return;\n",
              "\n",
              "          const docLinkHtml = 'Like what you see? Visit the ' +\n",
              "            '<a target=\"_blank\" href=https://colab.research.google.com/notebooks/data_table.ipynb>data table notebook</a>'\n",
              "            + ' to learn more about interactive tables.';\n",
              "          element.innerHTML = '';\n",
              "          dataTable['output_type'] = 'display_data';\n",
              "          await google.colab.output.renderOutput(dataTable, element);\n",
              "          const docLink = document.createElement('div');\n",
              "          docLink.innerHTML = docLinkHtml;\n",
              "          element.appendChild(docLink);\n",
              "        }\n",
              "      </script>\n",
              "    </div>\n",
              "  </div>\n",
              "  "
            ]
          },
          "metadata": {},
          "execution_count": 485
        }
      ]
    },
    {
      "cell_type": "code",
      "source": [
        "metrics.r2_score(Y, pred)"
      ],
      "metadata": {
        "id": "WyLZ-Ek7S4aY",
        "outputId": "17fe15b0-bd81-4584-ca61-fcb176b42792",
        "colab": {
          "base_uri": "https://localhost:8080/"
        }
      },
      "id": "WyLZ-Ek7S4aY",
      "execution_count": 479,
      "outputs": [
        {
          "output_type": "execute_result",
          "data": {
            "text/plain": [
              "-1.982503674186479"
            ]
          },
          "metadata": {},
          "execution_count": 479
        }
      ]
    },
    {
      "cell_type": "code",
      "source": [
        "print('Mean Absolute Error:', metrics.mean_absolute_error(Y, pred))\n",
        "print('Mean Squared Error:', metrics.mean_squared_error(Y, pred))\n",
        "print('Root Mean Squared Error:', metrics.mean_squared_error(Y, pred, squared=False))\n",
        "print('Mean Absolute Percentage Error:', metrics.mean_absolute_percentage_error(Y, pred))"
      ],
      "metadata": {
        "id": "b216C2NjXVxC",
        "outputId": "15757284-ec85-4a06-d389-3ed156e114b0",
        "colab": {
          "base_uri": "https://localhost:8080/"
        }
      },
      "id": "b216C2NjXVxC",
      "execution_count": 499,
      "outputs": [
        {
          "output_type": "stream",
          "name": "stdout",
          "text": [
            "Mean Absolute Error: 0.5561407484954031\n",
            "Mean Squared Error: 1.1607912700419176\n",
            "Root Mean Squared Error: 1.0774002367003257\n",
            "Mean Absolute Percentage Error: 0.08149729556703406\n"
          ]
        }
      ]
    },
    {
      "cell_type": "markdown",
      "source": [
        "## Save the model"
      ],
      "metadata": {
        "id": "LlZXZty-ZkTt"
      },
      "id": "LlZXZty-ZkTt"
    },
    {
      "cell_type": "markdown",
      "source": [
        "Let's save the model. I will later compare the performance of different models on the testing dataset"
      ],
      "metadata": {
        "id": "mc_dhEb7i9wb"
      },
      "id": "mc_dhEb7i9wb"
    },
    {
      "cell_type": "code",
      "source": [
        "import pickle"
      ],
      "metadata": {
        "id": "CSheVeILdaIK"
      },
      "id": "CSheVeILdaIK",
      "execution_count": 239,
      "outputs": []
    },
    {
      "cell_type": "code",
      "source": [
        "pickle.dump(best_model, open('neural_network.sav', 'wb'))"
      ],
      "metadata": {
        "id": "WeqNhS_Hb6f8"
      },
      "id": "WeqNhS_Hb6f8",
      "execution_count": 504,
      "outputs": []
    },
    {
      "cell_type": "markdown",
      "source": [
        "# BRUDNOPIS"
      ],
      "metadata": {
        "id": "T-_Uk0mufBh4"
      },
      "id": "T-_Uk0mufBh4"
    },
    {
      "cell_type": "code",
      "source": [
        "df = pd.read_csv('data/laptop_train.csv')"
      ],
      "metadata": {
        "id": "HiViKvpKcoyy"
      },
      "id": "HiViKvpKcoyy",
      "execution_count": 507,
      "outputs": []
    },
    {
      "cell_type": "code",
      "source": [
        "# One hot encoding\n",
        "dummLev = pd.get_dummies(df[catFeatures], drop_first=True)\n",
        "\n",
        "# Połączenie zmiennych numerycznych, kategorycznych w postaci on hot encoding oraz targetu\n",
        "df = pd.concat([df[numericFeatures], dummLev, df[[target]]], axis=1)\n",
        "\n",
        "df[numericFeatures] = df[numericFeatures].apply(lambda x: (x-x.mean())/x.std())"
      ],
      "metadata": {
        "id": "xMxTtxONdETm"
      },
      "id": "xMxTtxONdETm",
      "execution_count": 508,
      "outputs": []
    },
    {
      "cell_type": "code",
      "source": [
        "df_sc = scaler.transform(df[features])"
      ],
      "metadata": {
        "id": "zZiuTdE_diAz"
      },
      "id": "zZiuTdE_diAz",
      "execution_count": 515,
      "outputs": []
    },
    {
      "cell_type": "code",
      "source": [
        "pred = best_model.predict(df_sc)"
      ],
      "metadata": {
        "id": "pi-waIUWc1Dp",
        "outputId": "cd977977-32a4-4ea4-d4db-ce18f90bf27e",
        "colab": {
          "base_uri": "https://localhost:8080/"
        }
      },
      "id": "pi-waIUWc1Dp",
      "execution_count": 516,
      "outputs": [
        {
          "output_type": "stream",
          "name": "stdout",
          "text": [
            "36/36 [==============================] - 0s 2ms/step\n"
          ]
        }
      ]
    },
    {
      "cell_type": "code",
      "source": [
        "pred"
      ],
      "metadata": {
        "id": "aNdC7RUGc5wQ",
        "outputId": "ce331cf6-f6ed-4b39-d1d9-b7792f2158f2",
        "colab": {
          "base_uri": "https://localhost:8080/"
        }
      },
      "id": "aNdC7RUGc5wQ",
      "execution_count": 517,
      "outputs": [
        {
          "output_type": "execute_result",
          "data": {
            "text/plain": [
              "array([[5.9421787],\n",
              "       [6.791689 ],\n",
              "       [7.171391 ],\n",
              "       ...,\n",
              "       [6.011772 ],\n",
              "       [6.1567183],\n",
              "       [6.7748027]], dtype=float32)"
            ]
          },
          "metadata": {},
          "execution_count": 517
        }
      ]
    },
    {
      "cell_type": "code",
      "source": [
        "df[target]"
      ],
      "metadata": {
        "id": "e3BhhuOldS85",
        "outputId": "9729944f-30a2-4987-d1aa-55bdc1a6d365",
        "colab": {
          "base_uri": "https://localhost:8080/"
        }
      },
      "id": "e3BhhuOldS85",
      "execution_count": 518,
      "outputs": [
        {
          "output_type": "execute_result",
          "data": {
            "text/plain": [
              "0       6.129050\n",
              "1       6.720220\n",
              "2       7.364547\n",
              "3       6.591674\n",
              "4       6.143370\n",
              "          ...   \n",
              "1127    6.907755\n",
              "1128    6.683361\n",
              "1129    6.444131\n",
              "1130    6.309900\n",
              "1131    6.746013\n",
              "Name: log_price, Length: 1132, dtype: float64"
            ]
          },
          "metadata": {},
          "execution_count": 518
        }
      ]
    },
    {
      "cell_type": "code",
      "source": [
        "metrics.r2_score(df[target], pred)"
      ],
      "metadata": {
        "id": "7AfuYYTTdY8w",
        "outputId": "bd16c5a9-a794-4172-f5cc-fae6b918db72",
        "colab": {
          "base_uri": "https://localhost:8080/"
        }
      },
      "id": "7AfuYYTTdY8w",
      "execution_count": 519,
      "outputs": [
        {
          "output_type": "execute_result",
          "data": {
            "text/plain": [
              "0.6325403851738128"
            ]
          },
          "metadata": {},
          "execution_count": 519
        }
      ]
    },
    {
      "cell_type": "code",
      "source": [
        "df = pd.read_csv('data/laptop_test.csv')\n",
        "\n",
        "target = \"log_price\"\n",
        "numericFeatures = [\"inches\", \"ram(GB)\", \"weight(kg)\", \"cpu(GHz)\", \"memory_1_storage_gb\", \"memory_2_storage_gb\"]\n",
        "catFeatures = [\"company\", \"product\", \"typename\", \"cpu\", \"gpu\", \"opsys\", \"resolution\", \"screentype\", \"touchscreen\", \"memory_1_type\", \"memory_2_type\"]\n",
        "\n",
        "features = df.columns.tolist()\n",
        "features.remove(target)\n",
        "\n",
        "en = LabelEncoder()\n",
        "for cols in catFeatures:\n",
        "    df[cols] = en.fit_transform(df[cols])\n",
        "print('Dataframe encoded by Label encoding dimension : ', df.shape)"
      ],
      "metadata": {
        "id": "F4d4eC0SeGJu",
        "outputId": "0dc3e7b2-0eba-4058-d2c5-d056f93284ba",
        "colab": {
          "base_uri": "https://localhost:8080/"
        }
      },
      "id": "F4d4eC0SeGJu",
      "execution_count": 529,
      "outputs": [
        {
          "output_type": "stream",
          "name": "stdout",
          "text": [
            "Dataframe encoded by Label encoding dimension :  (131, 18)\n"
          ]
        }
      ]
    },
    {
      "cell_type": "code",
      "source": [
        "loaded_model = pickle.load(open('xgboost.sav', 'rb'))\n",
        "result = loaded_model.score(df[features], df[target])\n",
        "print(result)"
      ],
      "metadata": {
        "id": "2b-rtuctdsmd",
        "outputId": "6c9955b4-60a0-4953-83a1-ed6f0cc708df",
        "colab": {
          "base_uri": "https://localhost:8080/"
        }
      },
      "id": "2b-rtuctdsmd",
      "execution_count": 530,
      "outputs": [
        {
          "output_type": "stream",
          "name": "stdout",
          "text": [
            "[02:20:19] WARNING: /workspace/src/objective/regression_obj.cu:152: reg:linear is now deprecated in favor of reg:squarederror.\n",
            "-0.19124645548577024\n"
          ]
        }
      ]
    },
    {
      "cell_type": "code",
      "source": [],
      "metadata": {
        "id": "t7-leq0od-A8"
      },
      "id": "t7-leq0od-A8",
      "execution_count": null,
      "outputs": []
    }
  ],
  "metadata": {
    "colab": {
      "provenance": []
    },
    "language_info": {
      "name": "python"
    },
    "kernelspec": {
      "name": "python3",
      "display_name": "Python 3"
    },
    "gpuClass": "standard"
  },
  "nbformat": 4,
  "nbformat_minor": 5
}