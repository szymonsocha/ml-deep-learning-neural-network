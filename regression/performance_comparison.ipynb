{
 "cells": [
  {
   "cell_type": "markdown",
   "metadata": {
    "id": "kEBMxhXatpMj"
   },
   "source": [
    "# Performance comparison"
   ]
  },
  {
   "cell_type": "code",
   "execution_count": 1,
   "metadata": {
    "id": "-VF7G4PQt6pJ"
   },
   "outputs": [],
   "source": [
    "import pandas as pd\n",
    "import numpy as np\n",
    "from sklearn.preprocessing import LabelEncoder\n",
    "from sklearn.metrics import r2_score\n",
    "import pickle"
   ]
  },
  {
   "cell_type": "code",
   "execution_count": 2,
   "metadata": {
    "id": "aCsHAszQt-9W"
   },
   "outputs": [],
   "source": [
    "df = pd.read_csv('data/laptop_test.csv')\n",
    "df = df.dropna()"
   ]
  },
  {
   "cell_type": "code",
   "execution_count": 3,
   "metadata": {
    "colab": {
     "base_uri": "https://localhost:8080/",
     "height": 206
    },
    "id": "JjT7G4-uxfml",
    "outputId": "47fd71f6-7c7d-4d4f-abc8-228609b388d1"
   },
   "outputs": [
    {
     "data": {
      "text/html": [
       "\n",
       "  <div id=\"df-b765d055-f6aa-4286-8fb6-98db1213d6ab\">\n",
       "    <div class=\"colab-df-container\">\n",
       "      <div>\n",
       "<style scoped>\n",
       "    .dataframe tbody tr th:only-of-type {\n",
       "        vertical-align: middle;\n",
       "    }\n",
       "\n",
       "    .dataframe tbody tr th {\n",
       "        vertical-align: top;\n",
       "    }\n",
       "\n",
       "    .dataframe thead th {\n",
       "        text-align: right;\n",
       "    }\n",
       "</style>\n",
       "<table border=\"1\" class=\"dataframe\">\n",
       "  <thead>\n",
       "    <tr style=\"text-align: right;\">\n",
       "      <th></th>\n",
       "      <th>company</th>\n",
       "      <th>product</th>\n",
       "      <th>typename</th>\n",
       "      <th>inches</th>\n",
       "      <th>cpu</th>\n",
       "      <th>ram(GB)</th>\n",
       "      <th>gpu</th>\n",
       "      <th>opsys</th>\n",
       "      <th>weight(kg)</th>\n",
       "      <th>resolution</th>\n",
       "      <th>screentype</th>\n",
       "      <th>touchscreen</th>\n",
       "      <th>cpu(GHz)</th>\n",
       "      <th>memory_1_storage_gb</th>\n",
       "      <th>memory_1_type</th>\n",
       "      <th>memory_2_storage_gb</th>\n",
       "      <th>memory_2_type</th>\n",
       "      <th>log_price</th>\n",
       "    </tr>\n",
       "  </thead>\n",
       "  <tbody>\n",
       "    <tr>\n",
       "      <th>0</th>\n",
       "      <td>16</td>\n",
       "      <td>334</td>\n",
       "      <td>3</td>\n",
       "      <td>13.3</td>\n",
       "      <td>57</td>\n",
       "      <td>8</td>\n",
       "      <td>53</td>\n",
       "      <td>5</td>\n",
       "      <td>1.05</td>\n",
       "      <td>3</td>\n",
       "      <td>0</td>\n",
       "      <td>0</td>\n",
       "      <td>2.5</td>\n",
       "      <td>256.0</td>\n",
       "      <td>3</td>\n",
       "      <td>0.0</td>\n",
       "      <td>3</td>\n",
       "      <td>7.421776</td>\n",
       "    </tr>\n",
       "    <tr>\n",
       "      <th>1</th>\n",
       "      <td>7</td>\n",
       "      <td>417</td>\n",
       "      <td>3</td>\n",
       "      <td>13.3</td>\n",
       "      <td>57</td>\n",
       "      <td>8</td>\n",
       "      <td>53</td>\n",
       "      <td>5</td>\n",
       "      <td>1.11</td>\n",
       "      <td>3</td>\n",
       "      <td>0</td>\n",
       "      <td>0</td>\n",
       "      <td>2.5</td>\n",
       "      <td>256.0</td>\n",
       "      <td>3</td>\n",
       "      <td>0.0</td>\n",
       "      <td>3</td>\n",
       "      <td>7.046647</td>\n",
       "    </tr>\n",
       "    <tr>\n",
       "      <th>2</th>\n",
       "      <td>10</td>\n",
       "      <td>202</td>\n",
       "      <td>3</td>\n",
       "      <td>15.6</td>\n",
       "      <td>0</td>\n",
       "      <td>6</td>\n",
       "      <td>18</td>\n",
       "      <td>5</td>\n",
       "      <td>2.40</td>\n",
       "      <td>3</td>\n",
       "      <td>2</td>\n",
       "      <td>0</td>\n",
       "      <td>2.4</td>\n",
       "      <td>1000.0</td>\n",
       "      <td>1</td>\n",
       "      <td>0.0</td>\n",
       "      <td>3</td>\n",
       "      <td>6.212606</td>\n",
       "    </tr>\n",
       "    <tr>\n",
       "      <th>3</th>\n",
       "      <td>10</td>\n",
       "      <td>225</td>\n",
       "      <td>3</td>\n",
       "      <td>15.6</td>\n",
       "      <td>69</td>\n",
       "      <td>8</td>\n",
       "      <td>89</td>\n",
       "      <td>5</td>\n",
       "      <td>2.60</td>\n",
       "      <td>3</td>\n",
       "      <td>0</td>\n",
       "      <td>0</td>\n",
       "      <td>2.6</td>\n",
       "      <td>1000.0</td>\n",
       "      <td>1</td>\n",
       "      <td>0.0</td>\n",
       "      <td>3</td>\n",
       "      <td>6.801283</td>\n",
       "    </tr>\n",
       "    <tr>\n",
       "      <th>4</th>\n",
       "      <td>7</td>\n",
       "      <td>110</td>\n",
       "      <td>4</td>\n",
       "      <td>12.5</td>\n",
       "      <td>52</td>\n",
       "      <td>4</td>\n",
       "      <td>47</td>\n",
       "      <td>5</td>\n",
       "      <td>1.26</td>\n",
       "      <td>0</td>\n",
       "      <td>2</td>\n",
       "      <td>0</td>\n",
       "      <td>2.3</td>\n",
       "      <td>256.0</td>\n",
       "      <td>3</td>\n",
       "      <td>0.0</td>\n",
       "      <td>3</td>\n",
       "      <td>7.126087</td>\n",
       "    </tr>\n",
       "  </tbody>\n",
       "</table>\n",
       "</div>\n",
       "      <button class=\"colab-df-convert\" onclick=\"convertToInteractive('df-b765d055-f6aa-4286-8fb6-98db1213d6ab')\"\n",
       "              title=\"Convert this dataframe to an interactive table.\"\n",
       "              style=\"display:none;\">\n",
       "        \n",
       "  <svg xmlns=\"http://www.w3.org/2000/svg\" height=\"24px\"viewBox=\"0 0 24 24\"\n",
       "       width=\"24px\">\n",
       "    <path d=\"M0 0h24v24H0V0z\" fill=\"none\"/>\n",
       "    <path d=\"M18.56 5.44l.94 2.06.94-2.06 2.06-.94-2.06-.94-.94-2.06-.94 2.06-2.06.94zm-11 1L8.5 8.5l.94-2.06 2.06-.94-2.06-.94L8.5 2.5l-.94 2.06-2.06.94zm10 10l.94 2.06.94-2.06 2.06-.94-2.06-.94-.94-2.06-.94 2.06-2.06.94z\"/><path d=\"M17.41 7.96l-1.37-1.37c-.4-.4-.92-.59-1.43-.59-.52 0-1.04.2-1.43.59L10.3 9.45l-7.72 7.72c-.78.78-.78 2.05 0 2.83L4 21.41c.39.39.9.59 1.41.59.51 0 1.02-.2 1.41-.59l7.78-7.78 2.81-2.81c.8-.78.8-2.07 0-2.86zM5.41 20L4 18.59l7.72-7.72 1.47 1.35L5.41 20z\"/>\n",
       "  </svg>\n",
       "      </button>\n",
       "      \n",
       "  <style>\n",
       "    .colab-df-container {\n",
       "      display:flex;\n",
       "      flex-wrap:wrap;\n",
       "      gap: 12px;\n",
       "    }\n",
       "\n",
       "    .colab-df-convert {\n",
       "      background-color: #E8F0FE;\n",
       "      border: none;\n",
       "      border-radius: 50%;\n",
       "      cursor: pointer;\n",
       "      display: none;\n",
       "      fill: #1967D2;\n",
       "      height: 32px;\n",
       "      padding: 0 0 0 0;\n",
       "      width: 32px;\n",
       "    }\n",
       "\n",
       "    .colab-df-convert:hover {\n",
       "      background-color: #E2EBFA;\n",
       "      box-shadow: 0px 1px 2px rgba(60, 64, 67, 0.3), 0px 1px 3px 1px rgba(60, 64, 67, 0.15);\n",
       "      fill: #174EA6;\n",
       "    }\n",
       "\n",
       "    [theme=dark] .colab-df-convert {\n",
       "      background-color: #3B4455;\n",
       "      fill: #D2E3FC;\n",
       "    }\n",
       "\n",
       "    [theme=dark] .colab-df-convert:hover {\n",
       "      background-color: #434B5C;\n",
       "      box-shadow: 0px 1px 3px 1px rgba(0, 0, 0, 0.15);\n",
       "      filter: drop-shadow(0px 1px 2px rgba(0, 0, 0, 0.3));\n",
       "      fill: #FFFFFF;\n",
       "    }\n",
       "  </style>\n",
       "\n",
       "      <script>\n",
       "        const buttonEl =\n",
       "          document.querySelector('#df-b765d055-f6aa-4286-8fb6-98db1213d6ab button.colab-df-convert');\n",
       "        buttonEl.style.display =\n",
       "          google.colab.kernel.accessAllowed ? 'block' : 'none';\n",
       "\n",
       "        async function convertToInteractive(key) {\n",
       "          const element = document.querySelector('#df-b765d055-f6aa-4286-8fb6-98db1213d6ab');\n",
       "          const dataTable =\n",
       "            await google.colab.kernel.invokeFunction('convertToInteractive',\n",
       "                                                     [key], {});\n",
       "          if (!dataTable) return;\n",
       "\n",
       "          const docLinkHtml = 'Like what you see? Visit the ' +\n",
       "            '<a target=\"_blank\" href=https://colab.research.google.com/notebooks/data_table.ipynb>data table notebook</a>'\n",
       "            + ' to learn more about interactive tables.';\n",
       "          element.innerHTML = '';\n",
       "          dataTable['output_type'] = 'display_data';\n",
       "          await google.colab.output.renderOutput(dataTable, element);\n",
       "          const docLink = document.createElement('div');\n",
       "          docLink.innerHTML = docLinkHtml;\n",
       "          element.appendChild(docLink);\n",
       "        }\n",
       "      </script>\n",
       "    </div>\n",
       "  </div>\n",
       "  "
      ],
      "text/plain": [
       "   company  product  typename  inches  cpu  ram(GB)  gpu  opsys  weight(kg)  \\\n",
       "0       16      334         3    13.3   57        8   53      5        1.05   \n",
       "1        7      417         3    13.3   57        8   53      5        1.11   \n",
       "2       10      202         3    15.6    0        6   18      5        2.40   \n",
       "3       10      225         3    15.6   69        8   89      5        2.60   \n",
       "4        7      110         4    12.5   52        4   47      5        1.26   \n",
       "\n",
       "   resolution  screentype  touchscreen  cpu(GHz)  memory_1_storage_gb  \\\n",
       "0           3           0            0       2.5                256.0   \n",
       "1           3           0            0       2.5                256.0   \n",
       "2           3           2            0       2.4               1000.0   \n",
       "3           3           0            0       2.6               1000.0   \n",
       "4           0           2            0       2.3                256.0   \n",
       "\n",
       "   memory_1_type  memory_2_storage_gb  memory_2_type  log_price  \n",
       "0              3                  0.0              3   7.421776  \n",
       "1              3                  0.0              3   7.046647  \n",
       "2              1                  0.0              3   6.212606  \n",
       "3              1                  0.0              3   6.801283  \n",
       "4              3                  0.0              3   7.126087  "
      ]
     },
     "execution_count": 3,
     "metadata": {},
     "output_type": "execute_result"
    }
   ],
   "source": [
    "df.head()"
   ]
  },
  {
   "cell_type": "code",
   "execution_count": 4,
   "metadata": {
    "id": "i9L5u016uA4Q"
   },
   "outputs": [],
   "source": [
    "target = \"log_price\"\n",
    "numericFeatures = [\"inches\", \"ram(GB)\", \"weight(kg)\", \"cpu(GHz)\", \"memory_1_storage_gb\", \"memory_2_storage_gb\"]\n",
    "catFeatures = [\"company\", \"product\", \"typename\", \"cpu\", \"gpu\", \"opsys\", \"resolution\", \"screentype\", \"touchscreen\", \"memory_1_type\", \"memory_2_type\"]\n",
    "\n",
    "features = df.columns.tolist()\n",
    "features.remove(target)"
   ]
  },
  {
   "cell_type": "markdown",
   "metadata": {
    "id": "r4cyC3_WU3WE"
   },
   "source": [
    "## Predictions on test data\n",
    "Never seen dataest"
   ]
  },
  {
   "cell_type": "markdown",
   "metadata": {
    "id": "zoI0N3i0Vgxf"
   },
   "source": [
    "### Random Forest"
   ]
  },
  {
   "cell_type": "code",
   "execution_count": 19,
   "metadata": {
    "colab": {
     "base_uri": "https://localhost:8080/"
    },
    "id": "f7ect4QouH5T",
    "outputId": "10632b7c-2455-4735-b484-137f9f096c0c"
   },
   "outputs": [
    {
     "name": "stdout",
     "output_type": "stream",
     "text": [
      "Random Forest\n",
      "R2: 93.2558 %\n"
     ]
    }
   ],
   "source": [
    "random_forest = pickle.load(open(\"models/random_forest.sav\", 'rb'))\n",
    "random_forest_pred = random_forest.predict(df[features])\n",
    "random_forest_r2 = r2_score(random_forest_pred, df[target])\n",
    "print(\"Random Forest\\nR2: {:.4f} %\".format(random_forest_r2*100))"
   ]
  },
  {
   "cell_type": "markdown",
   "metadata": {
    "id": "6RJY199hVl7i"
   },
   "source": [
    "### XGBoost"
   ]
  },
  {
   "cell_type": "code",
   "execution_count": 20,
   "metadata": {
    "colab": {
     "base_uri": "https://localhost:8080/"
    },
    "id": "PB7vnb5cNF6V",
    "outputId": "d3f30ffa-edca-4364-f049-4f1adde82735"
   },
   "outputs": [
    {
     "name": "stdout",
     "output_type": "stream",
     "text": [
      "[03:33:50] WARNING: /workspace/src/objective/regression_obj.cu:152: reg:linear is now deprecated in favor of reg:squarederror.\n",
      "XGBoost\n",
      "R2: 91.6318 %\n"
     ]
    }
   ],
   "source": [
    "xgb = pickle.load(open(\"models/xgboost.sav\", 'rb'))\n",
    "xgb_pred = xgb.predict(df[features])\n",
    "xgb_r2 = r2_score(xgb_pred, df[target])\n",
    "print(\"XGBoost\\nR2: {:.4f} %\".format(xgb_r2*100))"
   ]
  },
  {
   "cell_type": "markdown",
   "metadata": {
    "id": "CALvkvOfN3SD"
   },
   "source": [
    "### Neural Network"
   ]
  },
  {
   "cell_type": "code",
   "execution_count": 14,
   "metadata": {
    "id": "wzxppOKDbpFf"
   },
   "outputs": [],
   "source": [
    "import pickle\n",
    "from keras.models import load_model"
   ]
  },
  {
   "cell_type": "code",
   "execution_count": 15,
   "metadata": {
    "id": "rw5JVq55EG_R"
   },
   "outputs": [],
   "source": [
    "df_nn = df.copy()"
   ]
  },
  {
   "cell_type": "code",
   "execution_count": 16,
   "metadata": {
    "id": "aasI7wlrL2K9"
   },
   "outputs": [],
   "source": [
    "scaler = pickle.load(open('scaler/sc_nn.pkl','rb'))\n",
    "\n",
    "X_test_scaled = scaler.transform(df_nn[features])"
   ]
  },
  {
   "cell_type": "code",
   "execution_count": 22,
   "metadata": {
    "id": "H_z0hwHv_gIh"
   },
   "outputs": [],
   "source": [
    "def create_model( nl1=1, nl2=1,  nl3=1, \n",
    "                 nn1=1000, nn2=500, nn3 = 200, lr=0.01, momentum = 0.9,  decay=0., l1=0.01, l2=0.01,\n",
    "                act = 'relu', dropout=0, input_shape=1000, output_shape=1):\n",
    "    \n",
    "    opt = keras.optimizers.SGD(lr=lr, momentum=momentum)\n",
    "    reg = keras.regularizers.l1_l2(l1=l1, l2=l2)\n",
    "                                                     \n",
    "    model = models.Sequential()\n",
    "    \n",
    "    # for the firt layer we need to specify the input dimensions\n",
    "    first=True\n",
    "    \n",
    "    for i in range(nl1):\n",
    "        if first:\n",
    "            model.add(layers.Dense(nn1, input_dim=input_shape, activation=act, kernel_regularizer=reg))\n",
    "            first=False\n",
    "        else: \n",
    "            model.add(layers.Dense(nn1, activation=act, kernel_regularizer=reg))\n",
    "        if dropout!=0:\n",
    "            model.add(layers.Dropout(dropout))\n",
    "            \n",
    "    for i in range(nl2):\n",
    "        if first:\n",
    "            model.add(layers.Dense(nn2, input_dim=input_shape, activation=act, kernel_regularizer=reg))\n",
    "            first=False\n",
    "        else: \n",
    "            model.add(layers.Dense(nn2, activation=act, kernel_regularizer=reg))\n",
    "        if dropout!=0:\n",
    "            model.add(layers.Dropout(dropout))\n",
    "            \n",
    "    for i in range(nl3):\n",
    "        if first:\n",
    "            model.add(layers.Dense(nn3, input_dim=input_shape, activation=act, kernel_regularizer=reg))\n",
    "            first=False\n",
    "        else: \n",
    "            model.add(layers.Dense(nn3, activation=act, kernel_regularizer=reg))\n",
    "        if dropout!=0:\n",
    "            model.add(layers.Dropout(dropout))\n",
    "            \n",
    "    model.add(layers.Dense(1))\n",
    "    model.compile(loss='mse', optimizer=opt, metrics=['mae'],)\n",
    "    return model"
   ]
  },
  {
   "cell_type": "code",
   "execution_count": 27,
   "metadata": {
    "colab": {
     "base_uri": "https://localhost:8080/"
    },
    "id": "E5xds7Mj_c0m",
    "outputId": "192037a9-c1e1-4cb4-9968-93deefb2cb2c"
   },
   "outputs": [
    {
     "name": "stderr",
     "output_type": "stream",
     "text": [
      "<ipython-input-27-abc4fbab622a>:2: DeprecationWarning: KerasRegressor is deprecated, use Sci-Keras (https://github.com/adriangb/scikeras) instead. See https://www.adriangb.com/scikeras/stable/migration.html for help migrating.\n",
      "  neural_network = KerasRegressor(build_fn=create_model, epochs=100, batch_size=32, verbose=1)\n"
     ]
    },
    {
     "name": "stdout",
     "output_type": "stream",
     "text": [
      "5/5 [==============================] - 0s 19ms/step\n"
     ]
    },
    {
     "data": {
      "text/plain": [
       "array([7.1421566, 7.0317883, 5.9706273, 6.801144 , 7.1081395, 6.974774 ,\n",
       "       6.832797 , 5.9673543, 7.34105  , 5.6879096, 7.9339056, 6.4437485,\n",
       "       7.490829 , 6.5773406, 7.5080333, 6.839004 , 7.1936827, 6.9406724,\n",
       "       6.85024  , 7.8126516, 7.926122 , 6.536908 , 7.1194916, 5.716884 ,\n",
       "       7.061089 , 6.6591487, 6.667244 , 6.598046 , 7.421298 , 7.0144553,\n",
       "       6.174635 , 7.4343076, 7.4985256, 6.915441 , 7.0507407, 6.5701795,\n",
       "       6.565206 , 6.1132674, 7.145263 , 5.7452054, 7.5490246, 6.2667317,\n",
       "       6.4336205, 7.8575473, 6.3592005, 6.9912324, 7.5103927, 5.429512 ,\n",
       "       6.7449346, 7.270629 , 7.3596883, 6.3274035, 6.824941 , 6.7615004,\n",
       "       6.2851834, 6.9860616, 5.4293404, 6.8826833, 6.833511 , 6.801144 ,\n",
       "       7.3963027, 6.8211327, 6.208205 , 6.410998 , 5.6321416, 7.5299907,\n",
       "       6.1244   , 6.774446 , 6.9196024, 7.851482 , 8.091667 , 6.6719975,\n",
       "       6.5899425, 6.607064 , 5.9132323, 5.9403653, 6.626693 , 7.0731616,\n",
       "       7.1000338, 7.4712825, 7.137821 , 6.873023 , 5.785599 , 6.6551156,\n",
       "       5.6297846, 7.334753 , 6.0954976, 7.661003 , 6.8748193, 6.852784 ,\n",
       "       7.5131135, 7.9268756, 6.8651376, 6.512634 , 6.980236 , 6.1280394,\n",
       "       6.8200736, 6.6448264, 6.464063 , 6.9775386, 5.678595 , 6.2275114,\n",
       "       6.3994045, 7.60191  , 7.043669 , 6.5773406, 6.8086247, 6.801567 ,\n",
       "       7.261666 , 6.5540953, 7.3430133, 7.003539 , 6.980484 , 7.947594 ,\n",
       "       5.6003275, 7.4484773, 7.2281775, 7.5798187, 6.674137 , 6.5026426,\n",
       "       8.52725  , 6.8524785, 6.6201887, 7.4669957, 6.9287395, 6.1437206,\n",
       "       7.012894 , 6.6208453, 7.4699526, 7.327793 , 7.304476 ],\n",
       "      dtype=float32)"
      ]
     },
     "execution_count": 27,
     "metadata": {},
     "output_type": "execute_result"
    }
   ],
   "source": [
    "from keras.wrappers.scikit_learn import KerasRegressor\n",
    "neural_network = KerasRegressor(build_fn=create_model, epochs=100, batch_size=32, verbose=1)\n",
    "\n",
    "neural_network.model = load_model('models/nn.h5')\n",
    "\n",
    "neural_network_preds = neural_network.predict(X_test_scaled)\n",
    "neural_network_preds"
   ]
  },
  {
   "cell_type": "code",
   "execution_count": 29,
   "metadata": {
    "colab": {
     "base_uri": "https://localhost:8080/"
    },
    "id": "0CO6MPu75RFc",
    "outputId": "b216eb3b-bb68-498f-a3fb-55c269678882"
   },
   "outputs": [
    {
     "name": "stdout",
     "output_type": "stream",
     "text": [
      "Neural Network\n",
      "R2: 86.5452 %\n"
     ]
    }
   ],
   "source": [
    "neural_network_r2 = r2_score(neural_network_preds, df_nn[target])\n",
    "print(\"Neural Network\\nR2: {:.4f} %\".format(neural_network_r2*100))"
   ]
  },
  {
   "cell_type": "markdown",
   "metadata": {
    "id": "g6bpT1vpkdOk"
   },
   "source": [
    "## Summary"
   ]
  },
  {
   "cell_type": "code",
   "execution_count": 67,
   "metadata": {
    "colab": {
     "base_uri": "https://localhost:8080/"
    },
    "id": "NnCXS59Ike3q",
    "outputId": "c19520ad-e8a0-4712-ce56-55612d5e778c"
   },
   "outputs": [
    {
     "name": "stdout",
     "output_type": "stream",
     "text": [
      "Random Forest\n",
      "R2: 93.3 %\n",
      "\n",
      "XGBoost\n",
      "R2: 91.6 %\n",
      "\n",
      "Neural Network\n",
      "R2: 86.5 %\n"
     ]
    }
   ],
   "source": [
    "print(\"Random Forest\\nR2: {0:.1f} %\\n\\nXGBoost\\nR2: {1:.1f} %\\n\\nNeural Network\\nR2: {2:.1f} %\".format(random_forest_r2*100, xgb_r2*100, neural_network_r2*100,1))"
   ]
  },
  {
   "cell_type": "code",
   "execution_count": 63,
   "metadata": {
    "colab": {
     "base_uri": "https://localhost:8080/",
     "height": 424
    },
    "id": "Bf2nfF9EOtLo",
    "outputId": "29adafa7-aee8-4a3c-9f3d-705d704dd2f9"
   },
   "outputs": [
    {
     "data": {
      "text/html": [
       "\n",
       "  <div id=\"df-c6c8c81d-0fe4-4397-a92a-867c52f08bbd\">\n",
       "    <div class=\"colab-df-container\">\n",
       "      <div>\n",
       "<style scoped>\n",
       "    .dataframe tbody tr th:only-of-type {\n",
       "        vertical-align: middle;\n",
       "    }\n",
       "\n",
       "    .dataframe tbody tr th {\n",
       "        vertical-align: top;\n",
       "    }\n",
       "\n",
       "    .dataframe thead th {\n",
       "        text-align: right;\n",
       "    }\n",
       "</style>\n",
       "<table border=\"1\" class=\"dataframe\">\n",
       "  <thead>\n",
       "    <tr style=\"text-align: right;\">\n",
       "      <th></th>\n",
       "      <th>Random Forest</th>\n",
       "      <th>XGBoost</th>\n",
       "      <th>Neural Network</th>\n",
       "      <th>Real Values</th>\n",
       "    </tr>\n",
       "  </thead>\n",
       "  <tbody>\n",
       "    <tr>\n",
       "      <th>0</th>\n",
       "      <td>1247</td>\n",
       "      <td>1364</td>\n",
       "      <td>1264</td>\n",
       "      <td>1672</td>\n",
       "    </tr>\n",
       "    <tr>\n",
       "      <th>1</th>\n",
       "      <td>1144</td>\n",
       "      <td>1237</td>\n",
       "      <td>1132</td>\n",
       "      <td>1149</td>\n",
       "    </tr>\n",
       "    <tr>\n",
       "      <th>2</th>\n",
       "      <td>521</td>\n",
       "      <td>448</td>\n",
       "      <td>392</td>\n",
       "      <td>499</td>\n",
       "    </tr>\n",
       "    <tr>\n",
       "      <th>3</th>\n",
       "      <td>899</td>\n",
       "      <td>825</td>\n",
       "      <td>899</td>\n",
       "      <td>899</td>\n",
       "    </tr>\n",
       "    <tr>\n",
       "      <th>4</th>\n",
       "      <td>1484</td>\n",
       "      <td>1312</td>\n",
       "      <td>1222</td>\n",
       "      <td>1244</td>\n",
       "    </tr>\n",
       "    <tr>\n",
       "      <th>...</th>\n",
       "      <td>...</td>\n",
       "      <td>...</td>\n",
       "      <td>...</td>\n",
       "      <td>...</td>\n",
       "    </tr>\n",
       "    <tr>\n",
       "      <th>126</th>\n",
       "      <td>1337</td>\n",
       "      <td>1328</td>\n",
       "      <td>1111</td>\n",
       "      <td>1099</td>\n",
       "    </tr>\n",
       "    <tr>\n",
       "      <th>127</th>\n",
       "      <td>570</td>\n",
       "      <td>618</td>\n",
       "      <td>751</td>\n",
       "      <td>649</td>\n",
       "    </tr>\n",
       "    <tr>\n",
       "      <th>128</th>\n",
       "      <td>1518</td>\n",
       "      <td>1854</td>\n",
       "      <td>1755</td>\n",
       "      <td>1379</td>\n",
       "    </tr>\n",
       "    <tr>\n",
       "      <th>129</th>\n",
       "      <td>1151</td>\n",
       "      <td>1165</td>\n",
       "      <td>1522</td>\n",
       "      <td>699</td>\n",
       "    </tr>\n",
       "    <tr>\n",
       "      <th>130</th>\n",
       "      <td>1338</td>\n",
       "      <td>1436</td>\n",
       "      <td>1487</td>\n",
       "      <td>1271</td>\n",
       "    </tr>\n",
       "  </tbody>\n",
       "</table>\n",
       "<p>131 rows × 4 columns</p>\n",
       "</div>\n",
       "      <button class=\"colab-df-convert\" onclick=\"convertToInteractive('df-c6c8c81d-0fe4-4397-a92a-867c52f08bbd')\"\n",
       "              title=\"Convert this dataframe to an interactive table.\"\n",
       "              style=\"display:none;\">\n",
       "        \n",
       "  <svg xmlns=\"http://www.w3.org/2000/svg\" height=\"24px\"viewBox=\"0 0 24 24\"\n",
       "       width=\"24px\">\n",
       "    <path d=\"M0 0h24v24H0V0z\" fill=\"none\"/>\n",
       "    <path d=\"M18.56 5.44l.94 2.06.94-2.06 2.06-.94-2.06-.94-.94-2.06-.94 2.06-2.06.94zm-11 1L8.5 8.5l.94-2.06 2.06-.94-2.06-.94L8.5 2.5l-.94 2.06-2.06.94zm10 10l.94 2.06.94-2.06 2.06-.94-2.06-.94-.94-2.06-.94 2.06-2.06.94z\"/><path d=\"M17.41 7.96l-1.37-1.37c-.4-.4-.92-.59-1.43-.59-.52 0-1.04.2-1.43.59L10.3 9.45l-7.72 7.72c-.78.78-.78 2.05 0 2.83L4 21.41c.39.39.9.59 1.41.59.51 0 1.02-.2 1.41-.59l7.78-7.78 2.81-2.81c.8-.78.8-2.07 0-2.86zM5.41 20L4 18.59l7.72-7.72 1.47 1.35L5.41 20z\"/>\n",
       "  </svg>\n",
       "      </button>\n",
       "      \n",
       "  <style>\n",
       "    .colab-df-container {\n",
       "      display:flex;\n",
       "      flex-wrap:wrap;\n",
       "      gap: 12px;\n",
       "    }\n",
       "\n",
       "    .colab-df-convert {\n",
       "      background-color: #E8F0FE;\n",
       "      border: none;\n",
       "      border-radius: 50%;\n",
       "      cursor: pointer;\n",
       "      display: none;\n",
       "      fill: #1967D2;\n",
       "      height: 32px;\n",
       "      padding: 0 0 0 0;\n",
       "      width: 32px;\n",
       "    }\n",
       "\n",
       "    .colab-df-convert:hover {\n",
       "      background-color: #E2EBFA;\n",
       "      box-shadow: 0px 1px 2px rgba(60, 64, 67, 0.3), 0px 1px 3px 1px rgba(60, 64, 67, 0.15);\n",
       "      fill: #174EA6;\n",
       "    }\n",
       "\n",
       "    [theme=dark] .colab-df-convert {\n",
       "      background-color: #3B4455;\n",
       "      fill: #D2E3FC;\n",
       "    }\n",
       "\n",
       "    [theme=dark] .colab-df-convert:hover {\n",
       "      background-color: #434B5C;\n",
       "      box-shadow: 0px 1px 3px 1px rgba(0, 0, 0, 0.15);\n",
       "      filter: drop-shadow(0px 1px 2px rgba(0, 0, 0, 0.3));\n",
       "      fill: #FFFFFF;\n",
       "    }\n",
       "  </style>\n",
       "\n",
       "      <script>\n",
       "        const buttonEl =\n",
       "          document.querySelector('#df-c6c8c81d-0fe4-4397-a92a-867c52f08bbd button.colab-df-convert');\n",
       "        buttonEl.style.display =\n",
       "          google.colab.kernel.accessAllowed ? 'block' : 'none';\n",
       "\n",
       "        async function convertToInteractive(key) {\n",
       "          const element = document.querySelector('#df-c6c8c81d-0fe4-4397-a92a-867c52f08bbd');\n",
       "          const dataTable =\n",
       "            await google.colab.kernel.invokeFunction('convertToInteractive',\n",
       "                                                     [key], {});\n",
       "          if (!dataTable) return;\n",
       "\n",
       "          const docLinkHtml = 'Like what you see? Visit the ' +\n",
       "            '<a target=\"_blank\" href=https://colab.research.google.com/notebooks/data_table.ipynb>data table notebook</a>'\n",
       "            + ' to learn more about interactive tables.';\n",
       "          element.innerHTML = '';\n",
       "          dataTable['output_type'] = 'display_data';\n",
       "          await google.colab.output.renderOutput(dataTable, element);\n",
       "          const docLink = document.createElement('div');\n",
       "          docLink.innerHTML = docLinkHtml;\n",
       "          element.appendChild(docLink);\n",
       "        }\n",
       "      </script>\n",
       "    </div>\n",
       "  </div>\n",
       "  "
      ],
      "text/plain": [
       "     Random Forest  XGBoost  Neural Network  Real Values\n",
       "0             1247     1364            1264         1672\n",
       "1             1144     1237            1132         1149\n",
       "2              521      448             392          499\n",
       "3              899      825             899          899\n",
       "4             1484     1312            1222         1244\n",
       "..             ...      ...             ...          ...\n",
       "126           1337     1328            1111         1099\n",
       "127            570      618             751          649\n",
       "128           1518     1854            1755         1379\n",
       "129           1151     1165            1522          699\n",
       "130           1338     1436            1487         1271\n",
       "\n",
       "[131 rows x 4 columns]"
      ]
     },
     "execution_count": 63,
     "metadata": {},
     "output_type": "execute_result"
    }
   ],
   "source": [
    "final_results = pd.DataFrame({\n",
    "    'Random Forest': np.round(np.exp(random_forest_pred)).astype('int64'),\n",
    "    'XGBoost': np.round(np.exp(xgb_pred)).astype('int64'),\n",
    "    'Neural Network': np.round(np.exp(neural_network_preds)).astype('int64'),\n",
    "    'Real Values': np.round(np.exp(df_nn[target])).astype('int64')})\n",
    "final_results"
   ]
  },
  {
   "cell_type": "code",
   "execution_count": null,
   "metadata": {
    "id": "6K8XyLYfOV1w"
   },
   "outputs": [],
   "source": []
  }
 ],
 "metadata": {
  "colab": {
   "authorship_tag": "ABX9TyPVDxSw5O0+goYHZC9p4gjB",
   "provenance": []
  },
  "kernelspec": {
   "display_name": "Python 3",
   "language": "python",
   "name": "python3"
  },
  "language_info": {
   "codemirror_mode": {
    "name": "ipython",
    "version": 3
   },
   "file_extension": ".py",
   "mimetype": "text/x-python",
   "name": "python",
   "nbconvert_exporter": "python",
   "pygments_lexer": "ipython3",
   "version": "3.8.8"
  }
 },
 "nbformat": 4,
 "nbformat_minor": 4
}
