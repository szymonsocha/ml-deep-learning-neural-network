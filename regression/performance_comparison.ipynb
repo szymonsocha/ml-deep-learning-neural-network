{
  "cells": [
    {
      "cell_type": "markdown",
      "metadata": {
        "id": "kEBMxhXatpMj"
      },
      "source": [
        "# Performance comparison"
      ]
    },
    {
      "cell_type": "code",
      "execution_count": 51,
      "metadata": {
        "id": "-VF7G4PQt6pJ"
      },
      "outputs": [],
      "source": [
        "import pandas as pd\n",
        "import numpy as np\n",
        "from sklearn.preprocessing import LabelEncoder\n",
        "from sklearn.metrics import r2_score\n",
        "from sklearn.metrics import mean_squared_error\n",
        "from sklearn.metrics import mean_absolute_error\n",
        "from sklearn.metrics import mean_absolute_percentage_error\n",
        "import pickle"
      ]
    },
    {
      "cell_type": "code",
      "execution_count": 2,
      "metadata": {
        "id": "aCsHAszQt-9W"
      },
      "outputs": [],
      "source": [
        "df = pd.read_csv('data/laptop_test.csv')\n",
        "df = df.dropna()"
      ]
    },
    {
      "cell_type": "code",
      "execution_count": 3,
      "metadata": {
        "colab": {
          "base_uri": "https://localhost:8080/",
          "height": 270
        },
        "id": "JjT7G4-uxfml",
        "outputId": "d48255f9-f7fa-4f05-aaac-46ba746cbd83"
      },
      "outputs": [
        {
          "output_type": "execute_result",
          "data": {
            "text/plain": [
              "   company  product  typename  inches  cpu  ram(GB)  gpu  opsys  weight(kg)  \\\n",
              "0       16      334         3    13.3   57        8   53      5        1.05   \n",
              "1        7      417         3    13.3   57        8   53      5        1.11   \n",
              "2       10      202         3    15.6    0        6   18      5        2.40   \n",
              "3       10      225         3    15.6   69        8   89      5        2.60   \n",
              "4        7      110         4    12.5   52        4   47      5        1.26   \n",
              "\n",
              "   resolution  screentype  touchscreen  cpu(GHz)  memory_1_storage_gb  \\\n",
              "0           3           0            0       2.5                256.0   \n",
              "1           3           0            0       2.5                256.0   \n",
              "2           3           2            0       2.4               1000.0   \n",
              "3           3           0            0       2.6               1000.0   \n",
              "4           0           2            0       2.3                256.0   \n",
              "\n",
              "   memory_1_type  memory_2_storage_gb  memory_2_type  log_price  \n",
              "0              3                  0.0              3   7.421776  \n",
              "1              3                  0.0              3   7.046647  \n",
              "2              1                  0.0              3   6.212606  \n",
              "3              1                  0.0              3   6.801283  \n",
              "4              3                  0.0              3   7.126087  "
            ],
            "text/html": [
              "\n",
              "  <div id=\"df-79c3771c-a532-4457-b2ba-b039aacb3329\">\n",
              "    <div class=\"colab-df-container\">\n",
              "      <div>\n",
              "<style scoped>\n",
              "    .dataframe tbody tr th:only-of-type {\n",
              "        vertical-align: middle;\n",
              "    }\n",
              "\n",
              "    .dataframe tbody tr th {\n",
              "        vertical-align: top;\n",
              "    }\n",
              "\n",
              "    .dataframe thead th {\n",
              "        text-align: right;\n",
              "    }\n",
              "</style>\n",
              "<table border=\"1\" class=\"dataframe\">\n",
              "  <thead>\n",
              "    <tr style=\"text-align: right;\">\n",
              "      <th></th>\n",
              "      <th>company</th>\n",
              "      <th>product</th>\n",
              "      <th>typename</th>\n",
              "      <th>inches</th>\n",
              "      <th>cpu</th>\n",
              "      <th>ram(GB)</th>\n",
              "      <th>gpu</th>\n",
              "      <th>opsys</th>\n",
              "      <th>weight(kg)</th>\n",
              "      <th>resolution</th>\n",
              "      <th>screentype</th>\n",
              "      <th>touchscreen</th>\n",
              "      <th>cpu(GHz)</th>\n",
              "      <th>memory_1_storage_gb</th>\n",
              "      <th>memory_1_type</th>\n",
              "      <th>memory_2_storage_gb</th>\n",
              "      <th>memory_2_type</th>\n",
              "      <th>log_price</th>\n",
              "    </tr>\n",
              "  </thead>\n",
              "  <tbody>\n",
              "    <tr>\n",
              "      <th>0</th>\n",
              "      <td>16</td>\n",
              "      <td>334</td>\n",
              "      <td>3</td>\n",
              "      <td>13.3</td>\n",
              "      <td>57</td>\n",
              "      <td>8</td>\n",
              "      <td>53</td>\n",
              "      <td>5</td>\n",
              "      <td>1.05</td>\n",
              "      <td>3</td>\n",
              "      <td>0</td>\n",
              "      <td>0</td>\n",
              "      <td>2.5</td>\n",
              "      <td>256.0</td>\n",
              "      <td>3</td>\n",
              "      <td>0.0</td>\n",
              "      <td>3</td>\n",
              "      <td>7.421776</td>\n",
              "    </tr>\n",
              "    <tr>\n",
              "      <th>1</th>\n",
              "      <td>7</td>\n",
              "      <td>417</td>\n",
              "      <td>3</td>\n",
              "      <td>13.3</td>\n",
              "      <td>57</td>\n",
              "      <td>8</td>\n",
              "      <td>53</td>\n",
              "      <td>5</td>\n",
              "      <td>1.11</td>\n",
              "      <td>3</td>\n",
              "      <td>0</td>\n",
              "      <td>0</td>\n",
              "      <td>2.5</td>\n",
              "      <td>256.0</td>\n",
              "      <td>3</td>\n",
              "      <td>0.0</td>\n",
              "      <td>3</td>\n",
              "      <td>7.046647</td>\n",
              "    </tr>\n",
              "    <tr>\n",
              "      <th>2</th>\n",
              "      <td>10</td>\n",
              "      <td>202</td>\n",
              "      <td>3</td>\n",
              "      <td>15.6</td>\n",
              "      <td>0</td>\n",
              "      <td>6</td>\n",
              "      <td>18</td>\n",
              "      <td>5</td>\n",
              "      <td>2.40</td>\n",
              "      <td>3</td>\n",
              "      <td>2</td>\n",
              "      <td>0</td>\n",
              "      <td>2.4</td>\n",
              "      <td>1000.0</td>\n",
              "      <td>1</td>\n",
              "      <td>0.0</td>\n",
              "      <td>3</td>\n",
              "      <td>6.212606</td>\n",
              "    </tr>\n",
              "    <tr>\n",
              "      <th>3</th>\n",
              "      <td>10</td>\n",
              "      <td>225</td>\n",
              "      <td>3</td>\n",
              "      <td>15.6</td>\n",
              "      <td>69</td>\n",
              "      <td>8</td>\n",
              "      <td>89</td>\n",
              "      <td>5</td>\n",
              "      <td>2.60</td>\n",
              "      <td>3</td>\n",
              "      <td>0</td>\n",
              "      <td>0</td>\n",
              "      <td>2.6</td>\n",
              "      <td>1000.0</td>\n",
              "      <td>1</td>\n",
              "      <td>0.0</td>\n",
              "      <td>3</td>\n",
              "      <td>6.801283</td>\n",
              "    </tr>\n",
              "    <tr>\n",
              "      <th>4</th>\n",
              "      <td>7</td>\n",
              "      <td>110</td>\n",
              "      <td>4</td>\n",
              "      <td>12.5</td>\n",
              "      <td>52</td>\n",
              "      <td>4</td>\n",
              "      <td>47</td>\n",
              "      <td>5</td>\n",
              "      <td>1.26</td>\n",
              "      <td>0</td>\n",
              "      <td>2</td>\n",
              "      <td>0</td>\n",
              "      <td>2.3</td>\n",
              "      <td>256.0</td>\n",
              "      <td>3</td>\n",
              "      <td>0.0</td>\n",
              "      <td>3</td>\n",
              "      <td>7.126087</td>\n",
              "    </tr>\n",
              "  </tbody>\n",
              "</table>\n",
              "</div>\n",
              "      <button class=\"colab-df-convert\" onclick=\"convertToInteractive('df-79c3771c-a532-4457-b2ba-b039aacb3329')\"\n",
              "              title=\"Convert this dataframe to an interactive table.\"\n",
              "              style=\"display:none;\">\n",
              "        \n",
              "  <svg xmlns=\"http://www.w3.org/2000/svg\" height=\"24px\"viewBox=\"0 0 24 24\"\n",
              "       width=\"24px\">\n",
              "    <path d=\"M0 0h24v24H0V0z\" fill=\"none\"/>\n",
              "    <path d=\"M18.56 5.44l.94 2.06.94-2.06 2.06-.94-2.06-.94-.94-2.06-.94 2.06-2.06.94zm-11 1L8.5 8.5l.94-2.06 2.06-.94-2.06-.94L8.5 2.5l-.94 2.06-2.06.94zm10 10l.94 2.06.94-2.06 2.06-.94-2.06-.94-.94-2.06-.94 2.06-2.06.94z\"/><path d=\"M17.41 7.96l-1.37-1.37c-.4-.4-.92-.59-1.43-.59-.52 0-1.04.2-1.43.59L10.3 9.45l-7.72 7.72c-.78.78-.78 2.05 0 2.83L4 21.41c.39.39.9.59 1.41.59.51 0 1.02-.2 1.41-.59l7.78-7.78 2.81-2.81c.8-.78.8-2.07 0-2.86zM5.41 20L4 18.59l7.72-7.72 1.47 1.35L5.41 20z\"/>\n",
              "  </svg>\n",
              "      </button>\n",
              "      \n",
              "  <style>\n",
              "    .colab-df-container {\n",
              "      display:flex;\n",
              "      flex-wrap:wrap;\n",
              "      gap: 12px;\n",
              "    }\n",
              "\n",
              "    .colab-df-convert {\n",
              "      background-color: #E8F0FE;\n",
              "      border: none;\n",
              "      border-radius: 50%;\n",
              "      cursor: pointer;\n",
              "      display: none;\n",
              "      fill: #1967D2;\n",
              "      height: 32px;\n",
              "      padding: 0 0 0 0;\n",
              "      width: 32px;\n",
              "    }\n",
              "\n",
              "    .colab-df-convert:hover {\n",
              "      background-color: #E2EBFA;\n",
              "      box-shadow: 0px 1px 2px rgba(60, 64, 67, 0.3), 0px 1px 3px 1px rgba(60, 64, 67, 0.15);\n",
              "      fill: #174EA6;\n",
              "    }\n",
              "\n",
              "    [theme=dark] .colab-df-convert {\n",
              "      background-color: #3B4455;\n",
              "      fill: #D2E3FC;\n",
              "    }\n",
              "\n",
              "    [theme=dark] .colab-df-convert:hover {\n",
              "      background-color: #434B5C;\n",
              "      box-shadow: 0px 1px 3px 1px rgba(0, 0, 0, 0.15);\n",
              "      filter: drop-shadow(0px 1px 2px rgba(0, 0, 0, 0.3));\n",
              "      fill: #FFFFFF;\n",
              "    }\n",
              "  </style>\n",
              "\n",
              "      <script>\n",
              "        const buttonEl =\n",
              "          document.querySelector('#df-79c3771c-a532-4457-b2ba-b039aacb3329 button.colab-df-convert');\n",
              "        buttonEl.style.display =\n",
              "          google.colab.kernel.accessAllowed ? 'block' : 'none';\n",
              "\n",
              "        async function convertToInteractive(key) {\n",
              "          const element = document.querySelector('#df-79c3771c-a532-4457-b2ba-b039aacb3329');\n",
              "          const dataTable =\n",
              "            await google.colab.kernel.invokeFunction('convertToInteractive',\n",
              "                                                     [key], {});\n",
              "          if (!dataTable) return;\n",
              "\n",
              "          const docLinkHtml = 'Like what you see? Visit the ' +\n",
              "            '<a target=\"_blank\" href=https://colab.research.google.com/notebooks/data_table.ipynb>data table notebook</a>'\n",
              "            + ' to learn more about interactive tables.';\n",
              "          element.innerHTML = '';\n",
              "          dataTable['output_type'] = 'display_data';\n",
              "          await google.colab.output.renderOutput(dataTable, element);\n",
              "          const docLink = document.createElement('div');\n",
              "          docLink.innerHTML = docLinkHtml;\n",
              "          element.appendChild(docLink);\n",
              "        }\n",
              "      </script>\n",
              "    </div>\n",
              "  </div>\n",
              "  "
            ]
          },
          "metadata": {},
          "execution_count": 3
        }
      ],
      "source": [
        "df.head()"
      ]
    },
    {
      "cell_type": "code",
      "execution_count": 4,
      "metadata": {
        "id": "i9L5u016uA4Q"
      },
      "outputs": [],
      "source": [
        "target = \"log_price\"\n",
        "numericFeatures = [\"inches\", \"ram(GB)\", \"weight(kg)\", \"cpu(GHz)\", \"memory_1_storage_gb\", \"memory_2_storage_gb\"]\n",
        "catFeatures = [\"company\", \"product\", \"typename\", \"cpu\", \"gpu\", \"opsys\", \"resolution\", \"screentype\", \"touchscreen\", \"memory_1_type\", \"memory_2_type\"]\n",
        "\n",
        "features = df.columns.tolist()\n",
        "features.remove(target)"
      ]
    },
    {
      "cell_type": "markdown",
      "metadata": {
        "id": "r4cyC3_WU3WE"
      },
      "source": [
        "## Predictions on test data\n",
        "Never seen dataest"
      ]
    },
    {
      "cell_type": "markdown",
      "metadata": {
        "id": "zoI0N3i0Vgxf"
      },
      "source": [
        "### Random Forest"
      ]
    },
    {
      "cell_type": "markdown",
      "source": [
        "As a reminder, R<sup>2</sup> score obtained on the validation/training dataset:\n",
        "\n",
        "R<sup>2</sup>: **92.4%**"
      ],
      "metadata": {
        "id": "9oyLQHPHTpmz"
      }
    },
    {
      "cell_type": "code",
      "execution_count": 10,
      "metadata": {
        "colab": {
          "base_uri": "https://localhost:8080/"
        },
        "id": "f7ect4QouH5T",
        "outputId": "7e0959dd-8f8e-4e4a-8576-4d080d8e83b7"
      },
      "outputs": [
        {
          "output_type": "stream",
          "name": "stdout",
          "text": [
            "Random Forest on the test set\n",
            "R2: 93.3 %\n"
          ]
        }
      ],
      "source": [
        "random_forest = pickle.load(open(\"models/random_forest.sav\", 'rb'))\n",
        "random_forest_pred = random_forest.predict(df[features])\n",
        "random_forest_r2 = r2_score(random_forest_pred, df[target])\n",
        "print(\"Random Forest on the test set\\nR2: {:.1f} %\".format(random_forest_r2*100))"
      ]
    },
    {
      "cell_type": "markdown",
      "metadata": {
        "id": "6RJY199hVl7i"
      },
      "source": [
        "### XGBoost"
      ]
    },
    {
      "cell_type": "markdown",
      "source": [
        "As a reminder, R<sup>2</sup> score obtained on the validation dataset:\n",
        "\n",
        "92.6%"
      ],
      "metadata": {
        "id": "ohy0nBmJUiBd"
      }
    },
    {
      "cell_type": "code",
      "execution_count": 9,
      "metadata": {
        "colab": {
          "base_uri": "https://localhost:8080/"
        },
        "id": "PB7vnb5cNF6V",
        "outputId": "33855a3e-83f0-4b45-c3e6-06c430bc4b29"
      },
      "outputs": [
        {
          "output_type": "stream",
          "name": "stdout",
          "text": [
            "[21:43:56] WARNING: /workspace/src/objective/regression_obj.cu:152: reg:linear is now deprecated in favor of reg:squarederror.\n",
            "XGBoost on the test set\n",
            "R2: 91.6 %\n"
          ]
        }
      ],
      "source": [
        "xgb = pickle.load(open(\"models/xgboost.sav\", 'rb'))\n",
        "xgb_pred = xgb.predict(df[features])\n",
        "xgb_r2 = r2_score(xgb_pred, df[target])\n",
        "print(\"XGBoost on the test set\\nR2: {:.1f} %\".format(xgb_r2*100))"
      ]
    },
    {
      "cell_type": "markdown",
      "metadata": {
        "id": "CALvkvOfN3SD"
      },
      "source": [
        "### Neural Network"
      ]
    },
    {
      "cell_type": "markdown",
      "source": [
        "As a reminder, R<sup>2</sup> score obtained on the validation dataset:\n",
        "\n",
        "96.6%"
      ],
      "metadata": {
        "id": "CMu9Yj_OV7U9"
      }
    },
    {
      "cell_type": "code",
      "execution_count": 11,
      "metadata": {
        "id": "wzxppOKDbpFf"
      },
      "outputs": [],
      "source": [
        "import pickle\n",
        "from keras.models import load_model"
      ]
    },
    {
      "cell_type": "code",
      "execution_count": 12,
      "metadata": {
        "id": "rw5JVq55EG_R"
      },
      "outputs": [],
      "source": [
        "df_nn = df.copy()"
      ]
    },
    {
      "cell_type": "code",
      "execution_count": 14,
      "metadata": {
        "id": "aasI7wlrL2K9"
      },
      "outputs": [],
      "source": [
        "scaler = pickle.load(open('scaler/sc_nn.pkl','rb'))\n",
        "\n",
        "X_test_scaled = scaler.transform(df_nn[features])"
      ]
    },
    {
      "cell_type": "code",
      "execution_count": 15,
      "metadata": {
        "id": "H_z0hwHv_gIh"
      },
      "outputs": [],
      "source": [
        "def create_model( nl1=1, nl2=1,  nl3=1, \n",
        "                 nn1=1000, nn2=500, nn3 = 200, lr=0.01, momentum = 0.9,  decay=0., l1=0.01, l2=0.01,\n",
        "                act = 'relu', dropout=0, input_shape=1000, output_shape=1):\n",
        "    \n",
        "    opt = keras.optimizers.SGD(lr=lr, momentum=momentum)\n",
        "    reg = keras.regularizers.l1_l2(l1=l1, l2=l2)\n",
        "                                                     \n",
        "    model = models.Sequential()\n",
        "    \n",
        "    # for the firt layer we need to specify the input dimensions\n",
        "    first=True\n",
        "    \n",
        "    for i in range(nl1):\n",
        "        if first:\n",
        "            model.add(layers.Dense(nn1, input_dim=input_shape, activation=act, kernel_regularizer=reg))\n",
        "            first=False\n",
        "        else: \n",
        "            model.add(layers.Dense(nn1, activation=act, kernel_regularizer=reg))\n",
        "        if dropout!=0:\n",
        "            model.add(layers.Dropout(dropout))\n",
        "            \n",
        "    for i in range(nl2):\n",
        "        if first:\n",
        "            model.add(layers.Dense(nn2, input_dim=input_shape, activation=act, kernel_regularizer=reg))\n",
        "            first=False\n",
        "        else: \n",
        "            model.add(layers.Dense(nn2, activation=act, kernel_regularizer=reg))\n",
        "        if dropout!=0:\n",
        "            model.add(layers.Dropout(dropout))\n",
        "            \n",
        "    for i in range(nl3):\n",
        "        if first:\n",
        "            model.add(layers.Dense(nn3, input_dim=input_shape, activation=act, kernel_regularizer=reg))\n",
        "            first=False\n",
        "        else: \n",
        "            model.add(layers.Dense(nn3, activation=act, kernel_regularizer=reg))\n",
        "        if dropout!=0:\n",
        "            model.add(layers.Dropout(dropout))\n",
        "            \n",
        "    model.add(layers.Dense(1))\n",
        "    model.compile(loss='mse', optimizer=opt, metrics=['mae'],)\n",
        "    return model"
      ]
    },
    {
      "cell_type": "code",
      "execution_count": 16,
      "metadata": {
        "colab": {
          "base_uri": "https://localhost:8080/"
        },
        "id": "E5xds7Mj_c0m",
        "outputId": "671a61e7-2c84-4db7-cbc4-9a33a04883e7"
      },
      "outputs": [
        {
          "output_type": "stream",
          "name": "stderr",
          "text": [
            "<ipython-input-16-abc4fbab622a>:2: DeprecationWarning: KerasRegressor is deprecated, use Sci-Keras (https://github.com/adriangb/scikeras) instead. See https://www.adriangb.com/scikeras/stable/migration.html for help migrating.\n",
            "  neural_network = KerasRegressor(build_fn=create_model, epochs=100, batch_size=32, verbose=1)\n"
          ]
        },
        {
          "output_type": "stream",
          "name": "stdout",
          "text": [
            "5/5 [==============================] - 0s 18ms/step\n"
          ]
        },
        {
          "output_type": "execute_result",
          "data": {
            "text/plain": [
              "array([7.1421566, 7.0317883, 5.9706273, 6.801144 , 7.1081395, 6.974774 ,\n",
              "       6.832797 , 5.9673543, 7.34105  , 5.6879096, 7.9339056, 6.4437485,\n",
              "       7.490829 , 6.5773406, 7.5080333, 6.839004 , 7.1936827, 6.9406724,\n",
              "       6.85024  , 7.8126516, 7.926122 , 6.536908 , 7.1194916, 5.716884 ,\n",
              "       7.061089 , 6.6591487, 6.667244 , 6.598046 , 7.421298 , 7.0144553,\n",
              "       6.174635 , 7.4343076, 7.4985256, 6.915441 , 7.0507407, 6.5701795,\n",
              "       6.565206 , 6.1132674, 7.145263 , 5.7452054, 7.5490246, 6.2667317,\n",
              "       6.4336205, 7.8575473, 6.3592005, 6.9912324, 7.5103927, 5.429512 ,\n",
              "       6.7449346, 7.270629 , 7.3596883, 6.3274035, 6.824941 , 6.7615004,\n",
              "       6.2851834, 6.9860616, 5.4293404, 6.8826833, 6.833511 , 6.801144 ,\n",
              "       7.3963027, 6.8211327, 6.208205 , 6.410998 , 5.6321416, 7.5299907,\n",
              "       6.1244   , 6.774446 , 6.9196024, 7.851482 , 8.091667 , 6.6719975,\n",
              "       6.5899425, 6.607064 , 5.9132323, 5.9403653, 6.626693 , 7.0731616,\n",
              "       7.1000338, 7.4712825, 7.137821 , 6.873023 , 5.785599 , 6.6551156,\n",
              "       5.6297846, 7.334753 , 6.0954976, 7.661003 , 6.8748193, 6.852784 ,\n",
              "       7.5131135, 7.9268756, 6.8651376, 6.512634 , 6.980236 , 6.1280394,\n",
              "       6.8200736, 6.6448264, 6.464063 , 6.9775386, 5.678595 , 6.2275114,\n",
              "       6.3994045, 7.60191  , 7.043669 , 6.5773406, 6.8086247, 6.801567 ,\n",
              "       7.261666 , 6.5540953, 7.3430133, 7.003539 , 6.980484 , 7.947594 ,\n",
              "       5.6003275, 7.4484773, 7.2281775, 7.5798187, 6.674137 , 6.5026426,\n",
              "       8.52725  , 6.8524785, 6.6201887, 7.4669957, 6.9287395, 6.1437206,\n",
              "       7.012894 , 6.6208453, 7.4699526, 7.327793 , 7.304476 ],\n",
              "      dtype=float32)"
            ]
          },
          "metadata": {},
          "execution_count": 16
        }
      ],
      "source": [
        "from keras.wrappers.scikit_learn import KerasRegressor\n",
        "neural_network = KerasRegressor(build_fn=create_model, epochs=100, batch_size=32, verbose=1)\n",
        "\n",
        "neural_network.model = load_model('models/nn.h5')\n",
        "\n",
        "neural_network_preds = neural_network.predict(X_test_scaled)\n",
        "neural_network_preds"
      ]
    },
    {
      "cell_type": "code",
      "execution_count": 73,
      "metadata": {
        "colab": {
          "base_uri": "https://localhost:8080/"
        },
        "id": "0CO6MPu75RFc",
        "outputId": "f154e4ef-ca0b-4ba4-fcd3-31941b447942"
      },
      "outputs": [
        {
          "output_type": "stream",
          "name": "stdout",
          "text": [
            "Neural Network on the test set\n",
            "R2: 86.5 %\n"
          ]
        }
      ],
      "source": [
        "neural_network_r2 = r2_score(neural_network_preds, df_nn[target])\n",
        "print(\"Neural Network on the test set\\nR2: {:.1f} %\".format(neural_network_r2*100))"
      ]
    },
    {
      "cell_type": "markdown",
      "metadata": {
        "id": "g6bpT1vpkdOk"
      },
      "source": [
        "## Summary"
      ]
    },
    {
      "cell_type": "code",
      "execution_count": 19,
      "metadata": {
        "colab": {
          "base_uri": "https://localhost:8080/"
        },
        "id": "NnCXS59Ike3q",
        "outputId": "22fa4f2b-70d2-4322-d41d-c474883255f0"
      },
      "outputs": [
        {
          "output_type": "stream",
          "name": "stdout",
          "text": [
            "Random Forest\n",
            "R2: 93.3 %\n",
            "\n",
            "XGBoost\n",
            "R2: 91.6 %\n",
            "\n",
            "Neural Network\n",
            "R2: 86.5 %\n"
          ]
        }
      ],
      "source": [
        "print(\"Random Forest\\nR2: {0:.1f} %\\n\\nXGBoost\\nR2: {1:.1f} %\\n\\nNeural Network\\nR2: {2:.1f} %\".format(random_forest_r2*100, xgb_r2*100, neural_network_r2*100,1))"
      ]
    },
    {
      "cell_type": "code",
      "source": [
        "results = [ (round(mean_squared_error(np.exp(random_forest_pred), np.exp(df[target]))), round(mean_absolute_error(np.exp(random_forest_pred), np.exp(df[target]))), round(random_forest_r2*100,2)) ,\n",
        "             (round(mean_squared_error(np.exp(xgb_pred), np.exp(df[target]))), round(mean_absolute_error(np.exp(xgb_pred), np.exp(df[target]))), round(xgb_r2*100, 2)) ,\n",
        "             (round(mean_squared_error(np.exp(neural_network_preds), np.exp(df_nn[target]))), round(mean_absolute_error(np.exp(neural_network_preds), np.exp(df_nn[target]))), round(neural_network_r2*100,2))]\n",
        "# Create DataFrame object from a list of tuples\n",
        "metrics = pd.DataFrame(results, columns = ['RMSE', 'MAE', 'R2[%]'], index=['Random Forest' , 'XGBoost', 'Neural Network'])"
      ],
      "metadata": {
        "id": "4McWHlv0XtC5"
      },
      "execution_count": 70,
      "outputs": []
    },
    {
      "cell_type": "code",
      "source": [
        "metrics"
      ],
      "metadata": {
        "id": "P0v-Vh4mY7tm",
        "outputId": "1dd37ccb-b7f7-4f9c-9765-5faa752622f6",
        "colab": {
          "base_uri": "https://localhost:8080/",
          "height": 143
        }
      },
      "execution_count": 71,
      "outputs": [
        {
          "output_type": "execute_result",
          "data": {
            "text/plain": [
              "                  RMSE  MAE  R2[%]\n",
              "Random Forest    43031  132  93.26\n",
              "XGBoost         102681  166  91.63\n",
              "Neural Network   91711  194  86.55"
            ],
            "text/html": [
              "\n",
              "  <div id=\"df-c407c08c-6e2e-4344-8af8-8b71aee70166\">\n",
              "    <div class=\"colab-df-container\">\n",
              "      <div>\n",
              "<style scoped>\n",
              "    .dataframe tbody tr th:only-of-type {\n",
              "        vertical-align: middle;\n",
              "    }\n",
              "\n",
              "    .dataframe tbody tr th {\n",
              "        vertical-align: top;\n",
              "    }\n",
              "\n",
              "    .dataframe thead th {\n",
              "        text-align: right;\n",
              "    }\n",
              "</style>\n",
              "<table border=\"1\" class=\"dataframe\">\n",
              "  <thead>\n",
              "    <tr style=\"text-align: right;\">\n",
              "      <th></th>\n",
              "      <th>RMSE</th>\n",
              "      <th>MAE</th>\n",
              "      <th>R2[%]</th>\n",
              "    </tr>\n",
              "  </thead>\n",
              "  <tbody>\n",
              "    <tr>\n",
              "      <th>Random Forest</th>\n",
              "      <td>43031</td>\n",
              "      <td>132</td>\n",
              "      <td>93.26</td>\n",
              "    </tr>\n",
              "    <tr>\n",
              "      <th>XGBoost</th>\n",
              "      <td>102681</td>\n",
              "      <td>166</td>\n",
              "      <td>91.63</td>\n",
              "    </tr>\n",
              "    <tr>\n",
              "      <th>Neural Network</th>\n",
              "      <td>91711</td>\n",
              "      <td>194</td>\n",
              "      <td>86.55</td>\n",
              "    </tr>\n",
              "  </tbody>\n",
              "</table>\n",
              "</div>\n",
              "      <button class=\"colab-df-convert\" onclick=\"convertToInteractive('df-c407c08c-6e2e-4344-8af8-8b71aee70166')\"\n",
              "              title=\"Convert this dataframe to an interactive table.\"\n",
              "              style=\"display:none;\">\n",
              "        \n",
              "  <svg xmlns=\"http://www.w3.org/2000/svg\" height=\"24px\"viewBox=\"0 0 24 24\"\n",
              "       width=\"24px\">\n",
              "    <path d=\"M0 0h24v24H0V0z\" fill=\"none\"/>\n",
              "    <path d=\"M18.56 5.44l.94 2.06.94-2.06 2.06-.94-2.06-.94-.94-2.06-.94 2.06-2.06.94zm-11 1L8.5 8.5l.94-2.06 2.06-.94-2.06-.94L8.5 2.5l-.94 2.06-2.06.94zm10 10l.94 2.06.94-2.06 2.06-.94-2.06-.94-.94-2.06-.94 2.06-2.06.94z\"/><path d=\"M17.41 7.96l-1.37-1.37c-.4-.4-.92-.59-1.43-.59-.52 0-1.04.2-1.43.59L10.3 9.45l-7.72 7.72c-.78.78-.78 2.05 0 2.83L4 21.41c.39.39.9.59 1.41.59.51 0 1.02-.2 1.41-.59l7.78-7.78 2.81-2.81c.8-.78.8-2.07 0-2.86zM5.41 20L4 18.59l7.72-7.72 1.47 1.35L5.41 20z\"/>\n",
              "  </svg>\n",
              "      </button>\n",
              "      \n",
              "  <style>\n",
              "    .colab-df-container {\n",
              "      display:flex;\n",
              "      flex-wrap:wrap;\n",
              "      gap: 12px;\n",
              "    }\n",
              "\n",
              "    .colab-df-convert {\n",
              "      background-color: #E8F0FE;\n",
              "      border: none;\n",
              "      border-radius: 50%;\n",
              "      cursor: pointer;\n",
              "      display: none;\n",
              "      fill: #1967D2;\n",
              "      height: 32px;\n",
              "      padding: 0 0 0 0;\n",
              "      width: 32px;\n",
              "    }\n",
              "\n",
              "    .colab-df-convert:hover {\n",
              "      background-color: #E2EBFA;\n",
              "      box-shadow: 0px 1px 2px rgba(60, 64, 67, 0.3), 0px 1px 3px 1px rgba(60, 64, 67, 0.15);\n",
              "      fill: #174EA6;\n",
              "    }\n",
              "\n",
              "    [theme=dark] .colab-df-convert {\n",
              "      background-color: #3B4455;\n",
              "      fill: #D2E3FC;\n",
              "    }\n",
              "\n",
              "    [theme=dark] .colab-df-convert:hover {\n",
              "      background-color: #434B5C;\n",
              "      box-shadow: 0px 1px 3px 1px rgba(0, 0, 0, 0.15);\n",
              "      filter: drop-shadow(0px 1px 2px rgba(0, 0, 0, 0.3));\n",
              "      fill: #FFFFFF;\n",
              "    }\n",
              "  </style>\n",
              "\n",
              "      <script>\n",
              "        const buttonEl =\n",
              "          document.querySelector('#df-c407c08c-6e2e-4344-8af8-8b71aee70166 button.colab-df-convert');\n",
              "        buttonEl.style.display =\n",
              "          google.colab.kernel.accessAllowed ? 'block' : 'none';\n",
              "\n",
              "        async function convertToInteractive(key) {\n",
              "          const element = document.querySelector('#df-c407c08c-6e2e-4344-8af8-8b71aee70166');\n",
              "          const dataTable =\n",
              "            await google.colab.kernel.invokeFunction('convertToInteractive',\n",
              "                                                     [key], {});\n",
              "          if (!dataTable) return;\n",
              "\n",
              "          const docLinkHtml = 'Like what you see? Visit the ' +\n",
              "            '<a target=\"_blank\" href=https://colab.research.google.com/notebooks/data_table.ipynb>data table notebook</a>'\n",
              "            + ' to learn more about interactive tables.';\n",
              "          element.innerHTML = '';\n",
              "          dataTable['output_type'] = 'display_data';\n",
              "          await google.colab.output.renderOutput(dataTable, element);\n",
              "          const docLink = document.createElement('div');\n",
              "          docLink.innerHTML = docLinkHtml;\n",
              "          element.appendChild(docLink);\n",
              "        }\n",
              "      </script>\n",
              "    </div>\n",
              "  </div>\n",
              "  "
            ]
          },
          "metadata": {},
          "execution_count": 71
        }
      ]
    },
    {
      "cell_type": "markdown",
      "source": [
        "**With the lowest RMSE and MAE and the highest R<sup>2</sup> score, Random Forest is the best performing model.**"
      ],
      "metadata": {
        "id": "dhfTjXCWggnq"
      }
    },
    {
      "cell_type": "markdown",
      "source": [
        "Let's also take a look at the table with the predictions and real values."
      ],
      "metadata": {
        "id": "Xz4POQLJg4Zw"
      }
    },
    {
      "cell_type": "code",
      "execution_count": 81,
      "metadata": {
        "colab": {
          "base_uri": "https://localhost:8080/"
        },
        "id": "Bf2nfF9EOtLo",
        "outputId": "7270cd04-60c6-4faa-b7a1-779156a6a6b1"
      },
      "outputs": [
        {
          "output_type": "stream",
          "name": "stdout",
          "text": [
            "|     |   Random Forest |   XGBoost |   Neural Network |   Real Values |\n",
            "|----:|----------------:|----------:|-----------------:|--------------:|\n",
            "|   0 |            1247 |      1364 |             1264 |          1672 |\n",
            "|   1 |            1144 |      1237 |             1132 |          1149 |\n",
            "|   2 |             521 |       448 |              392 |           499 |\n",
            "|   3 |             899 |       825 |              899 |           899 |\n",
            "|   4 |            1484 |      1312 |             1222 |          1244 |\n",
            "|   5 |            1434 |      1286 |             1069 |          1399 |\n",
            "|   6 |             732 |       752 |              928 |           719 |\n",
            "|   7 |             471 |       432 |              390 |           459 |\n",
            "|   8 |            1431 |      1491 |             1542 |          1191 |\n",
            "|   9 |             345 |       361 |              295 |           349 |\n",
            "|  10 |            2097 |      2316 |             2790 |          1899 |\n",
            "|  11 |             720 |       673 |              629 |           726 |\n",
            "|  12 |            1821 |      1654 |             1792 |          1813 |\n",
            "|  13 |             806 |       584 |              719 |           806 |\n",
            "|  14 |            1895 |      2226 |             1823 |          1949 |\n",
            "|  15 |            1022 |       970 |              934 |           899 |\n",
            "|  16 |            1307 |      1508 |             1331 |          1145 |\n",
            "|  17 |             958 |      1039 |             1033 |           961 |\n",
            "|  18 |             705 |       718 |              944 |           713 |\n",
            "|  19 |            1901 |      1906 |             2472 |          1649 |\n",
            "|  20 |            2482 |      2039 |             2769 |          2349 |\n",
            "|  21 |             720 |       657 |              690 |           720 |\n",
            "|  22 |            1106 |       998 |             1236 |           798 |\n",
            "|  23 |             311 |       277 |              304 |           265 |\n",
            "|  24 |            1018 |      1161 |             1166 |          1149 |\n",
            "|  25 |             899 |       942 |              780 |           999 |\n",
            "|  26 |             815 |       871 |              786 |           959 |\n",
            "|  27 |             718 |       782 |              734 |           825 |\n",
            "|  28 |            1601 |      1789 |             1671 |          2277 |\n",
            "|  29 |            1189 |      1186 |             1113 |          1179 |\n",
            "|  30 |             459 |       439 |              480 |           459 |\n",
            "|  31 |            1582 |      1644 |             1693 |          1725 |\n",
            "|  32 |            1606 |      1677 |             1805 |          1969 |\n",
            "|  33 |             974 |      1032 |             1008 |           959 |\n",
            "|  34 |            1168 |      1011 |             1154 |           943 |\n",
            "|  35 |             726 |       781 |              713 |           745 |\n",
            "|  36 |             712 |       672 |              710 |           659 |\n",
            "|  37 |             473 |       531 |              452 |           399 |\n",
            "|  38 |            1218 |      1240 |             1268 |          1229 |\n",
            "|  39 |             263 |       259 |              313 |           330 |\n",
            "|  40 |            1710 |      1969 |             1899 |          1868 |\n",
            "|  41 |             581 |       513 |              527 |           519 |\n",
            "|  42 |             673 |       796 |              622 |           739 |\n",
            "|  43 |            2431 |      1910 |             2585 |          2290 |\n",
            "|  44 |             617 |       542 |              578 |           547 |\n",
            "|  45 |            1221 |      1235 |             1087 |          1377 |\n",
            "|  46 |            1647 |      1883 |             1827 |          1983 |\n",
            "|  47 |             233 |       258 |              228 |           279 |\n",
            "|  48 |             757 |       885 |              850 |           795 |\n",
            "|  49 |            1379 |      1380 |             1437 |          1458 |\n",
            "|  50 |            1799 |      1573 |             1571 |          1499 |\n",
            "|  51 |             504 |       499 |              560 |           629 |\n",
            "|  52 |             959 |       973 |              921 |          1199 |\n",
            "|  53 |            1275 |      1186 |              864 |          1100 |\n",
            "|  54 |             569 |       624 |              537 |           557 |\n",
            "|  55 |            1233 |      1189 |             1081 |          1026 |\n",
            "|  56 |             233 |       258 |              228 |           249 |\n",
            "|  57 |             899 |       903 |              975 |           819 |\n",
            "|  58 |            1199 |       913 |              928 |           941 |\n",
            "|  59 |             899 |       825 |              899 |           899 |\n",
            "|  60 |            1552 |      1361 |             1630 |          1749 |\n",
            "|  61 |             925 |       922 |              917 |           841 |\n",
            "|  62 |             434 |       440 |              497 |           404 |\n",
            "|  63 |             703 |       580 |              609 |           682 |\n",
            "|  64 |             286 |       273 |              279 |           299 |\n",
            "|  65 |            1916 |      2208 |             1863 |          2050 |\n",
            "|  66 |             539 |       481 |              457 |           529 |\n",
            "|  67 |             837 |       756 |              875 |           949 |\n",
            "|  68 |            1079 |      1017 |             1012 |          1094 |\n",
            "|  69 |            2251 |      1983 |             2570 |          1279 |\n",
            "|  70 |            2627 |      2364 |             3267 |          2799 |\n",
            "|  71 |             895 |      1008 |              790 |          1119 |\n",
            "|  72 |             583 |       650 |              728 |           530 |\n",
            "|  73 |             876 |       891 |              740 |           806 |\n",
            "|  74 |             346 |       330 |              370 |           309 |\n",
            "|  75 |             429 |       387 |              380 |           469 |\n",
            "|  76 |             759 |       787 |              755 |           639 |\n",
            "|  77 |            1661 |      1650 |             1180 |          1993 |\n",
            "|  78 |            1305 |      1217 |             1212 |          1599 |\n",
            "|  79 |            1508 |      1568 |             1757 |          1499 |\n",
            "|  80 |            1150 |      1093 |             1259 |          1399 |\n",
            "|  81 |             674 |       729 |              966 |           615 |\n",
            "|  82 |             406 |       350 |              326 |           349 |\n",
            "|  83 |             735 |       793 |              777 |           714 |\n",
            "|  84 |             293 |       277 |              279 |           278 |\n",
            "|  85 |            1327 |      1660 |             1533 |          2051 |\n",
            "|  86 |             464 |       516 |              444 |           439 |\n",
            "|  87 |            2552 |      2675 |             2124 |          2999 |\n",
            "|  88 |            1019 |       939 |              968 |           989 |\n",
            "|  89 |             926 |       877 |              947 |           819 |\n",
            "|  90 |            1570 |      1943 |             1832 |          1510 |\n",
            "|  91 |            2867 |      2090 |             2771 |          3240 |\n",
            "|  92 |             889 |       807 |              958 |           809 |\n",
            "|  93 |             788 |       828 |              674 |           726 |\n",
            "|  94 |            1141 |      1101 |             1075 |          1474 |\n",
            "|  95 |             451 |       434 |              459 |           426 |\n",
            "|  96 |            1022 |       908 |              916 |           859 |\n",
            "|  97 |             647 |       756 |              769 |           716 |\n",
            "|  98 |             644 |       706 |              642 |           784 |\n",
            "|  99 |            1006 |      1049 |             1072 |          1049 |\n",
            "| 100 |             307 |       318 |              293 |           330 |\n",
            "| 101 |             569 |       522 |              506 |           549 |\n",
            "| 102 |             624 |       731 |              601 |           665 |\n",
            "| 103 |            1910 |      1808 |             2002 |          2041 |\n",
            "| 104 |            1021 |      1269 |             1146 |          1000 |\n",
            "| 105 |             806 |       584 |              719 |           806 |\n",
            "| 106 |             886 |      1014 |              906 |          1169 |\n",
            "| 107 |             609 |       643 |              899 |           499 |\n",
            "| 108 |            1391 |      1357 |             1425 |          1097 |\n",
            "| 109 |             420 |       453 |              702 |           299 |\n",
            "| 110 |            1873 |      1963 |             1545 |          1799 |\n",
            "| 111 |            1337 |      1329 |             1101 |          1427 |\n",
            "| 112 |             953 |       863 |             1075 |           879 |\n",
            "| 113 |            2767 |      2638 |             2829 |          2729 |\n",
            "| 114 |             292 |       267 |              271 |           299 |\n",
            "| 115 |            2249 |      2123 |             1717 |          2449 |\n",
            "| 116 |            1392 |      1422 |             1378 |          1199 |\n",
            "| 117 |            1706 |      1933 |             1958 |          1449 |\n",
            "| 118 |             882 |       862 |              792 |           979 |\n",
            "| 119 |             704 |       711 |              667 |           759 |\n",
            "| 120 |            5315 |      3414 |             5051 |          6099 |\n",
            "| 121 |            1077 |      1103 |              946 |          1124 |\n",
            "| 122 |             800 |       830 |              750 |           797 |\n",
            "| 123 |            1261 |      1425 |             1749 |          1299 |\n",
            "| 124 |            1073 |       921 |             1021 |           789 |\n",
            "| 125 |             470 |       531 |              466 |           466 |\n",
            "| 126 |            1337 |      1328 |             1111 |          1099 |\n",
            "| 127 |             570 |       618 |              751 |           649 |\n",
            "| 128 |            1518 |      1854 |             1755 |          1379 |\n",
            "| 129 |            1151 |      1165 |             1522 |           699 |\n",
            "| 130 |            1338 |      1436 |             1487 |          1271 |\n"
          ]
        }
      ],
      "source": [
        "final_results = pd.DataFrame({\n",
        "    'Random Forest': np.round(np.exp(random_forest_pred)).astype('int64'),\n",
        "    'XGBoost': np.round(np.exp(xgb_pred)).astype('int64'),\n",
        "    'Neural Network': np.round(np.exp(neural_network_preds)).astype('int64'),\n",
        "    'Real Values': np.round(np.exp(df_nn[target])).astype('int64')})\n",
        "print(final_results.to_markdown())"
      ]
    },
    {
      "cell_type": "code",
      "execution_count": null,
      "metadata": {
        "id": "6K8XyLYfOV1w"
      },
      "outputs": [],
      "source": []
    }
  ],
  "metadata": {
    "colab": {
      "provenance": []
    },
    "kernelspec": {
      "display_name": "Python 3",
      "language": "python",
      "name": "python3"
    },
    "language_info": {
      "codemirror_mode": {
        "name": "ipython",
        "version": 3
      },
      "file_extension": ".py",
      "mimetype": "text/x-python",
      "name": "python",
      "nbconvert_exporter": "python",
      "pygments_lexer": "ipython3",
      "version": "3.8.8"
    }
  },
  "nbformat": 4,
  "nbformat_minor": 0
}