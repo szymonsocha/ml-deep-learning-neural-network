{
  "cells": [
    {
      "cell_type": "markdown",
      "source": [
        "# Random Forest"
      ],
      "metadata": {
        "id": "vrWXVfWDhbqE"
      },
      "id": "vrWXVfWDhbqE"
    },
    {
      "cell_type": "code",
      "source": [
        "import pandas as pd\n",
        "import numpy as np\n",
        "import regex as re\n",
        "from sklearn.preprocessing import LabelEncoder\n",
        "from sklearn.preprocessing import StandardScaler\n",
        "from sklearn.model_selection import train_test_split\n",
        "from sklearn.decomposition import PCA\n",
        "\n",
        "import xgboost\n",
        "from xgboost import XGBRegressor\n",
        "from sklearn.ensemble import RandomForestRegressor\n",
        "\n",
        "from sklearn.metrics import mean_squared_error\n",
        "from sklearn.metrics import r2_score"
      ],
      "metadata": {
        "id": "5_IYG3zfnwpW"
      },
      "id": "5_IYG3zfnwpW",
      "execution_count": 243,
      "outputs": []
    },
    {
      "cell_type": "markdown",
      "source": [
        "## Load previously prepared data"
      ],
      "metadata": {
        "id": "k51k44_GhfKa"
      },
      "id": "k51k44_GhfKa"
    },
    {
      "cell_type": "code",
      "source": [
        "df = pd.read_csv('data/laptop_train.csv')"
      ],
      "metadata": {
        "id": "EGRkLq8CYixB"
      },
      "id": "EGRkLq8CYixB",
      "execution_count": 244,
      "outputs": []
    },
    {
      "cell_type": "code",
      "source": [
        "df.head()"
      ],
      "metadata": {
        "id": "3DLT6O5UrrGC",
        "outputId": "824e220c-23d2-4acc-cbea-fc51f8f8a525",
        "colab": {
          "base_uri": "https://localhost:8080/",
          "height": 206
        }
      },
      "id": "3DLT6O5UrrGC",
      "execution_count": 245,
      "outputs": [
        {
          "output_type": "execute_result",
          "data": {
            "text/plain": [
              "  company               product   typename  inches                    cpu  \\\n",
              "0    Dell         Inspiron 3567   Notebook    15.6   Intel Core i3 7100U    \n",
              "1  Lenovo    Legion Y520-15IKBN     Gaming    15.6  Intel Core i5 7300HQ    \n",
              "2    Dell                XPS 13  Ultrabook    13.3   Intel Core i7 8550U    \n",
              "3    Asus  ZenBook UX305CA-UBM1  Ultrabook    13.3     Intel Core M 6Y30    \n",
              "4    Dell         Inspiron 3567   Notebook    15.6   Intel Core i3 6006U    \n",
              "\n",
              "   ram(GB)                      gpu       opsys  weight(kg) resolution  \\\n",
              "0        6    Intel HD Graphics 620  Windows 10        2.30   1366x768   \n",
              "1        8  Nvidia GeForce GTX 1050  Windows 10        2.50  1920x1080   \n",
              "2        8   Intel UHD Graphics 620  Windows 10        1.20  1920x1080   \n",
              "3        8    Intel HD Graphics 515  Windows 10        1.20  1920x1080   \n",
              "4        4       AMD Radeon R5 M430       Linux        2.25   1366x768   \n",
              "\n",
              "  screentype  touchscreen  cpu(GHz)  memory_1_storage_gb memory_1_type  \\\n",
              "0        NaN        False       2.4               1000.0           HDD   \n",
              "1   IPSPanel        False       2.5                256.0           SSD   \n",
              "2        NaN        False       1.8                256.0           SSD   \n",
              "3   IPSPanel        False       0.9                512.0           SSD   \n",
              "4        NaN        False       2.0               1000.0           HDD   \n",
              "\n",
              "   memory_2_storage_gb memory_2_type  log_price  \n",
              "0                  0.0           NaN   6.129050  \n",
              "1                  0.0           NaN   6.720220  \n",
              "2                  0.0           NaN   7.364547  \n",
              "3                  0.0           NaN   6.591674  \n",
              "4                  0.0           NaN   6.143370  "
            ],
            "text/html": [
              "\n",
              "  <div id=\"df-5547759b-bf61-43dd-bbce-ce96155bd546\">\n",
              "    <div class=\"colab-df-container\">\n",
              "      <div>\n",
              "<style scoped>\n",
              "    .dataframe tbody tr th:only-of-type {\n",
              "        vertical-align: middle;\n",
              "    }\n",
              "\n",
              "    .dataframe tbody tr th {\n",
              "        vertical-align: top;\n",
              "    }\n",
              "\n",
              "    .dataframe thead th {\n",
              "        text-align: right;\n",
              "    }\n",
              "</style>\n",
              "<table border=\"1\" class=\"dataframe\">\n",
              "  <thead>\n",
              "    <tr style=\"text-align: right;\">\n",
              "      <th></th>\n",
              "      <th>company</th>\n",
              "      <th>product</th>\n",
              "      <th>typename</th>\n",
              "      <th>inches</th>\n",
              "      <th>cpu</th>\n",
              "      <th>ram(GB)</th>\n",
              "      <th>gpu</th>\n",
              "      <th>opsys</th>\n",
              "      <th>weight(kg)</th>\n",
              "      <th>resolution</th>\n",
              "      <th>screentype</th>\n",
              "      <th>touchscreen</th>\n",
              "      <th>cpu(GHz)</th>\n",
              "      <th>memory_1_storage_gb</th>\n",
              "      <th>memory_1_type</th>\n",
              "      <th>memory_2_storage_gb</th>\n",
              "      <th>memory_2_type</th>\n",
              "      <th>log_price</th>\n",
              "    </tr>\n",
              "  </thead>\n",
              "  <tbody>\n",
              "    <tr>\n",
              "      <th>0</th>\n",
              "      <td>Dell</td>\n",
              "      <td>Inspiron 3567</td>\n",
              "      <td>Notebook</td>\n",
              "      <td>15.6</td>\n",
              "      <td>Intel Core i3 7100U</td>\n",
              "      <td>6</td>\n",
              "      <td>Intel HD Graphics 620</td>\n",
              "      <td>Windows 10</td>\n",
              "      <td>2.30</td>\n",
              "      <td>1366x768</td>\n",
              "      <td>NaN</td>\n",
              "      <td>False</td>\n",
              "      <td>2.4</td>\n",
              "      <td>1000.0</td>\n",
              "      <td>HDD</td>\n",
              "      <td>0.0</td>\n",
              "      <td>NaN</td>\n",
              "      <td>6.129050</td>\n",
              "    </tr>\n",
              "    <tr>\n",
              "      <th>1</th>\n",
              "      <td>Lenovo</td>\n",
              "      <td>Legion Y520-15IKBN</td>\n",
              "      <td>Gaming</td>\n",
              "      <td>15.6</td>\n",
              "      <td>Intel Core i5 7300HQ</td>\n",
              "      <td>8</td>\n",
              "      <td>Nvidia GeForce GTX 1050</td>\n",
              "      <td>Windows 10</td>\n",
              "      <td>2.50</td>\n",
              "      <td>1920x1080</td>\n",
              "      <td>IPSPanel</td>\n",
              "      <td>False</td>\n",
              "      <td>2.5</td>\n",
              "      <td>256.0</td>\n",
              "      <td>SSD</td>\n",
              "      <td>0.0</td>\n",
              "      <td>NaN</td>\n",
              "      <td>6.720220</td>\n",
              "    </tr>\n",
              "    <tr>\n",
              "      <th>2</th>\n",
              "      <td>Dell</td>\n",
              "      <td>XPS 13</td>\n",
              "      <td>Ultrabook</td>\n",
              "      <td>13.3</td>\n",
              "      <td>Intel Core i7 8550U</td>\n",
              "      <td>8</td>\n",
              "      <td>Intel UHD Graphics 620</td>\n",
              "      <td>Windows 10</td>\n",
              "      <td>1.20</td>\n",
              "      <td>1920x1080</td>\n",
              "      <td>NaN</td>\n",
              "      <td>False</td>\n",
              "      <td>1.8</td>\n",
              "      <td>256.0</td>\n",
              "      <td>SSD</td>\n",
              "      <td>0.0</td>\n",
              "      <td>NaN</td>\n",
              "      <td>7.364547</td>\n",
              "    </tr>\n",
              "    <tr>\n",
              "      <th>3</th>\n",
              "      <td>Asus</td>\n",
              "      <td>ZenBook UX305CA-UBM1</td>\n",
              "      <td>Ultrabook</td>\n",
              "      <td>13.3</td>\n",
              "      <td>Intel Core M 6Y30</td>\n",
              "      <td>8</td>\n",
              "      <td>Intel HD Graphics 515</td>\n",
              "      <td>Windows 10</td>\n",
              "      <td>1.20</td>\n",
              "      <td>1920x1080</td>\n",
              "      <td>IPSPanel</td>\n",
              "      <td>False</td>\n",
              "      <td>0.9</td>\n",
              "      <td>512.0</td>\n",
              "      <td>SSD</td>\n",
              "      <td>0.0</td>\n",
              "      <td>NaN</td>\n",
              "      <td>6.591674</td>\n",
              "    </tr>\n",
              "    <tr>\n",
              "      <th>4</th>\n",
              "      <td>Dell</td>\n",
              "      <td>Inspiron 3567</td>\n",
              "      <td>Notebook</td>\n",
              "      <td>15.6</td>\n",
              "      <td>Intel Core i3 6006U</td>\n",
              "      <td>4</td>\n",
              "      <td>AMD Radeon R5 M430</td>\n",
              "      <td>Linux</td>\n",
              "      <td>2.25</td>\n",
              "      <td>1366x768</td>\n",
              "      <td>NaN</td>\n",
              "      <td>False</td>\n",
              "      <td>2.0</td>\n",
              "      <td>1000.0</td>\n",
              "      <td>HDD</td>\n",
              "      <td>0.0</td>\n",
              "      <td>NaN</td>\n",
              "      <td>6.143370</td>\n",
              "    </tr>\n",
              "  </tbody>\n",
              "</table>\n",
              "</div>\n",
              "      <button class=\"colab-df-convert\" onclick=\"convertToInteractive('df-5547759b-bf61-43dd-bbce-ce96155bd546')\"\n",
              "              title=\"Convert this dataframe to an interactive table.\"\n",
              "              style=\"display:none;\">\n",
              "        \n",
              "  <svg xmlns=\"http://www.w3.org/2000/svg\" height=\"24px\"viewBox=\"0 0 24 24\"\n",
              "       width=\"24px\">\n",
              "    <path d=\"M0 0h24v24H0V0z\" fill=\"none\"/>\n",
              "    <path d=\"M18.56 5.44l.94 2.06.94-2.06 2.06-.94-2.06-.94-.94-2.06-.94 2.06-2.06.94zm-11 1L8.5 8.5l.94-2.06 2.06-.94-2.06-.94L8.5 2.5l-.94 2.06-2.06.94zm10 10l.94 2.06.94-2.06 2.06-.94-2.06-.94-.94-2.06-.94 2.06-2.06.94z\"/><path d=\"M17.41 7.96l-1.37-1.37c-.4-.4-.92-.59-1.43-.59-.52 0-1.04.2-1.43.59L10.3 9.45l-7.72 7.72c-.78.78-.78 2.05 0 2.83L4 21.41c.39.39.9.59 1.41.59.51 0 1.02-.2 1.41-.59l7.78-7.78 2.81-2.81c.8-.78.8-2.07 0-2.86zM5.41 20L4 18.59l7.72-7.72 1.47 1.35L5.41 20z\"/>\n",
              "  </svg>\n",
              "      </button>\n",
              "      \n",
              "  <style>\n",
              "    .colab-df-container {\n",
              "      display:flex;\n",
              "      flex-wrap:wrap;\n",
              "      gap: 12px;\n",
              "    }\n",
              "\n",
              "    .colab-df-convert {\n",
              "      background-color: #E8F0FE;\n",
              "      border: none;\n",
              "      border-radius: 50%;\n",
              "      cursor: pointer;\n",
              "      display: none;\n",
              "      fill: #1967D2;\n",
              "      height: 32px;\n",
              "      padding: 0 0 0 0;\n",
              "      width: 32px;\n",
              "    }\n",
              "\n",
              "    .colab-df-convert:hover {\n",
              "      background-color: #E2EBFA;\n",
              "      box-shadow: 0px 1px 2px rgba(60, 64, 67, 0.3), 0px 1px 3px 1px rgba(60, 64, 67, 0.15);\n",
              "      fill: #174EA6;\n",
              "    }\n",
              "\n",
              "    [theme=dark] .colab-df-convert {\n",
              "      background-color: #3B4455;\n",
              "      fill: #D2E3FC;\n",
              "    }\n",
              "\n",
              "    [theme=dark] .colab-df-convert:hover {\n",
              "      background-color: #434B5C;\n",
              "      box-shadow: 0px 1px 3px 1px rgba(0, 0, 0, 0.15);\n",
              "      filter: drop-shadow(0px 1px 2px rgba(0, 0, 0, 0.3));\n",
              "      fill: #FFFFFF;\n",
              "    }\n",
              "  </style>\n",
              "\n",
              "      <script>\n",
              "        const buttonEl =\n",
              "          document.querySelector('#df-5547759b-bf61-43dd-bbce-ce96155bd546 button.colab-df-convert');\n",
              "        buttonEl.style.display =\n",
              "          google.colab.kernel.accessAllowed ? 'block' : 'none';\n",
              "\n",
              "        async function convertToInteractive(key) {\n",
              "          const element = document.querySelector('#df-5547759b-bf61-43dd-bbce-ce96155bd546');\n",
              "          const dataTable =\n",
              "            await google.colab.kernel.invokeFunction('convertToInteractive',\n",
              "                                                     [key], {});\n",
              "          if (!dataTable) return;\n",
              "\n",
              "          const docLinkHtml = 'Like what you see? Visit the ' +\n",
              "            '<a target=\"_blank\" href=https://colab.research.google.com/notebooks/data_table.ipynb>data table notebook</a>'\n",
              "            + ' to learn more about interactive tables.';\n",
              "          element.innerHTML = '';\n",
              "          dataTable['output_type'] = 'display_data';\n",
              "          await google.colab.output.renderOutput(dataTable, element);\n",
              "          const docLink = document.createElement('div');\n",
              "          docLink.innerHTML = docLinkHtml;\n",
              "          element.appendChild(docLink);\n",
              "        }\n",
              "      </script>\n",
              "    </div>\n",
              "  </div>\n",
              "  "
            ]
          },
          "metadata": {},
          "execution_count": 245
        }
      ]
    },
    {
      "cell_type": "code",
      "source": [
        "df.columns"
      ],
      "metadata": {
        "id": "JyT9LOyTnyqw",
        "outputId": "5016e8b6-9896-4f3e-dfc6-b44cabe0fdef",
        "colab": {
          "base_uri": "https://localhost:8080/"
        }
      },
      "id": "JyT9LOyTnyqw",
      "execution_count": 246,
      "outputs": [
        {
          "output_type": "execute_result",
          "data": {
            "text/plain": [
              "Index(['company', 'product', 'typename', 'inches', 'cpu', 'ram(GB)', 'gpu',\n",
              "       'opsys', 'weight(kg)', 'resolution', 'screentype', 'touchscreen',\n",
              "       'cpu(GHz)', 'memory_1_storage_gb', 'memory_1_type',\n",
              "       'memory_2_storage_gb', 'memory_2_type', 'log_price'],\n",
              "      dtype='object')"
            ]
          },
          "metadata": {},
          "execution_count": 246
        }
      ]
    },
    {
      "cell_type": "code",
      "source": [
        "df.info()"
      ],
      "metadata": {
        "id": "4xhUWGSuwNAl",
        "outputId": "aeacb260-87b2-4f6e-f8aa-89b7018c908d",
        "colab": {
          "base_uri": "https://localhost:8080/"
        }
      },
      "id": "4xhUWGSuwNAl",
      "execution_count": 247,
      "outputs": [
        {
          "output_type": "stream",
          "name": "stdout",
          "text": [
            "<class 'pandas.core.frame.DataFrame'>\n",
            "RangeIndex: 1132 entries, 0 to 1131\n",
            "Data columns (total 18 columns):\n",
            " #   Column               Non-Null Count  Dtype  \n",
            "---  ------               --------------  -----  \n",
            " 0   company              1132 non-null   object \n",
            " 1   product              1132 non-null   object \n",
            " 2   typename             1132 non-null   object \n",
            " 3   inches               1132 non-null   float64\n",
            " 4   cpu                  1132 non-null   object \n",
            " 5   ram(GB)              1132 non-null   int64  \n",
            " 6   gpu                  1132 non-null   object \n",
            " 7   opsys                1132 non-null   object \n",
            " 8   weight(kg)           1132 non-null   float64\n",
            " 9   resolution           1132 non-null   object \n",
            " 10  screentype           301 non-null    object \n",
            " 11  touchscreen          1132 non-null   bool   \n",
            " 12  cpu(GHz)             1132 non-null   float64\n",
            " 13  memory_1_storage_gb  1132 non-null   float64\n",
            " 14  memory_1_type        1132 non-null   object \n",
            " 15  memory_2_storage_gb  1132 non-null   float64\n",
            " 16  memory_2_type        187 non-null    object \n",
            " 17  log_price            1132 non-null   float64\n",
            "dtypes: bool(1), float64(6), int64(1), object(10)\n",
            "memory usage: 151.6+ KB\n"
          ]
        }
      ]
    },
    {
      "cell_type": "code",
      "source": [
        "target = \"log_price\"\n",
        "numericFeatures = [\"inches\", \"ram(GB)\", \"weight(kg)\", \"cpu(GHz)\", \"memory_1_storage_gb\", \"memory_2_storage_gb\"]\n",
        "catFeatures = [\"company\", \"product\", \"typename\", \"cpu\", \"gpu\", \"opsys\", \"resolution\", \"screentype\", \"touchscreen\", \"memory_1_type\", \"memory_2_type\"]"
      ],
      "metadata": {
        "id": "vLmN6jgKpWt9"
      },
      "id": "vLmN6jgKpWt9",
      "execution_count": 248,
      "outputs": []
    },
    {
      "cell_type": "code",
      "source": [
        "en = preprocessing.LabelEncoder()\n",
        "for cols in catFeatures:\n",
        "    df[cols] = en.fit_transform(df[cols])\n",
        "print('Dataframe encoded by Label encoding dimension : ', df.shape)"
      ],
      "metadata": {
        "id": "9D8vU2S8rtxx",
        "outputId": "9539c99e-156d-46a2-ee8f-91520451a28f",
        "colab": {
          "base_uri": "https://localhost:8080/"
        }
      },
      "id": "9D8vU2S8rtxx",
      "execution_count": 249,
      "outputs": [
        {
          "output_type": "stream",
          "name": "stdout",
          "text": [
            "Dataframe encoded by Label encoding dimension :  (1132, 18)\n"
          ]
        }
      ]
    },
    {
      "cell_type": "code",
      "source": [
        "df"
      ],
      "metadata": {
        "id": "hma5OA1athXo",
        "outputId": "32da4b76-ddb0-4a7e-84cf-b565d0adcaab",
        "colab": {
          "base_uri": "https://localhost:8080/",
          "height": 424
        }
      },
      "id": "hma5OA1athXo",
      "execution_count": 250,
      "outputs": [
        {
          "output_type": "execute_result",
          "data": {
            "text/plain": [
              "      company  product  typename  inches  cpu  ram(GB)  gpu  opsys  \\\n",
              "0           4      218         3    15.6   41        6   44      4   \n",
              "1           8      267         1    15.6   49        8   63      4   \n",
              "2           4      525         4    13.3   69        8   51      4   \n",
              "3           2      547         4    13.3   33        8   39      4   \n",
              "4           4      218         3    15.6   39        4   19      1   \n",
              "...       ...      ...       ...     ...  ...      ...  ...    ...   \n",
              "1127        6      101         3    14.0   44        4   40      4   \n",
              "1128        0       69         3    15.6   48        8   74      4   \n",
              "1129        6       26         3    15.6   61        8   44      4   \n",
              "1130        6      295         3    15.6    9        6   23      4   \n",
              "1131        8      409         3    15.6   48        8   44      4   \n",
              "\n",
              "      weight(kg)  resolution  screentype  touchscreen  cpu(GHz)  \\\n",
              "0           2.30           0           2            0       2.4   \n",
              "1           2.50           3           0            0       2.5   \n",
              "2           1.20           3           2            0       1.8   \n",
              "3           1.20           3           0            0       0.9   \n",
              "4           2.25           0           2            0       2.0   \n",
              "...          ...         ...         ...          ...       ...   \n",
              "1127        1.54           3           2            0       2.3   \n",
              "1128        2.40           3           2            0       2.5   \n",
              "1129        2.04           0           2            0       2.7   \n",
              "1130        2.04           3           2            0       2.9   \n",
              "1131        2.30           3           0            0       2.5   \n",
              "\n",
              "      memory_1_storage_gb  memory_1_type  memory_2_storage_gb  memory_2_type  \\\n",
              "0                  1000.0              1                  0.0              3   \n",
              "1                   256.0              3                  0.0              3   \n",
              "2                   256.0              3                  0.0              3   \n",
              "3                   512.0              3                  0.0              3   \n",
              "4                  1000.0              1                  0.0              3   \n",
              "...                   ...            ...                  ...            ...   \n",
              "1127                500.0              1                  0.0              3   \n",
              "1128                256.0              3               1000.0              0   \n",
              "1129               2000.0              1                  0.0              3   \n",
              "1130               1000.0              2                  0.0              3   \n",
              "1131               1000.0              1                  0.0              3   \n",
              "\n",
              "      log_price  \n",
              "0      6.129050  \n",
              "1      6.720220  \n",
              "2      7.364547  \n",
              "3      6.591674  \n",
              "4      6.143370  \n",
              "...         ...  \n",
              "1127   6.907755  \n",
              "1128   6.683361  \n",
              "1129   6.444131  \n",
              "1130   6.309900  \n",
              "1131   6.746013  \n",
              "\n",
              "[1132 rows x 18 columns]"
            ],
            "text/html": [
              "\n",
              "  <div id=\"df-af45b6ad-a17d-461b-a189-734140bb5f30\">\n",
              "    <div class=\"colab-df-container\">\n",
              "      <div>\n",
              "<style scoped>\n",
              "    .dataframe tbody tr th:only-of-type {\n",
              "        vertical-align: middle;\n",
              "    }\n",
              "\n",
              "    .dataframe tbody tr th {\n",
              "        vertical-align: top;\n",
              "    }\n",
              "\n",
              "    .dataframe thead th {\n",
              "        text-align: right;\n",
              "    }\n",
              "</style>\n",
              "<table border=\"1\" class=\"dataframe\">\n",
              "  <thead>\n",
              "    <tr style=\"text-align: right;\">\n",
              "      <th></th>\n",
              "      <th>company</th>\n",
              "      <th>product</th>\n",
              "      <th>typename</th>\n",
              "      <th>inches</th>\n",
              "      <th>cpu</th>\n",
              "      <th>ram(GB)</th>\n",
              "      <th>gpu</th>\n",
              "      <th>opsys</th>\n",
              "      <th>weight(kg)</th>\n",
              "      <th>resolution</th>\n",
              "      <th>screentype</th>\n",
              "      <th>touchscreen</th>\n",
              "      <th>cpu(GHz)</th>\n",
              "      <th>memory_1_storage_gb</th>\n",
              "      <th>memory_1_type</th>\n",
              "      <th>memory_2_storage_gb</th>\n",
              "      <th>memory_2_type</th>\n",
              "      <th>log_price</th>\n",
              "    </tr>\n",
              "  </thead>\n",
              "  <tbody>\n",
              "    <tr>\n",
              "      <th>0</th>\n",
              "      <td>4</td>\n",
              "      <td>218</td>\n",
              "      <td>3</td>\n",
              "      <td>15.6</td>\n",
              "      <td>41</td>\n",
              "      <td>6</td>\n",
              "      <td>44</td>\n",
              "      <td>4</td>\n",
              "      <td>2.30</td>\n",
              "      <td>0</td>\n",
              "      <td>2</td>\n",
              "      <td>0</td>\n",
              "      <td>2.4</td>\n",
              "      <td>1000.0</td>\n",
              "      <td>1</td>\n",
              "      <td>0.0</td>\n",
              "      <td>3</td>\n",
              "      <td>6.129050</td>\n",
              "    </tr>\n",
              "    <tr>\n",
              "      <th>1</th>\n",
              "      <td>8</td>\n",
              "      <td>267</td>\n",
              "      <td>1</td>\n",
              "      <td>15.6</td>\n",
              "      <td>49</td>\n",
              "      <td>8</td>\n",
              "      <td>63</td>\n",
              "      <td>4</td>\n",
              "      <td>2.50</td>\n",
              "      <td>3</td>\n",
              "      <td>0</td>\n",
              "      <td>0</td>\n",
              "      <td>2.5</td>\n",
              "      <td>256.0</td>\n",
              "      <td>3</td>\n",
              "      <td>0.0</td>\n",
              "      <td>3</td>\n",
              "      <td>6.720220</td>\n",
              "    </tr>\n",
              "    <tr>\n",
              "      <th>2</th>\n",
              "      <td>4</td>\n",
              "      <td>525</td>\n",
              "      <td>4</td>\n",
              "      <td>13.3</td>\n",
              "      <td>69</td>\n",
              "      <td>8</td>\n",
              "      <td>51</td>\n",
              "      <td>4</td>\n",
              "      <td>1.20</td>\n",
              "      <td>3</td>\n",
              "      <td>2</td>\n",
              "      <td>0</td>\n",
              "      <td>1.8</td>\n",
              "      <td>256.0</td>\n",
              "      <td>3</td>\n",
              "      <td>0.0</td>\n",
              "      <td>3</td>\n",
              "      <td>7.364547</td>\n",
              "    </tr>\n",
              "    <tr>\n",
              "      <th>3</th>\n",
              "      <td>2</td>\n",
              "      <td>547</td>\n",
              "      <td>4</td>\n",
              "      <td>13.3</td>\n",
              "      <td>33</td>\n",
              "      <td>8</td>\n",
              "      <td>39</td>\n",
              "      <td>4</td>\n",
              "      <td>1.20</td>\n",
              "      <td>3</td>\n",
              "      <td>0</td>\n",
              "      <td>0</td>\n",
              "      <td>0.9</td>\n",
              "      <td>512.0</td>\n",
              "      <td>3</td>\n",
              "      <td>0.0</td>\n",
              "      <td>3</td>\n",
              "      <td>6.591674</td>\n",
              "    </tr>\n",
              "    <tr>\n",
              "      <th>4</th>\n",
              "      <td>4</td>\n",
              "      <td>218</td>\n",
              "      <td>3</td>\n",
              "      <td>15.6</td>\n",
              "      <td>39</td>\n",
              "      <td>4</td>\n",
              "      <td>19</td>\n",
              "      <td>1</td>\n",
              "      <td>2.25</td>\n",
              "      <td>0</td>\n",
              "      <td>2</td>\n",
              "      <td>0</td>\n",
              "      <td>2.0</td>\n",
              "      <td>1000.0</td>\n",
              "      <td>1</td>\n",
              "      <td>0.0</td>\n",
              "      <td>3</td>\n",
              "      <td>6.143370</td>\n",
              "    </tr>\n",
              "    <tr>\n",
              "      <th>...</th>\n",
              "      <td>...</td>\n",
              "      <td>...</td>\n",
              "      <td>...</td>\n",
              "      <td>...</td>\n",
              "      <td>...</td>\n",
              "      <td>...</td>\n",
              "      <td>...</td>\n",
              "      <td>...</td>\n",
              "      <td>...</td>\n",
              "      <td>...</td>\n",
              "      <td>...</td>\n",
              "      <td>...</td>\n",
              "      <td>...</td>\n",
              "      <td>...</td>\n",
              "      <td>...</td>\n",
              "      <td>...</td>\n",
              "      <td>...</td>\n",
              "      <td>...</td>\n",
              "    </tr>\n",
              "    <tr>\n",
              "      <th>1127</th>\n",
              "      <td>6</td>\n",
              "      <td>101</td>\n",
              "      <td>3</td>\n",
              "      <td>14.0</td>\n",
              "      <td>44</td>\n",
              "      <td>4</td>\n",
              "      <td>40</td>\n",
              "      <td>4</td>\n",
              "      <td>1.54</td>\n",
              "      <td>3</td>\n",
              "      <td>2</td>\n",
              "      <td>0</td>\n",
              "      <td>2.3</td>\n",
              "      <td>500.0</td>\n",
              "      <td>1</td>\n",
              "      <td>0.0</td>\n",
              "      <td>3</td>\n",
              "      <td>6.907755</td>\n",
              "    </tr>\n",
              "    <tr>\n",
              "      <th>1128</th>\n",
              "      <td>0</td>\n",
              "      <td>69</td>\n",
              "      <td>3</td>\n",
              "      <td>15.6</td>\n",
              "      <td>48</td>\n",
              "      <td>8</td>\n",
              "      <td>74</td>\n",
              "      <td>4</td>\n",
              "      <td>2.40</td>\n",
              "      <td>3</td>\n",
              "      <td>2</td>\n",
              "      <td>0</td>\n",
              "      <td>2.5</td>\n",
              "      <td>256.0</td>\n",
              "      <td>3</td>\n",
              "      <td>1000.0</td>\n",
              "      <td>0</td>\n",
              "      <td>6.683361</td>\n",
              "    </tr>\n",
              "    <tr>\n",
              "      <th>1129</th>\n",
              "      <td>6</td>\n",
              "      <td>26</td>\n",
              "      <td>3</td>\n",
              "      <td>15.6</td>\n",
              "      <td>61</td>\n",
              "      <td>8</td>\n",
              "      <td>44</td>\n",
              "      <td>4</td>\n",
              "      <td>2.04</td>\n",
              "      <td>0</td>\n",
              "      <td>2</td>\n",
              "      <td>0</td>\n",
              "      <td>2.7</td>\n",
              "      <td>2000.0</td>\n",
              "      <td>1</td>\n",
              "      <td>0.0</td>\n",
              "      <td>3</td>\n",
              "      <td>6.444131</td>\n",
              "    </tr>\n",
              "    <tr>\n",
              "      <th>1130</th>\n",
              "      <td>6</td>\n",
              "      <td>295</td>\n",
              "      <td>3</td>\n",
              "      <td>15.6</td>\n",
              "      <td>9</td>\n",
              "      <td>6</td>\n",
              "      <td>23</td>\n",
              "      <td>4</td>\n",
              "      <td>2.04</td>\n",
              "      <td>3</td>\n",
              "      <td>2</td>\n",
              "      <td>0</td>\n",
              "      <td>2.9</td>\n",
              "      <td>1000.0</td>\n",
              "      <td>2</td>\n",
              "      <td>0.0</td>\n",
              "      <td>3</td>\n",
              "      <td>6.309900</td>\n",
              "    </tr>\n",
              "    <tr>\n",
              "      <th>1131</th>\n",
              "      <td>8</td>\n",
              "      <td>409</td>\n",
              "      <td>3</td>\n",
              "      <td>15.6</td>\n",
              "      <td>48</td>\n",
              "      <td>8</td>\n",
              "      <td>44</td>\n",
              "      <td>4</td>\n",
              "      <td>2.30</td>\n",
              "      <td>3</td>\n",
              "      <td>0</td>\n",
              "      <td>0</td>\n",
              "      <td>2.5</td>\n",
              "      <td>1000.0</td>\n",
              "      <td>1</td>\n",
              "      <td>0.0</td>\n",
              "      <td>3</td>\n",
              "      <td>6.746013</td>\n",
              "    </tr>\n",
              "  </tbody>\n",
              "</table>\n",
              "<p>1132 rows × 18 columns</p>\n",
              "</div>\n",
              "      <button class=\"colab-df-convert\" onclick=\"convertToInteractive('df-af45b6ad-a17d-461b-a189-734140bb5f30')\"\n",
              "              title=\"Convert this dataframe to an interactive table.\"\n",
              "              style=\"display:none;\">\n",
              "        \n",
              "  <svg xmlns=\"http://www.w3.org/2000/svg\" height=\"24px\"viewBox=\"0 0 24 24\"\n",
              "       width=\"24px\">\n",
              "    <path d=\"M0 0h24v24H0V0z\" fill=\"none\"/>\n",
              "    <path d=\"M18.56 5.44l.94 2.06.94-2.06 2.06-.94-2.06-.94-.94-2.06-.94 2.06-2.06.94zm-11 1L8.5 8.5l.94-2.06 2.06-.94-2.06-.94L8.5 2.5l-.94 2.06-2.06.94zm10 10l.94 2.06.94-2.06 2.06-.94-2.06-.94-.94-2.06-.94 2.06-2.06.94z\"/><path d=\"M17.41 7.96l-1.37-1.37c-.4-.4-.92-.59-1.43-.59-.52 0-1.04.2-1.43.59L10.3 9.45l-7.72 7.72c-.78.78-.78 2.05 0 2.83L4 21.41c.39.39.9.59 1.41.59.51 0 1.02-.2 1.41-.59l7.78-7.78 2.81-2.81c.8-.78.8-2.07 0-2.86zM5.41 20L4 18.59l7.72-7.72 1.47 1.35L5.41 20z\"/>\n",
              "  </svg>\n",
              "      </button>\n",
              "      \n",
              "  <style>\n",
              "    .colab-df-container {\n",
              "      display:flex;\n",
              "      flex-wrap:wrap;\n",
              "      gap: 12px;\n",
              "    }\n",
              "\n",
              "    .colab-df-convert {\n",
              "      background-color: #E8F0FE;\n",
              "      border: none;\n",
              "      border-radius: 50%;\n",
              "      cursor: pointer;\n",
              "      display: none;\n",
              "      fill: #1967D2;\n",
              "      height: 32px;\n",
              "      padding: 0 0 0 0;\n",
              "      width: 32px;\n",
              "    }\n",
              "\n",
              "    .colab-df-convert:hover {\n",
              "      background-color: #E2EBFA;\n",
              "      box-shadow: 0px 1px 2px rgba(60, 64, 67, 0.3), 0px 1px 3px 1px rgba(60, 64, 67, 0.15);\n",
              "      fill: #174EA6;\n",
              "    }\n",
              "\n",
              "    [theme=dark] .colab-df-convert {\n",
              "      background-color: #3B4455;\n",
              "      fill: #D2E3FC;\n",
              "    }\n",
              "\n",
              "    [theme=dark] .colab-df-convert:hover {\n",
              "      background-color: #434B5C;\n",
              "      box-shadow: 0px 1px 3px 1px rgba(0, 0, 0, 0.15);\n",
              "      filter: drop-shadow(0px 1px 2px rgba(0, 0, 0, 0.3));\n",
              "      fill: #FFFFFF;\n",
              "    }\n",
              "  </style>\n",
              "\n",
              "      <script>\n",
              "        const buttonEl =\n",
              "          document.querySelector('#df-af45b6ad-a17d-461b-a189-734140bb5f30 button.colab-df-convert');\n",
              "        buttonEl.style.display =\n",
              "          google.colab.kernel.accessAllowed ? 'block' : 'none';\n",
              "\n",
              "        async function convertToInteractive(key) {\n",
              "          const element = document.querySelector('#df-af45b6ad-a17d-461b-a189-734140bb5f30');\n",
              "          const dataTable =\n",
              "            await google.colab.kernel.invokeFunction('convertToInteractive',\n",
              "                                                     [key], {});\n",
              "          if (!dataTable) return;\n",
              "\n",
              "          const docLinkHtml = 'Like what you see? Visit the ' +\n",
              "            '<a target=\"_blank\" href=https://colab.research.google.com/notebooks/data_table.ipynb>data table notebook</a>'\n",
              "            + ' to learn more about interactive tables.';\n",
              "          element.innerHTML = '';\n",
              "          dataTable['output_type'] = 'display_data';\n",
              "          await google.colab.output.renderOutput(dataTable, element);\n",
              "          const docLink = document.createElement('div');\n",
              "          docLink.innerHTML = docLinkHtml;\n",
              "          element.appendChild(docLink);\n",
              "        }\n",
              "      </script>\n",
              "    </div>\n",
              "  </div>\n",
              "  "
            ]
          },
          "metadata": {},
          "execution_count": 250
        }
      ]
    },
    {
      "cell_type": "code",
      "source": [
        "X=df.drop('log_price', axis = 1).values\n",
        "y=df['log_price'].values"
      ],
      "metadata": {
        "id": "jAR24ZhZtlCh"
      },
      "id": "jAR24ZhZtlCh",
      "execution_count": 270,
      "outputs": []
    },
    {
      "cell_type": "code",
      "source": [
        "X_train, X_test, y_train, y_test = train_test_split(X, y, test_size = 0.3, random_state = 2023)\n",
        "rf = RandomForestRegressor()\n",
        "rf.fit(X_train,y_train)\n",
        "y_pred_rf = rf.predict(X_test)"
      ],
      "metadata": {
        "id": "pL31a2ExuAj0"
      },
      "id": "pL31a2ExuAj0",
      "execution_count": 271,
      "outputs": []
    },
    {
      "cell_type": "code",
      "source": [
        "print(\"R2: {:.2f} %\".format(np.round(r2_score(y_test, y_pred_rf),4)*100))\n"
      ],
      "metadata": {
        "id": "_WMeStdSuK-K",
        "outputId": "42eb4c75-7dfc-40c4-aae0-aed0efbde740",
        "colab": {
          "base_uri": "https://localhost:8080/"
        }
      },
      "id": "_WMeStdSuK-K",
      "execution_count": 273,
      "outputs": [
        {
          "output_type": "stream",
          "name": "stdout",
          "text": [
            "R2: 89.49 %\n"
          ]
        }
      ]
    },
    {
      "cell_type": "markdown",
      "source": [
        "Result with default hyperparameters and without CV"
      ],
      "metadata": {
        "id": "BndfNL2Zieu1"
      },
      "id": "BndfNL2Zieu1"
    },
    {
      "cell_type": "markdown",
      "source": [
        "## Hyperparameter tuning"
      ],
      "metadata": {
        "id": "YA0o_NLo2RpX"
      },
      "id": "YA0o_NLo2RpX"
    },
    {
      "cell_type": "code",
      "source": [
        "features = df.columns.tolist()\n",
        "features.remove(target)"
      ],
      "metadata": {
        "id": "GW2xk5BiKVEI"
      },
      "id": "GW2xk5BiKVEI",
      "execution_count": 181,
      "outputs": []
    },
    {
      "cell_type": "code",
      "source": [
        "from sklearn.model_selection import KFold\n",
        "from sklearn import metrics\n",
        "from sklearn.ensemble import RandomForestRegressor\n",
        "from sklearn.metrics import roc_auc_score\n",
        "\n",
        "\n",
        "def CVTestRFClass(nFolds = 5, randomState=2023, debug=False, features=features, *args, **kwargs):\n",
        "    kf = KFold(n_splits=nFolds, shuffle=True, random_state=randomState)\n",
        "\n",
        "    # empty lists to save thge results\n",
        "    testResults = []\n",
        "    trainResults = []\n",
        "    predictions = []\n",
        "    indices = []\n",
        "\n",
        "    # Loop walidating the model for each fold\n",
        "    for train, test in kf.split(df.index.values):\n",
        "        # Estimator\n",
        "        \n",
        "        if debug:\n",
        "            print(clf)\n",
        "        # Training the model\n",
        "        clf.fit(df.iloc[train][features], df.iloc[train][target])\n",
        "\n",
        "        predsTrain = clf.predict(df.iloc[train][features])\n",
        "        preds = clf.predict(df.iloc[test][features])\n",
        "        \n",
        "        # Save predictions for this fold\n",
        "        predictions.append(preds.tolist().copy())\n",
        "        \n",
        "        # with indexes\n",
        "        indices.append(df.iloc[test].index.tolist().copy())\n",
        "        \n",
        "        # R2 measure\n",
        "        trainScore = np.round(r2_score(df[target].iloc[train], predsTrain),4)*100\n",
        "        testScore = np.round(r2_score(df[target].iloc[test], preds),4)*100\n",
        "        \n",
        "        # Save the results to the list\n",
        "        trainResults.append(trainScore)\n",
        "        testResults.append(testScore)\n",
        "\n",
        "        if debug:\n",
        "            print(\"Train R2: {:.2f} %\".format(trainScore),\n",
        "                  \"Test R2: {:.2f} %\".format(testScore))\n",
        "        \n",
        "    return trainResults, testResults, predictions, indices\n"
      ],
      "metadata": {
        "id": "isrp21LPKOzQ"
      },
      "id": "isrp21LPKOzQ",
      "execution_count": 221,
      "outputs": []
    },
    {
      "cell_type": "code",
      "source": [
        "trainResults, testResults, predictions, indices = CVTestRFClass(debug=True)\n",
        "print(\"R2: {:.2f} %\".format(np.mean(testResults)))"
      ],
      "metadata": {
        "id": "FGwfg_NmKQsb",
        "outputId": "b9d5f8f9-0b0d-4738-cf45-ba01966e3045",
        "colab": {
          "base_uri": "https://localhost:8080/"
        }
      },
      "id": "FGwfg_NmKQsb",
      "execution_count": 222,
      "outputs": [
        {
          "output_type": "stream",
          "name": "stdout",
          "text": [
            "RandomForestRegressor(n_jobs=-1, random_state=2023)\n",
            "Train R2: 98.67 % Test R2: 91.74 %\n",
            "RandomForestRegressor(n_jobs=-1, random_state=2023)\n",
            "Train R2: 98.76 % Test R2: 89.15 %\n",
            "RandomForestRegressor(n_jobs=-1, random_state=2023)\n",
            "Train R2: 98.62 % Test R2: 92.59 %\n",
            "RandomForestRegressor(n_jobs=-1, random_state=2023)\n",
            "Train R2: 98.72 % Test R2: 90.56 %\n",
            "RandomForestRegressor(n_jobs=-1, random_state=2023)\n",
            "Train R2: 98.69 % Test R2: 90.33 %\n",
            "R2: 90.87 %\n"
          ]
        }
      ]
    },
    {
      "cell_type": "markdown",
      "source": [
        "### Random search"
      ],
      "metadata": {
        "id": "q_EohF2SKcKh"
      },
      "id": "q_EohF2SKcKh"
    },
    {
      "cell_type": "code",
      "source": [
        "import matplotlib.pyplot as plt\n",
        "plt.style.use('seaborn-ticks')\n",
        "%matplotlib inline"
      ],
      "metadata": {
        "id": "94fM-b9CTjCR"
      },
      "id": "94fM-b9CTjCR",
      "execution_count": 213,
      "outputs": []
    },
    {
      "cell_type": "code",
      "source": [
        "import random\n",
        "\n",
        "results = []\n",
        "\n",
        "for k in range(100):\n",
        "\n",
        "    params = {\n",
        "        \"max_depth\" : random.randint(5, 40),\n",
        "        \"max_features\" : random.randint(2, 17),\n",
        "        \"min_samples_split\" : random.randint(2, 9),\n",
        "    }\n",
        "    params[\"min_samples_leaf\"] = random.randint(1, params[\"min_samples_split\"])\n",
        "    \n",
        "    # Estimate the model for randomized hyperparameters\n",
        "    trainResults, testResults, predictions, indices = CVTestRFClass(n_estimators=100,\n",
        "                                                                    max_depth=params[\"max_depth\"],\n",
        "                                                                    max_features=params[\"max_features\"],\n",
        "                                                                    min_samples_split=params[\"min_samples_split\"],\n",
        "                                                                    min_samples_leaf=params[\"min_samples_leaf\"])\n",
        "    \n",
        "    # Save the result\n",
        "    results.append((np.mean(testResults), params.copy()))\n",
        "    \n",
        "    # Current iteration result\n",
        "    print(params, np.mean(testResults))\n",
        "    \n",
        "    # Top 5 results each 10 iterations\n",
        "    if k>1 and k%10==0:    \n",
        "        print(\"\\n Top 5:\")\n",
        "        for score, params in sorted(results, key=lambda x: x[0], reverse=True)[0:5]:\n",
        "            print(params, score)\n",
        "        print()"
      ],
      "metadata": {
        "id": "O7vXzyYoTF0W",
        "outputId": "a6985a6c-5efe-4215-b2f5-d051544ed9b3",
        "colab": {
          "base_uri": "https://localhost:8080/"
        }
      },
      "id": "O7vXzyYoTF0W",
      "execution_count": 217,
      "outputs": [
        {
          "output_type": "stream",
          "name": "stdout",
          "text": [
            "{'max_depth': 37, 'max_features': 17, 'min_samples_split': 4, 'min_samples_leaf': 1} 90.77799999999999\n",
            "{'max_depth': 29, 'max_features': 5, 'min_samples_split': 6, 'min_samples_leaf': 1} 91.388\n",
            "{'max_depth': 37, 'max_features': 11, 'min_samples_split': 6, 'min_samples_leaf': 5} 89.778\n",
            "{'max_depth': 31, 'max_features': 14, 'min_samples_split': 9, 'min_samples_leaf': 6} 89.054\n",
            "{'max_depth': 23, 'max_features': 5, 'min_samples_split': 3, 'min_samples_leaf': 1} 91.75\n",
            "{'max_depth': 7, 'max_features': 16, 'min_samples_split': 3, 'min_samples_leaf': 3} 88.00000000000001\n",
            "{'max_depth': 15, 'max_features': 2, 'min_samples_split': 9, 'min_samples_leaf': 4} 87.99\n",
            "{'max_depth': 21, 'max_features': 4, 'min_samples_split': 8, 'min_samples_leaf': 5} 88.72999999999999\n",
            "{'max_depth': 14, 'max_features': 7, 'min_samples_split': 3, 'min_samples_leaf': 2} 91.194\n",
            "{'max_depth': 20, 'max_features': 14, 'min_samples_split': 6, 'min_samples_leaf': 6} 89.054\n",
            "{'max_depth': 12, 'max_features': 10, 'min_samples_split': 8, 'min_samples_leaf': 6} 89.078\n",
            "\n",
            " Top 5:\n",
            "{'max_depth': 23, 'max_features': 5, 'min_samples_split': 3, 'min_samples_leaf': 1} 91.75\n",
            "{'max_depth': 29, 'max_features': 5, 'min_samples_split': 6, 'min_samples_leaf': 1} 91.388\n",
            "{'max_depth': 14, 'max_features': 7, 'min_samples_split': 3, 'min_samples_leaf': 2} 91.194\n",
            "{'max_depth': 37, 'max_features': 17, 'min_samples_split': 4, 'min_samples_leaf': 1} 90.77799999999999\n",
            "{'max_depth': 37, 'max_features': 11, 'min_samples_split': 6, 'min_samples_leaf': 5} 89.778\n",
            "\n",
            "{'max_depth': 20, 'max_features': 6, 'min_samples_split': 7, 'min_samples_leaf': 7} 88.034\n",
            "{'max_depth': 12, 'max_features': 8, 'min_samples_split': 4, 'min_samples_leaf': 2} 91.03799999999998\n",
            "{'max_depth': 17, 'max_features': 9, 'min_samples_split': 6, 'min_samples_leaf': 4} 90.268\n",
            "{'max_depth': 39, 'max_features': 7, 'min_samples_split': 6, 'min_samples_leaf': 1} 91.506\n",
            "{'max_depth': 36, 'max_features': 4, 'min_samples_split': 5, 'min_samples_leaf': 2} 90.95\n",
            "{'max_depth': 21, 'max_features': 11, 'min_samples_split': 2, 'min_samples_leaf': 1} 91.606\n",
            "{'max_depth': 40, 'max_features': 5, 'min_samples_split': 9, 'min_samples_leaf': 8} 87.33000000000001\n",
            "{'max_depth': 40, 'max_features': 12, 'min_samples_split': 5, 'min_samples_leaf': 2} 91.00800000000001\n",
            "{'max_depth': 9, 'max_features': 13, 'min_samples_split': 4, 'min_samples_leaf': 2} 90.25999999999999\n",
            "{'max_depth': 31, 'max_features': 14, 'min_samples_split': 9, 'min_samples_leaf': 5} 89.582\n",
            "\n",
            " Top 5:\n",
            "{'max_depth': 23, 'max_features': 5, 'min_samples_split': 3, 'min_samples_leaf': 1} 91.75\n",
            "{'max_depth': 21, 'max_features': 11, 'min_samples_split': 2, 'min_samples_leaf': 1} 91.606\n",
            "{'max_depth': 39, 'max_features': 7, 'min_samples_split': 6, 'min_samples_leaf': 1} 91.506\n",
            "{'max_depth': 29, 'max_features': 5, 'min_samples_split': 6, 'min_samples_leaf': 1} 91.388\n",
            "{'max_depth': 14, 'max_features': 7, 'min_samples_split': 3, 'min_samples_leaf': 2} 91.194\n",
            "\n",
            "{'max_depth': 34, 'max_features': 14, 'min_samples_split': 8, 'min_samples_leaf': 1} 91.01599999999999\n",
            "{'max_depth': 25, 'max_features': 13, 'min_samples_split': 2, 'min_samples_leaf': 2} 91.18199999999999\n",
            "{'max_depth': 14, 'max_features': 15, 'min_samples_split': 5, 'min_samples_leaf': 3} 90.51399999999998\n",
            "{'max_depth': 30, 'max_features': 13, 'min_samples_split': 5, 'min_samples_leaf': 4} 90.306\n",
            "{'max_depth': 31, 'max_features': 8, 'min_samples_split': 6, 'min_samples_leaf': 2} 91.074\n",
            "{'max_depth': 5, 'max_features': 7, 'min_samples_split': 4, 'min_samples_leaf': 1} 85.75399999999999\n",
            "{'max_depth': 9, 'max_features': 15, 'min_samples_split': 8, 'min_samples_leaf': 1} 89.80999999999999\n",
            "{'max_depth': 10, 'max_features': 3, 'min_samples_split': 3, 'min_samples_leaf': 2} 90.01799999999999\n",
            "{'max_depth': 36, 'max_features': 13, 'min_samples_split': 9, 'min_samples_leaf': 4} 90.176\n",
            "{'max_depth': 10, 'max_features': 2, 'min_samples_split': 9, 'min_samples_leaf': 5} 86.97999999999999\n",
            "\n",
            " Top 5:\n",
            "{'max_depth': 23, 'max_features': 5, 'min_samples_split': 3, 'min_samples_leaf': 1} 91.75\n",
            "{'max_depth': 21, 'max_features': 11, 'min_samples_split': 2, 'min_samples_leaf': 1} 91.606\n",
            "{'max_depth': 39, 'max_features': 7, 'min_samples_split': 6, 'min_samples_leaf': 1} 91.506\n",
            "{'max_depth': 29, 'max_features': 5, 'min_samples_split': 6, 'min_samples_leaf': 1} 91.388\n",
            "{'max_depth': 14, 'max_features': 7, 'min_samples_split': 3, 'min_samples_leaf': 2} 91.194\n",
            "\n",
            "{'max_depth': 5, 'max_features': 16, 'min_samples_split': 8, 'min_samples_leaf': 4} 84.322\n",
            "{'max_depth': 26, 'max_features': 17, 'min_samples_split': 7, 'min_samples_leaf': 7} 88.12\n",
            "{'max_depth': 12, 'max_features': 15, 'min_samples_split': 8, 'min_samples_leaf': 8} 87.96199999999999\n",
            "{'max_depth': 15, 'max_features': 10, 'min_samples_split': 2, 'min_samples_leaf': 2} 91.274\n",
            "{'max_depth': 16, 'max_features': 15, 'min_samples_split': 4, 'min_samples_leaf': 1} 91.10799999999999\n",
            "{'max_depth': 31, 'max_features': 16, 'min_samples_split': 9, 'min_samples_leaf': 2} 90.256\n",
            "{'max_depth': 21, 'max_features': 11, 'min_samples_split': 5, 'min_samples_leaf': 5} 89.778\n",
            "{'max_depth': 29, 'max_features': 2, 'min_samples_split': 5, 'min_samples_leaf': 3} 88.90400000000001\n",
            "{'max_depth': 31, 'max_features': 5, 'min_samples_split': 9, 'min_samples_leaf': 4} 89.586\n",
            "{'max_depth': 38, 'max_features': 10, 'min_samples_split': 4, 'min_samples_leaf': 2} 91.264\n",
            "\n",
            " Top 5:\n",
            "{'max_depth': 23, 'max_features': 5, 'min_samples_split': 3, 'min_samples_leaf': 1} 91.75\n",
            "{'max_depth': 21, 'max_features': 11, 'min_samples_split': 2, 'min_samples_leaf': 1} 91.606\n",
            "{'max_depth': 39, 'max_features': 7, 'min_samples_split': 6, 'min_samples_leaf': 1} 91.506\n",
            "{'max_depth': 29, 'max_features': 5, 'min_samples_split': 6, 'min_samples_leaf': 1} 91.388\n",
            "{'max_depth': 15, 'max_features': 10, 'min_samples_split': 2, 'min_samples_leaf': 2} 91.274\n",
            "\n",
            "{'max_depth': 33, 'max_features': 11, 'min_samples_split': 8, 'min_samples_leaf': 1} 91.21599999999998\n",
            "{'max_depth': 37, 'max_features': 15, 'min_samples_split': 5, 'min_samples_leaf': 2} 90.97999999999999\n",
            "{'max_depth': 40, 'max_features': 7, 'min_samples_split': 6, 'min_samples_leaf': 1} 91.506\n",
            "{'max_depth': 17, 'max_features': 8, 'min_samples_split': 6, 'min_samples_leaf': 3} 90.738\n",
            "{'max_depth': 34, 'max_features': 17, 'min_samples_split': 9, 'min_samples_leaf': 8} 87.60999999999999\n",
            "{'max_depth': 30, 'max_features': 10, 'min_samples_split': 7, 'min_samples_leaf': 7} 88.61\n",
            "{'max_depth': 31, 'max_features': 10, 'min_samples_split': 6, 'min_samples_leaf': 1} 91.262\n",
            "{'max_depth': 33, 'max_features': 2, 'min_samples_split': 6, 'min_samples_leaf': 3} 88.90400000000001\n",
            "{'max_depth': 19, 'max_features': 14, 'min_samples_split': 7, 'min_samples_leaf': 4} 90.16\n",
            "{'max_depth': 16, 'max_features': 13, 'min_samples_split': 3, 'min_samples_leaf': 2} 91.10400000000001\n",
            "\n",
            " Top 5:\n",
            "{'max_depth': 23, 'max_features': 5, 'min_samples_split': 3, 'min_samples_leaf': 1} 91.75\n",
            "{'max_depth': 21, 'max_features': 11, 'min_samples_split': 2, 'min_samples_leaf': 1} 91.606\n",
            "{'max_depth': 39, 'max_features': 7, 'min_samples_split': 6, 'min_samples_leaf': 1} 91.506\n",
            "{'max_depth': 40, 'max_features': 7, 'min_samples_split': 6, 'min_samples_leaf': 1} 91.506\n",
            "{'max_depth': 29, 'max_features': 5, 'min_samples_split': 6, 'min_samples_leaf': 1} 91.388\n",
            "\n",
            "{'max_depth': 10, 'max_features': 10, 'min_samples_split': 8, 'min_samples_leaf': 5} 89.382\n",
            "{'max_depth': 16, 'max_features': 2, 'min_samples_split': 9, 'min_samples_leaf': 3} 88.682\n",
            "{'max_depth': 26, 'max_features': 13, 'min_samples_split': 9, 'min_samples_leaf': 9} 87.574\n",
            "{'max_depth': 14, 'max_features': 15, 'min_samples_split': 3, 'min_samples_leaf': 1} 91.22\n",
            "{'max_depth': 8, 'max_features': 9, 'min_samples_split': 7, 'min_samples_leaf': 6} 88.448\n",
            "{'max_depth': 23, 'max_features': 6, 'min_samples_split': 5, 'min_samples_leaf': 3} 90.544\n",
            "{'max_depth': 23, 'max_features': 4, 'min_samples_split': 8, 'min_samples_leaf': 1} 90.92999999999999\n",
            "{'max_depth': 30, 'max_features': 10, 'min_samples_split': 5, 'min_samples_leaf': 2} 91.28200000000001\n",
            "{'max_depth': 7, 'max_features': 14, 'min_samples_split': 9, 'min_samples_leaf': 2} 88.28999999999999\n",
            "{'max_depth': 35, 'max_features': 15, 'min_samples_split': 6, 'min_samples_leaf': 2} 90.88199999999999\n",
            "\n",
            " Top 5:\n",
            "{'max_depth': 23, 'max_features': 5, 'min_samples_split': 3, 'min_samples_leaf': 1} 91.75\n",
            "{'max_depth': 21, 'max_features': 11, 'min_samples_split': 2, 'min_samples_leaf': 1} 91.606\n",
            "{'max_depth': 39, 'max_features': 7, 'min_samples_split': 6, 'min_samples_leaf': 1} 91.506\n",
            "{'max_depth': 40, 'max_features': 7, 'min_samples_split': 6, 'min_samples_leaf': 1} 91.506\n",
            "{'max_depth': 29, 'max_features': 5, 'min_samples_split': 6, 'min_samples_leaf': 1} 91.388\n",
            "\n",
            "{'max_depth': 18, 'max_features': 4, 'min_samples_split': 8, 'min_samples_leaf': 3} 90.072\n",
            "{'max_depth': 39, 'max_features': 14, 'min_samples_split': 7, 'min_samples_leaf': 2} 90.846\n",
            "{'max_depth': 38, 'max_features': 8, 'min_samples_split': 8, 'min_samples_leaf': 8} 87.768\n",
            "{'max_depth': 15, 'max_features': 10, 'min_samples_split': 7, 'min_samples_leaf': 1} 91.258\n",
            "{'max_depth': 40, 'max_features': 13, 'min_samples_split': 2, 'min_samples_leaf': 2} 91.18199999999999\n",
            "{'max_depth': 26, 'max_features': 2, 'min_samples_split': 8, 'min_samples_leaf': 5} 87.236\n",
            "{'max_depth': 23, 'max_features': 14, 'min_samples_split': 7, 'min_samples_leaf': 5} 89.582\n",
            "{'max_depth': 34, 'max_features': 8, 'min_samples_split': 8, 'min_samples_leaf': 4} 90.024\n",
            "{'max_depth': 12, 'max_features': 5, 'min_samples_split': 6, 'min_samples_leaf': 5} 88.988\n",
            "{'max_depth': 37, 'max_features': 9, 'min_samples_split': 8, 'min_samples_leaf': 2} 91.04400000000001\n",
            "\n",
            " Top 5:\n",
            "{'max_depth': 23, 'max_features': 5, 'min_samples_split': 3, 'min_samples_leaf': 1} 91.75\n",
            "{'max_depth': 21, 'max_features': 11, 'min_samples_split': 2, 'min_samples_leaf': 1} 91.606\n",
            "{'max_depth': 39, 'max_features': 7, 'min_samples_split': 6, 'min_samples_leaf': 1} 91.506\n",
            "{'max_depth': 40, 'max_features': 7, 'min_samples_split': 6, 'min_samples_leaf': 1} 91.506\n",
            "{'max_depth': 29, 'max_features': 5, 'min_samples_split': 6, 'min_samples_leaf': 1} 91.388\n",
            "\n",
            "{'max_depth': 16, 'max_features': 5, 'min_samples_split': 7, 'min_samples_leaf': 2} 90.846\n",
            "{'max_depth': 40, 'max_features': 16, 'min_samples_split': 3, 'min_samples_leaf': 3} 90.318\n",
            "{'max_depth': 5, 'max_features': 13, 'min_samples_split': 9, 'min_samples_leaf': 5} 84.992\n",
            "{'max_depth': 10, 'max_features': 15, 'min_samples_split': 4, 'min_samples_leaf': 4} 89.71\n",
            "{'max_depth': 15, 'max_features': 14, 'min_samples_split': 4, 'min_samples_leaf': 3} 90.68599999999999\n",
            "{'max_depth': 21, 'max_features': 15, 'min_samples_split': 4, 'min_samples_leaf': 4} 90.086\n",
            "{'max_depth': 31, 'max_features': 3, 'min_samples_split': 8, 'min_samples_leaf': 6} 87.502\n",
            "{'max_depth': 15, 'max_features': 2, 'min_samples_split': 4, 'min_samples_leaf': 1} 91.21599999999998\n",
            "{'max_depth': 29, 'max_features': 17, 'min_samples_split': 8, 'min_samples_leaf': 8} 87.60999999999999\n",
            "{'max_depth': 21, 'max_features': 15, 'min_samples_split': 5, 'min_samples_leaf': 2} 90.992\n",
            "\n",
            " Top 5:\n",
            "{'max_depth': 23, 'max_features': 5, 'min_samples_split': 3, 'min_samples_leaf': 1} 91.75\n",
            "{'max_depth': 21, 'max_features': 11, 'min_samples_split': 2, 'min_samples_leaf': 1} 91.606\n",
            "{'max_depth': 39, 'max_features': 7, 'min_samples_split': 6, 'min_samples_leaf': 1} 91.506\n",
            "{'max_depth': 40, 'max_features': 7, 'min_samples_split': 6, 'min_samples_leaf': 1} 91.506\n",
            "{'max_depth': 29, 'max_features': 5, 'min_samples_split': 6, 'min_samples_leaf': 1} 91.388\n",
            "\n",
            "{'max_depth': 15, 'max_features': 8, 'min_samples_split': 6, 'min_samples_leaf': 5} 89.386\n",
            "{'max_depth': 33, 'max_features': 17, 'min_samples_split': 5, 'min_samples_leaf': 1} 90.70599999999999\n",
            "{'max_depth': 18, 'max_features': 14, 'min_samples_split': 9, 'min_samples_leaf': 9} 87.49\n",
            "{'max_depth': 30, 'max_features': 16, 'min_samples_split': 3, 'min_samples_leaf': 3} 90.318\n",
            "{'max_depth': 13, 'max_features': 5, 'min_samples_split': 4, 'min_samples_leaf': 1} 91.55\n",
            "{'max_depth': 7, 'max_features': 17, 'min_samples_split': 4, 'min_samples_leaf': 3} 87.742\n",
            "{'max_depth': 22, 'max_features': 11, 'min_samples_split': 9, 'min_samples_leaf': 7} 88.546\n",
            "{'max_depth': 40, 'max_features': 6, 'min_samples_split': 3, 'min_samples_leaf': 3} 90.544\n",
            "{'max_depth': 25, 'max_features': 12, 'min_samples_split': 6, 'min_samples_leaf': 5} 89.668\n",
            "{'max_depth': 8, 'max_features': 9, 'min_samples_split': 5, 'min_samples_leaf': 5} 88.696\n",
            "\n",
            " Top 5:\n",
            "{'max_depth': 23, 'max_features': 5, 'min_samples_split': 3, 'min_samples_leaf': 1} 91.75\n",
            "{'max_depth': 21, 'max_features': 11, 'min_samples_split': 2, 'min_samples_leaf': 1} 91.606\n",
            "{'max_depth': 13, 'max_features': 5, 'min_samples_split': 4, 'min_samples_leaf': 1} 91.55\n",
            "{'max_depth': 39, 'max_features': 7, 'min_samples_split': 6, 'min_samples_leaf': 1} 91.506\n",
            "{'max_depth': 40, 'max_features': 7, 'min_samples_split': 6, 'min_samples_leaf': 1} 91.506\n",
            "\n",
            "{'max_depth': 27, 'max_features': 6, 'min_samples_split': 5, 'min_samples_leaf': 3} 90.544\n",
            "{'max_depth': 35, 'max_features': 6, 'min_samples_split': 8, 'min_samples_leaf': 3} 90.46000000000001\n",
            "{'max_depth': 25, 'max_features': 8, 'min_samples_split': 4, 'min_samples_leaf': 3} 90.72999999999999\n",
            "{'max_depth': 17, 'max_features': 3, 'min_samples_split': 6, 'min_samples_leaf': 2} 90.534\n",
            "{'max_depth': 39, 'max_features': 5, 'min_samples_split': 3, 'min_samples_leaf': 2} 91.21\n",
            "{'max_depth': 37, 'max_features': 17, 'min_samples_split': 8, 'min_samples_leaf': 6} 88.646\n",
            "{'max_depth': 15, 'max_features': 15, 'min_samples_split': 5, 'min_samples_leaf': 4} 90.08\n",
            "{'max_depth': 28, 'max_features': 4, 'min_samples_split': 6, 'min_samples_leaf': 1} 91.18800000000002\n",
            "{'max_depth': 30, 'max_features': 15, 'min_samples_split': 4, 'min_samples_leaf': 4} 90.086\n"
          ]
        }
      ]
    },
    {
      "cell_type": "code",
      "source": [
        "bestHistory = []\n",
        "for k in range(1,len(results)):\n",
        "    # List comprehension:\n",
        "    bestHistory.append(np.max([x for x, y in sorted(results[:k], key=lambda x: x[0], reverse=True)]))\n",
        "plt.plot(bestHistory)"
      ],
      "metadata": {
        "id": "UMPbuxQfTXUY",
        "outputId": "df9ab3b1-ab07-4ec5-f3bc-faa080b93fa7",
        "colab": {
          "base_uri": "https://localhost:8080/",
          "height": 285
        }
      },
      "id": "UMPbuxQfTXUY",
      "execution_count": 218,
      "outputs": [
        {
          "output_type": "execute_result",
          "data": {
            "text/plain": [
              "[<matplotlib.lines.Line2D at 0x7fc60884dd00>]"
            ]
          },
          "metadata": {},
          "execution_count": 218
        },
        {
          "output_type": "display_data",
          "data": {
            "text/plain": [
              "<Figure size 432x288 with 1 Axes>"
            ],
            "image/png": "[encoded data removed]"
          },
          "metadata": {
            "needs_background": "light"
          }
        }
      ]
    },
    {
      "cell_type": "code",
      "source": [
        "from sklearn.model_selection import RandomizedSearchCV\n",
        "# Number of trees in random forest\n",
        "n_estimators = [int(x) for x in np.linspace(start = 200, stop = 2000, num = 10)]\n",
        "# Number of features to consider at every split\n",
        "max_features = ['auto', 'sqrt']\n",
        "# Maximum number of levels in tree\n",
        "max_depth = [int(x) for x in np.linspace(10, 110, num = 11)]\n",
        "max_depth.append(None)\n",
        "# Minimum number of samples required to split a node\n",
        "min_samples_split = [2, 5, 10]\n",
        "# Minimum number of samples required at each leaf node\n",
        "min_samples_leaf = [1, 2, 4]\n",
        "# Method of selecting samples for training each tree\n",
        "bootstrap = [True, False]\n",
        "# Create the random grid\n",
        "random_grid = {'n_estimators': n_estimators,\n",
        "               'max_features': max_features,\n",
        "               'max_depth': max_depth,\n",
        "               'min_samples_split': min_samples_split,\n",
        "               'min_samples_leaf': min_samples_leaf,\n",
        "               'bootstrap': bootstrap}\n",
        "print(random_grid)"
      ],
      "metadata": {
        "id": "XQTa2te6TISz",
        "outputId": "59523e09-366e-4d76-d400-34d24eaa9661",
        "colab": {
          "base_uri": "https://localhost:8080/"
        }
      },
      "id": "XQTa2te6TISz",
      "execution_count": 224,
      "outputs": [
        {
          "output_type": "stream",
          "name": "stdout",
          "text": [
            "{'n_estimators': [200, 400, 600, 800, 1000, 1200, 1400, 1600, 1800, 2000], 'max_features': ['auto', 'sqrt'], 'max_depth': [10, 20, 30, 40, 50, 60, 70, 80, 90, 100, 110, None], 'min_samples_split': [2, 5, 10], 'min_samples_leaf': [1, 2, 4], 'bootstrap': [True, False]}\n"
          ]
        }
      ]
    },
    {
      "cell_type": "code",
      "source": [
        "# Use the random grid to search for best hyperparameters\n",
        "# First create the base model to tune\n",
        "rf = RandomForestRegressor()\n",
        "# Random search of parameters, using 3 fold cross validation, \n",
        "# search across 100 different combinations, and use all available cores\n",
        "rf_random = RandomizedSearchCV(estimator = rf, param_distributions = random_grid, n_iter = 100, cv = 3, verbose=2, random_state=42, n_jobs = -1)\n",
        "# Fit the random search model\n",
        "rf_random.fit(df[features], df[target])"
      ],
      "metadata": {
        "id": "9UExvZIeWX5_",
        "outputId": "4b229c8b-4e55-477f-ade2-551b9a19e325",
        "colab": {
          "base_uri": "https://localhost:8080/"
        }
      },
      "id": "9UExvZIeWX5_",
      "execution_count": 225,
      "outputs": [
        {
          "output_type": "stream",
          "name": "stdout",
          "text": [
            "Fitting 3 folds for each of 100 candidates, totalling 300 fits\n"
          ]
        },
        {
          "output_type": "execute_result",
          "data": {
            "text/plain": [
              "RandomizedSearchCV(cv=3, estimator=RandomForestRegressor(), n_iter=100,\n",
              "                   n_jobs=-1,\n",
              "                   param_distributions={'bootstrap': [True, False],\n",
              "                                        'max_depth': [10, 20, 30, 40, 50, 60,\n",
              "                                                      70, 80, 90, 100, 110,\n",
              "                                                      None],\n",
              "                                        'max_features': ['auto', 'sqrt'],\n",
              "                                        'min_samples_leaf': [1, 2, 4],\n",
              "                                        'min_samples_split': [2, 5, 10],\n",
              "                                        'n_estimators': [200, 400, 600, 800,\n",
              "                                                         1000, 1200, 1400, 1600,\n",
              "                                                         1800, 2000]},\n",
              "                   random_state=42, verbose=2)"
            ]
          },
          "metadata": {},
          "execution_count": 225
        }
      ]
    },
    {
      "cell_type": "code",
      "source": [
        "rf_random.best_params_"
      ],
      "metadata": {
        "id": "k3G1_WFiWp2R",
        "outputId": "99a5eecb-ee62-459b-8bdd-c91b229afde6",
        "colab": {
          "base_uri": "https://localhost:8080/"
        }
      },
      "id": "k3G1_WFiWp2R",
      "execution_count": 226,
      "outputs": [
        {
          "output_type": "execute_result",
          "data": {
            "text/plain": [
              "{'n_estimators': 1400,\n",
              " 'min_samples_split': 5,\n",
              " 'min_samples_leaf': 1,\n",
              " 'max_features': 'sqrt',\n",
              " 'max_depth': 80,\n",
              " 'bootstrap': False}"
            ]
          },
          "metadata": {},
          "execution_count": 226
        }
      ]
    },
    {
      "cell_type": "code",
      "source": [
        "trainResults, testResults, predictions, indices = CVTestRFClass(\n",
        "    n_estimators = 1400,\n",
        "    min_samples_split = 5,\n",
        "    min_samples_leaf = 1,\n",
        "    max_features = 'sqrt',\n",
        "    max_depth = 80,\n",
        "    bootstrap =  False,\n",
        "    debug = True)\n",
        "print(\"R2: {:.2f} %\".format(np.mean(testResults)))"
      ],
      "metadata": {
        "id": "toQLkrRBZhoB",
        "outputId": "d06dd2c8-4a7b-4aca-83f8-8e55fa96c51d",
        "colab": {
          "base_uri": "https://localhost:8080/"
        }
      },
      "id": "toQLkrRBZhoB",
      "execution_count": 229,
      "outputs": [
        {
          "output_type": "stream",
          "name": "stdout",
          "text": [
            "RandomForestRegressor(bootstrap=False, max_depth=80, max_features='sqrt',\n",
            "                      min_samples_split=5, n_estimators=1400, n_jobs=-1,\n",
            "                      random_state=2023)\n",
            "Train R2: 99.25 % Test R2: 92.37 %\n",
            "RandomForestRegressor(bootstrap=False, max_depth=80, max_features='sqrt',\n",
            "                      min_samples_split=5, n_estimators=1400, n_jobs=-1,\n",
            "                      random_state=2023)\n",
            "Train R2: 99.31 % Test R2: 90.56 %\n",
            "RandomForestRegressor(bootstrap=False, max_depth=80, max_features='sqrt',\n",
            "                      min_samples_split=5, n_estimators=1400, n_jobs=-1,\n",
            "                      random_state=2023)\n",
            "Train R2: 99.24 % Test R2: 93.78 %\n",
            "RandomForestRegressor(bootstrap=False, max_depth=80, max_features='sqrt',\n",
            "                      min_samples_split=5, n_estimators=1400, n_jobs=-1,\n",
            "                      random_state=2023)\n",
            "Train R2: 99.25 % Test R2: 92.83 %\n",
            "RandomForestRegressor(bootstrap=False, max_depth=80, max_features='sqrt',\n",
            "                      min_samples_split=5, n_estimators=1400, n_jobs=-1,\n",
            "                      random_state=2023)\n",
            "Train R2: 99.25 % Test R2: 91.95 %\n",
            "R2: 92.30 %\n"
          ]
        }
      ]
    },
    {
      "cell_type": "markdown",
      "source": [
        "Results after hyperparameter tuning are better than without it\\\n",
        "R2: 89.49 %\n",
        "vs.\n",
        "R2: 92.30 %"
      ],
      "metadata": {
        "id": "C0ZYFwU2iuRv"
      },
      "id": "C0ZYFwU2iuRv"
    },
    {
      "cell_type": "markdown",
      "source": [
        "## Save the model"
      ],
      "metadata": {
        "id": "LlZXZty-ZkTt"
      },
      "id": "LlZXZty-ZkTt"
    },
    {
      "cell_type": "markdown",
      "source": [
        "Let's save the model. I will later compare the performance of different models on the testing dataset"
      ],
      "metadata": {
        "id": "mc_dhEb7i9wb"
      },
      "id": "mc_dhEb7i9wb"
    },
    {
      "cell_type": "code",
      "source": [
        "import pickle"
      ],
      "metadata": {
        "id": "CSheVeILdaIK"
      },
      "id": "CSheVeILdaIK",
      "execution_count": 239,
      "outputs": []
    },
    {
      "cell_type": "code",
      "source": [
        "model = RandomForestRegressor(n_estimators = 1400,\n",
        "    min_samples_split = 5,\n",
        "    min_samples_leaf = 1,\n",
        "    max_features = 'sqrt',\n",
        "    max_depth = 80,\n",
        "    bootstrap =  False)\n",
        "model.fit(df[features], df[target])"
      ],
      "metadata": {
        "id": "ZK34fyNmckaf",
        "outputId": "dd2a00eb-33d0-40d9-a2fc-6631ee3fb1dd",
        "colab": {
          "base_uri": "https://localhost:8080/"
        }
      },
      "id": "ZK34fyNmckaf",
      "execution_count": 237,
      "outputs": [
        {
          "output_type": "execute_result",
          "data": {
            "text/plain": [
              "RandomForestRegressor(bootstrap=False, max_depth=80, max_features='sqrt',\n",
              "                      min_samples_split=5, n_estimators=1400)"
            ]
          },
          "metadata": {},
          "execution_count": 237
        }
      ]
    },
    {
      "cell_type": "code",
      "source": [
        "pickle.dump(model, open('random_forest.sav', 'wb'))"
      ],
      "metadata": {
        "id": "WeqNhS_Hb6f8"
      },
      "id": "WeqNhS_Hb6f8",
      "execution_count": 240,
      "outputs": []
    }
  ],
  "metadata": {
    "colab": {
      "provenance": []
    },
    "language_info": {
      "name": "python"
    },
    "kernelspec": {
      "name": "python3",
      "display_name": "Python 3"
    },
    "gpuClass": "standard"
  },
  "nbformat": 4,
  "nbformat_minor": 5
}