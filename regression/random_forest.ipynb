{
  "cells": [
    {
      "cell_type": "markdown",
      "source": [
        "# Random Forest"
      ],
      "metadata": {
        "id": "vrWXVfWDhbqE"
      },
      "id": "vrWXVfWDhbqE"
    },
    {
      "cell_type": "code",
      "source": [
        "import pandas as pd\n",
        "import numpy as np\n",
        "import regex as re\n",
        "#from sklearn.preprocessing import LabelEncoder\n",
        "#from sklearn.preprocessing import StandardScaler\n",
        "from sklearn import preprocessing\n",
        "from sklearn.model_selection import train_test_split\n",
        "from sklearn.decomposition import PCA\n",
        "\n",
        "import xgboost\n",
        "from xgboost import XGBRegressor\n",
        "from sklearn.ensemble import RandomForestRegressor\n",
        "\n",
        "from sklearn.metrics import mean_squared_error\n",
        "from sklearn.metrics import r2_score"
      ],
      "metadata": {
        "id": "5_IYG3zfnwpW"
      },
      "id": "5_IYG3zfnwpW",
      "execution_count": 34,
      "outputs": []
    },
    {
      "cell_type": "markdown",
      "source": [
        "## Load previously prepared data"
      ],
      "metadata": {
        "id": "k51k44_GhfKa"
      },
      "id": "k51k44_GhfKa"
    },
    {
      "cell_type": "code",
      "source": [
        "df = pd.read_csv('data/laptop_train.csv')"
      ],
      "metadata": {
        "id": "EGRkLq8CYixB"
      },
      "id": "EGRkLq8CYixB",
      "execution_count": 35,
      "outputs": []
    },
    {
      "cell_type": "code",
      "source": [
        "df.head()"
      ],
      "metadata": {
        "colab": {
          "base_uri": "https://localhost:8080/",
          "height": 206
        },
        "id": "3DLT6O5UrrGC",
        "outputId": "77bb8143-d23e-488d-97cd-13297d6bfcd0"
      },
      "id": "3DLT6O5UrrGC",
      "execution_count": 36,
      "outputs": [
        {
          "output_type": "execute_result",
          "data": {
            "text/plain": [
              "   company  product  typename  inches  cpu  ram(GB)  gpu  opsys  weight(kg)  \\\n",
              "0        4      239         3    15.6   49        6   53      5        2.30   \n",
              "1       10      291         1    15.6   58        8   75      5        2.50   \n",
              "2        4      576         4    13.3   81        8   61      5        1.20   \n",
              "3        2      602         4    13.3   38        8   46      5        1.20   \n",
              "4        4      239         3    15.6   47        4   24      2        2.25   \n",
              "\n",
              "   resolution  screentype  touchscreen  cpu(GHz)  memory_1_storage_gb  \\\n",
              "0           0           2            0       2.4               1000.0   \n",
              "1           3           0            0       2.5                256.0   \n",
              "2           3           2            0       1.8                256.0   \n",
              "3           3           0            0       0.9                512.0   \n",
              "4           0           2            0       2.0               1000.0   \n",
              "\n",
              "   memory_1_type  memory_2_storage_gb  memory_2_type  log_price  \n",
              "0              1                  0.0              3   6.129050  \n",
              "1              3                  0.0              3   6.720220  \n",
              "2              3                  0.0              3   7.364547  \n",
              "3              3                  0.0              3   6.591674  \n",
              "4              1                  0.0              3   6.143370  "
            ],
            "text/html": [
              "\n",
              "  <div id=\"df-c2ff24e4-4065-4a70-9634-adcf390d13f6\">\n",
              "    <div class=\"colab-df-container\">\n",
              "      <div>\n",
              "<style scoped>\n",
              "    .dataframe tbody tr th:only-of-type {\n",
              "        vertical-align: middle;\n",
              "    }\n",
              "\n",
              "    .dataframe tbody tr th {\n",
              "        vertical-align: top;\n",
              "    }\n",
              "\n",
              "    .dataframe thead th {\n",
              "        text-align: right;\n",
              "    }\n",
              "</style>\n",
              "<table border=\"1\" class=\"dataframe\">\n",
              "  <thead>\n",
              "    <tr style=\"text-align: right;\">\n",
              "      <th></th>\n",
              "      <th>company</th>\n",
              "      <th>product</th>\n",
              "      <th>typename</th>\n",
              "      <th>inches</th>\n",
              "      <th>cpu</th>\n",
              "      <th>ram(GB)</th>\n",
              "      <th>gpu</th>\n",
              "      <th>opsys</th>\n",
              "      <th>weight(kg)</th>\n",
              "      <th>resolution</th>\n",
              "      <th>screentype</th>\n",
              "      <th>touchscreen</th>\n",
              "      <th>cpu(GHz)</th>\n",
              "      <th>memory_1_storage_gb</th>\n",
              "      <th>memory_1_type</th>\n",
              "      <th>memory_2_storage_gb</th>\n",
              "      <th>memory_2_type</th>\n",
              "      <th>log_price</th>\n",
              "    </tr>\n",
              "  </thead>\n",
              "  <tbody>\n",
              "    <tr>\n",
              "      <th>0</th>\n",
              "      <td>4</td>\n",
              "      <td>239</td>\n",
              "      <td>3</td>\n",
              "      <td>15.6</td>\n",
              "      <td>49</td>\n",
              "      <td>6</td>\n",
              "      <td>53</td>\n",
              "      <td>5</td>\n",
              "      <td>2.30</td>\n",
              "      <td>0</td>\n",
              "      <td>2</td>\n",
              "      <td>0</td>\n",
              "      <td>2.4</td>\n",
              "      <td>1000.0</td>\n",
              "      <td>1</td>\n",
              "      <td>0.0</td>\n",
              "      <td>3</td>\n",
              "      <td>6.129050</td>\n",
              "    </tr>\n",
              "    <tr>\n",
              "      <th>1</th>\n",
              "      <td>10</td>\n",
              "      <td>291</td>\n",
              "      <td>1</td>\n",
              "      <td>15.6</td>\n",
              "      <td>58</td>\n",
              "      <td>8</td>\n",
              "      <td>75</td>\n",
              "      <td>5</td>\n",
              "      <td>2.50</td>\n",
              "      <td>3</td>\n",
              "      <td>0</td>\n",
              "      <td>0</td>\n",
              "      <td>2.5</td>\n",
              "      <td>256.0</td>\n",
              "      <td>3</td>\n",
              "      <td>0.0</td>\n",
              "      <td>3</td>\n",
              "      <td>6.720220</td>\n",
              "    </tr>\n",
              "    <tr>\n",
              "      <th>2</th>\n",
              "      <td>4</td>\n",
              "      <td>576</td>\n",
              "      <td>4</td>\n",
              "      <td>13.3</td>\n",
              "      <td>81</td>\n",
              "      <td>8</td>\n",
              "      <td>61</td>\n",
              "      <td>5</td>\n",
              "      <td>1.20</td>\n",
              "      <td>3</td>\n",
              "      <td>2</td>\n",
              "      <td>0</td>\n",
              "      <td>1.8</td>\n",
              "      <td>256.0</td>\n",
              "      <td>3</td>\n",
              "      <td>0.0</td>\n",
              "      <td>3</td>\n",
              "      <td>7.364547</td>\n",
              "    </tr>\n",
              "    <tr>\n",
              "      <th>3</th>\n",
              "      <td>2</td>\n",
              "      <td>602</td>\n",
              "      <td>4</td>\n",
              "      <td>13.3</td>\n",
              "      <td>38</td>\n",
              "      <td>8</td>\n",
              "      <td>46</td>\n",
              "      <td>5</td>\n",
              "      <td>1.20</td>\n",
              "      <td>3</td>\n",
              "      <td>0</td>\n",
              "      <td>0</td>\n",
              "      <td>0.9</td>\n",
              "      <td>512.0</td>\n",
              "      <td>3</td>\n",
              "      <td>0.0</td>\n",
              "      <td>3</td>\n",
              "      <td>6.591674</td>\n",
              "    </tr>\n",
              "    <tr>\n",
              "      <th>4</th>\n",
              "      <td>4</td>\n",
              "      <td>239</td>\n",
              "      <td>3</td>\n",
              "      <td>15.6</td>\n",
              "      <td>47</td>\n",
              "      <td>4</td>\n",
              "      <td>24</td>\n",
              "      <td>2</td>\n",
              "      <td>2.25</td>\n",
              "      <td>0</td>\n",
              "      <td>2</td>\n",
              "      <td>0</td>\n",
              "      <td>2.0</td>\n",
              "      <td>1000.0</td>\n",
              "      <td>1</td>\n",
              "      <td>0.0</td>\n",
              "      <td>3</td>\n",
              "      <td>6.143370</td>\n",
              "    </tr>\n",
              "  </tbody>\n",
              "</table>\n",
              "</div>\n",
              "      <button class=\"colab-df-convert\" onclick=\"convertToInteractive('df-c2ff24e4-4065-4a70-9634-adcf390d13f6')\"\n",
              "              title=\"Convert this dataframe to an interactive table.\"\n",
              "              style=\"display:none;\">\n",
              "        \n",
              "  <svg xmlns=\"http://www.w3.org/2000/svg\" height=\"24px\"viewBox=\"0 0 24 24\"\n",
              "       width=\"24px\">\n",
              "    <path d=\"M0 0h24v24H0V0z\" fill=\"none\"/>\n",
              "    <path d=\"M18.56 5.44l.94 2.06.94-2.06 2.06-.94-2.06-.94-.94-2.06-.94 2.06-2.06.94zm-11 1L8.5 8.5l.94-2.06 2.06-.94-2.06-.94L8.5 2.5l-.94 2.06-2.06.94zm10 10l.94 2.06.94-2.06 2.06-.94-2.06-.94-.94-2.06-.94 2.06-2.06.94z\"/><path d=\"M17.41 7.96l-1.37-1.37c-.4-.4-.92-.59-1.43-.59-.52 0-1.04.2-1.43.59L10.3 9.45l-7.72 7.72c-.78.78-.78 2.05 0 2.83L4 21.41c.39.39.9.59 1.41.59.51 0 1.02-.2 1.41-.59l7.78-7.78 2.81-2.81c.8-.78.8-2.07 0-2.86zM5.41 20L4 18.59l7.72-7.72 1.47 1.35L5.41 20z\"/>\n",
              "  </svg>\n",
              "      </button>\n",
              "      \n",
              "  <style>\n",
              "    .colab-df-container {\n",
              "      display:flex;\n",
              "      flex-wrap:wrap;\n",
              "      gap: 12px;\n",
              "    }\n",
              "\n",
              "    .colab-df-convert {\n",
              "      background-color: #E8F0FE;\n",
              "      border: none;\n",
              "      border-radius: 50%;\n",
              "      cursor: pointer;\n",
              "      display: none;\n",
              "      fill: #1967D2;\n",
              "      height: 32px;\n",
              "      padding: 0 0 0 0;\n",
              "      width: 32px;\n",
              "    }\n",
              "\n",
              "    .colab-df-convert:hover {\n",
              "      background-color: #E2EBFA;\n",
              "      box-shadow: 0px 1px 2px rgba(60, 64, 67, 0.3), 0px 1px 3px 1px rgba(60, 64, 67, 0.15);\n",
              "      fill: #174EA6;\n",
              "    }\n",
              "\n",
              "    [theme=dark] .colab-df-convert {\n",
              "      background-color: #3B4455;\n",
              "      fill: #D2E3FC;\n",
              "    }\n",
              "\n",
              "    [theme=dark] .colab-df-convert:hover {\n",
              "      background-color: #434B5C;\n",
              "      box-shadow: 0px 1px 3px 1px rgba(0, 0, 0, 0.15);\n",
              "      filter: drop-shadow(0px 1px 2px rgba(0, 0, 0, 0.3));\n",
              "      fill: #FFFFFF;\n",
              "    }\n",
              "  </style>\n",
              "\n",
              "      <script>\n",
              "        const buttonEl =\n",
              "          document.querySelector('#df-c2ff24e4-4065-4a70-9634-adcf390d13f6 button.colab-df-convert');\n",
              "        buttonEl.style.display =\n",
              "          google.colab.kernel.accessAllowed ? 'block' : 'none';\n",
              "\n",
              "        async function convertToInteractive(key) {\n",
              "          const element = document.querySelector('#df-c2ff24e4-4065-4a70-9634-adcf390d13f6');\n",
              "          const dataTable =\n",
              "            await google.colab.kernel.invokeFunction('convertToInteractive',\n",
              "                                                     [key], {});\n",
              "          if (!dataTable) return;\n",
              "\n",
              "          const docLinkHtml = 'Like what you see? Visit the ' +\n",
              "            '<a target=\"_blank\" href=https://colab.research.google.com/notebooks/data_table.ipynb>data table notebook</a>'\n",
              "            + ' to learn more about interactive tables.';\n",
              "          element.innerHTML = '';\n",
              "          dataTable['output_type'] = 'display_data';\n",
              "          await google.colab.output.renderOutput(dataTable, element);\n",
              "          const docLink = document.createElement('div');\n",
              "          docLink.innerHTML = docLinkHtml;\n",
              "          element.appendChild(docLink);\n",
              "        }\n",
              "      </script>\n",
              "    </div>\n",
              "  </div>\n",
              "  "
            ]
          },
          "metadata": {},
          "execution_count": 36
        }
      ]
    },
    {
      "cell_type": "code",
      "source": [
        "df.columns"
      ],
      "metadata": {
        "colab": {
          "base_uri": "https://localhost:8080/"
        },
        "id": "JyT9LOyTnyqw",
        "outputId": "dc6a3cd7-1296-4c20-d9b8-767387669b70"
      },
      "id": "JyT9LOyTnyqw",
      "execution_count": 37,
      "outputs": [
        {
          "output_type": "execute_result",
          "data": {
            "text/plain": [
              "Index(['company', 'product', 'typename', 'inches', 'cpu', 'ram(GB)', 'gpu',\n",
              "       'opsys', 'weight(kg)', 'resolution', 'screentype', 'touchscreen',\n",
              "       'cpu(GHz)', 'memory_1_storage_gb', 'memory_1_type',\n",
              "       'memory_2_storage_gb', 'memory_2_type', 'log_price'],\n",
              "      dtype='object')"
            ]
          },
          "metadata": {},
          "execution_count": 37
        }
      ]
    },
    {
      "cell_type": "code",
      "source": [
        "df.info()"
      ],
      "metadata": {
        "colab": {
          "base_uri": "https://localhost:8080/"
        },
        "id": "4xhUWGSuwNAl",
        "outputId": "b42f928a-e933-4517-960f-fdc8338e2ea5"
      },
      "id": "4xhUWGSuwNAl",
      "execution_count": 38,
      "outputs": [
        {
          "output_type": "stream",
          "name": "stdout",
          "text": [
            "<class 'pandas.core.frame.DataFrame'>\n",
            "RangeIndex: 1132 entries, 0 to 1131\n",
            "Data columns (total 18 columns):\n",
            " #   Column               Non-Null Count  Dtype  \n",
            "---  ------               --------------  -----  \n",
            " 0   company              1132 non-null   int64  \n",
            " 1   product              1132 non-null   int64  \n",
            " 2   typename             1132 non-null   int64  \n",
            " 3   inches               1132 non-null   float64\n",
            " 4   cpu                  1132 non-null   int64  \n",
            " 5   ram(GB)              1132 non-null   int64  \n",
            " 6   gpu                  1132 non-null   int64  \n",
            " 7   opsys                1132 non-null   int64  \n",
            " 8   weight(kg)           1132 non-null   float64\n",
            " 9   resolution           1132 non-null   int64  \n",
            " 10  screentype           1132 non-null   int64  \n",
            " 11  touchscreen          1132 non-null   int64  \n",
            " 12  cpu(GHz)             1132 non-null   float64\n",
            " 13  memory_1_storage_gb  1132 non-null   float64\n",
            " 14  memory_1_type        1132 non-null   int64  \n",
            " 15  memory_2_storage_gb  1132 non-null   float64\n",
            " 16  memory_2_type        1132 non-null   int64  \n",
            " 17  log_price            1132 non-null   float64\n",
            "dtypes: float64(6), int64(12)\n",
            "memory usage: 159.3 KB\n"
          ]
        }
      ]
    },
    {
      "cell_type": "code",
      "source": [
        "target = \"log_price\"\n",
        "numericFeatures = [\"inches\", \"ram(GB)\", \"weight(kg)\", \"cpu(GHz)\", \"memory_1_storage_gb\", \"memory_2_storage_gb\"]\n",
        "catFeatures = [\"company\", \"product\", \"typename\", \"cpu\", \"gpu\", \"opsys\", \"resolution\", \"screentype\", \"touchscreen\", \"memory_1_type\", \"memory_2_type\"]"
      ],
      "metadata": {
        "id": "vLmN6jgKpWt9"
      },
      "id": "vLmN6jgKpWt9",
      "execution_count": 39,
      "outputs": []
    },
    {
      "cell_type": "code",
      "source": [
        "df"
      ],
      "metadata": {
        "colab": {
          "base_uri": "https://localhost:8080/",
          "height": 424
        },
        "id": "hma5OA1athXo",
        "outputId": "4b7ed336-8e7c-4fa1-8640-80959f90c667"
      },
      "id": "hma5OA1athXo",
      "execution_count": 40,
      "outputs": [
        {
          "output_type": "execute_result",
          "data": {
            "text/plain": [
              "      company  product  typename  inches  cpu  ram(GB)  gpu  opsys  \\\n",
              "0           4      239         3    15.6   49        6   53      5   \n",
              "1          10      291         1    15.6   58        8   75      5   \n",
              "2           4      576         4    13.3   81        8   61      5   \n",
              "3           2      602         4    13.3   38        8   46      5   \n",
              "4           4      239         3    15.6   47        4   24      2   \n",
              "...       ...      ...       ...     ...  ...      ...  ...    ...   \n",
              "1127        7      111         3    14.0   52        4   47      5   \n",
              "1128        0       77         3    15.6   57        8   86      5   \n",
              "1129        7       27         3    15.6   73        8   53      5   \n",
              "1130        7      324         3    15.6   10        6   29      5   \n",
              "1131       10      456         3    15.6   57        8   53      5   \n",
              "\n",
              "      weight(kg)  resolution  screentype  touchscreen  cpu(GHz)  \\\n",
              "0           2.30           0           2            0       2.4   \n",
              "1           2.50           3           0            0       2.5   \n",
              "2           1.20           3           2            0       1.8   \n",
              "3           1.20           3           0            0       0.9   \n",
              "4           2.25           0           2            0       2.0   \n",
              "...          ...         ...         ...          ...       ...   \n",
              "1127        1.54           3           2            0       2.3   \n",
              "1128        2.40           3           2            0       2.5   \n",
              "1129        2.04           0           2            0       2.7   \n",
              "1130        2.04           3           2            0       2.9   \n",
              "1131        2.30           3           0            0       2.5   \n",
              "\n",
              "      memory_1_storage_gb  memory_1_type  memory_2_storage_gb  memory_2_type  \\\n",
              "0                  1000.0              1                  0.0              3   \n",
              "1                   256.0              3                  0.0              3   \n",
              "2                   256.0              3                  0.0              3   \n",
              "3                   512.0              3                  0.0              3   \n",
              "4                  1000.0              1                  0.0              3   \n",
              "...                   ...            ...                  ...            ...   \n",
              "1127                500.0              1                  0.0              3   \n",
              "1128                256.0              3               1000.0              0   \n",
              "1129               2000.0              1                  0.0              3   \n",
              "1130               1000.0              2                  0.0              3   \n",
              "1131               1000.0              1                  0.0              3   \n",
              "\n",
              "      log_price  \n",
              "0      6.129050  \n",
              "1      6.720220  \n",
              "2      7.364547  \n",
              "3      6.591674  \n",
              "4      6.143370  \n",
              "...         ...  \n",
              "1127   6.907755  \n",
              "1128   6.683361  \n",
              "1129   6.444131  \n",
              "1130   6.309900  \n",
              "1131   6.746013  \n",
              "\n",
              "[1132 rows x 18 columns]"
            ],
            "text/html": [
              "\n",
              "  <div id=\"df-3d11e4e3-2a24-4d29-96d8-ef563f9d137f\">\n",
              "    <div class=\"colab-df-container\">\n",
              "      <div>\n",
              "<style scoped>\n",
              "    .dataframe tbody tr th:only-of-type {\n",
              "        vertical-align: middle;\n",
              "    }\n",
              "\n",
              "    .dataframe tbody tr th {\n",
              "        vertical-align: top;\n",
              "    }\n",
              "\n",
              "    .dataframe thead th {\n",
              "        text-align: right;\n",
              "    }\n",
              "</style>\n",
              "<table border=\"1\" class=\"dataframe\">\n",
              "  <thead>\n",
              "    <tr style=\"text-align: right;\">\n",
              "      <th></th>\n",
              "      <th>company</th>\n",
              "      <th>product</th>\n",
              "      <th>typename</th>\n",
              "      <th>inches</th>\n",
              "      <th>cpu</th>\n",
              "      <th>ram(GB)</th>\n",
              "      <th>gpu</th>\n",
              "      <th>opsys</th>\n",
              "      <th>weight(kg)</th>\n",
              "      <th>resolution</th>\n",
              "      <th>screentype</th>\n",
              "      <th>touchscreen</th>\n",
              "      <th>cpu(GHz)</th>\n",
              "      <th>memory_1_storage_gb</th>\n",
              "      <th>memory_1_type</th>\n",
              "      <th>memory_2_storage_gb</th>\n",
              "      <th>memory_2_type</th>\n",
              "      <th>log_price</th>\n",
              "    </tr>\n",
              "  </thead>\n",
              "  <tbody>\n",
              "    <tr>\n",
              "      <th>0</th>\n",
              "      <td>4</td>\n",
              "      <td>239</td>\n",
              "      <td>3</td>\n",
              "      <td>15.6</td>\n",
              "      <td>49</td>\n",
              "      <td>6</td>\n",
              "      <td>53</td>\n",
              "      <td>5</td>\n",
              "      <td>2.30</td>\n",
              "      <td>0</td>\n",
              "      <td>2</td>\n",
              "      <td>0</td>\n",
              "      <td>2.4</td>\n",
              "      <td>1000.0</td>\n",
              "      <td>1</td>\n",
              "      <td>0.0</td>\n",
              "      <td>3</td>\n",
              "      <td>6.129050</td>\n",
              "    </tr>\n",
              "    <tr>\n",
              "      <th>1</th>\n",
              "      <td>10</td>\n",
              "      <td>291</td>\n",
              "      <td>1</td>\n",
              "      <td>15.6</td>\n",
              "      <td>58</td>\n",
              "      <td>8</td>\n",
              "      <td>75</td>\n",
              "      <td>5</td>\n",
              "      <td>2.50</td>\n",
              "      <td>3</td>\n",
              "      <td>0</td>\n",
              "      <td>0</td>\n",
              "      <td>2.5</td>\n",
              "      <td>256.0</td>\n",
              "      <td>3</td>\n",
              "      <td>0.0</td>\n",
              "      <td>3</td>\n",
              "      <td>6.720220</td>\n",
              "    </tr>\n",
              "    <tr>\n",
              "      <th>2</th>\n",
              "      <td>4</td>\n",
              "      <td>576</td>\n",
              "      <td>4</td>\n",
              "      <td>13.3</td>\n",
              "      <td>81</td>\n",
              "      <td>8</td>\n",
              "      <td>61</td>\n",
              "      <td>5</td>\n",
              "      <td>1.20</td>\n",
              "      <td>3</td>\n",
              "      <td>2</td>\n",
              "      <td>0</td>\n",
              "      <td>1.8</td>\n",
              "      <td>256.0</td>\n",
              "      <td>3</td>\n",
              "      <td>0.0</td>\n",
              "      <td>3</td>\n",
              "      <td>7.364547</td>\n",
              "    </tr>\n",
              "    <tr>\n",
              "      <th>3</th>\n",
              "      <td>2</td>\n",
              "      <td>602</td>\n",
              "      <td>4</td>\n",
              "      <td>13.3</td>\n",
              "      <td>38</td>\n",
              "      <td>8</td>\n",
              "      <td>46</td>\n",
              "      <td>5</td>\n",
              "      <td>1.20</td>\n",
              "      <td>3</td>\n",
              "      <td>0</td>\n",
              "      <td>0</td>\n",
              "      <td>0.9</td>\n",
              "      <td>512.0</td>\n",
              "      <td>3</td>\n",
              "      <td>0.0</td>\n",
              "      <td>3</td>\n",
              "      <td>6.591674</td>\n",
              "    </tr>\n",
              "    <tr>\n",
              "      <th>4</th>\n",
              "      <td>4</td>\n",
              "      <td>239</td>\n",
              "      <td>3</td>\n",
              "      <td>15.6</td>\n",
              "      <td>47</td>\n",
              "      <td>4</td>\n",
              "      <td>24</td>\n",
              "      <td>2</td>\n",
              "      <td>2.25</td>\n",
              "      <td>0</td>\n",
              "      <td>2</td>\n",
              "      <td>0</td>\n",
              "      <td>2.0</td>\n",
              "      <td>1000.0</td>\n",
              "      <td>1</td>\n",
              "      <td>0.0</td>\n",
              "      <td>3</td>\n",
              "      <td>6.143370</td>\n",
              "    </tr>\n",
              "    <tr>\n",
              "      <th>...</th>\n",
              "      <td>...</td>\n",
              "      <td>...</td>\n",
              "      <td>...</td>\n",
              "      <td>...</td>\n",
              "      <td>...</td>\n",
              "      <td>...</td>\n",
              "      <td>...</td>\n",
              "      <td>...</td>\n",
              "      <td>...</td>\n",
              "      <td>...</td>\n",
              "      <td>...</td>\n",
              "      <td>...</td>\n",
              "      <td>...</td>\n",
              "      <td>...</td>\n",
              "      <td>...</td>\n",
              "      <td>...</td>\n",
              "      <td>...</td>\n",
              "      <td>...</td>\n",
              "    </tr>\n",
              "    <tr>\n",
              "      <th>1127</th>\n",
              "      <td>7</td>\n",
              "      <td>111</td>\n",
              "      <td>3</td>\n",
              "      <td>14.0</td>\n",
              "      <td>52</td>\n",
              "      <td>4</td>\n",
              "      <td>47</td>\n",
              "      <td>5</td>\n",
              "      <td>1.54</td>\n",
              "      <td>3</td>\n",
              "      <td>2</td>\n",
              "      <td>0</td>\n",
              "      <td>2.3</td>\n",
              "      <td>500.0</td>\n",
              "      <td>1</td>\n",
              "      <td>0.0</td>\n",
              "      <td>3</td>\n",
              "      <td>6.907755</td>\n",
              "    </tr>\n",
              "    <tr>\n",
              "      <th>1128</th>\n",
              "      <td>0</td>\n",
              "      <td>77</td>\n",
              "      <td>3</td>\n",
              "      <td>15.6</td>\n",
              "      <td>57</td>\n",
              "      <td>8</td>\n",
              "      <td>86</td>\n",
              "      <td>5</td>\n",
              "      <td>2.40</td>\n",
              "      <td>3</td>\n",
              "      <td>2</td>\n",
              "      <td>0</td>\n",
              "      <td>2.5</td>\n",
              "      <td>256.0</td>\n",
              "      <td>3</td>\n",
              "      <td>1000.0</td>\n",
              "      <td>0</td>\n",
              "      <td>6.683361</td>\n",
              "    </tr>\n",
              "    <tr>\n",
              "      <th>1129</th>\n",
              "      <td>7</td>\n",
              "      <td>27</td>\n",
              "      <td>3</td>\n",
              "      <td>15.6</td>\n",
              "      <td>73</td>\n",
              "      <td>8</td>\n",
              "      <td>53</td>\n",
              "      <td>5</td>\n",
              "      <td>2.04</td>\n",
              "      <td>0</td>\n",
              "      <td>2</td>\n",
              "      <td>0</td>\n",
              "      <td>2.7</td>\n",
              "      <td>2000.0</td>\n",
              "      <td>1</td>\n",
              "      <td>0.0</td>\n",
              "      <td>3</td>\n",
              "      <td>6.444131</td>\n",
              "    </tr>\n",
              "    <tr>\n",
              "      <th>1130</th>\n",
              "      <td>7</td>\n",
              "      <td>324</td>\n",
              "      <td>3</td>\n",
              "      <td>15.6</td>\n",
              "      <td>10</td>\n",
              "      <td>6</td>\n",
              "      <td>29</td>\n",
              "      <td>5</td>\n",
              "      <td>2.04</td>\n",
              "      <td>3</td>\n",
              "      <td>2</td>\n",
              "      <td>0</td>\n",
              "      <td>2.9</td>\n",
              "      <td>1000.0</td>\n",
              "      <td>2</td>\n",
              "      <td>0.0</td>\n",
              "      <td>3</td>\n",
              "      <td>6.309900</td>\n",
              "    </tr>\n",
              "    <tr>\n",
              "      <th>1131</th>\n",
              "      <td>10</td>\n",
              "      <td>456</td>\n",
              "      <td>3</td>\n",
              "      <td>15.6</td>\n",
              "      <td>57</td>\n",
              "      <td>8</td>\n",
              "      <td>53</td>\n",
              "      <td>5</td>\n",
              "      <td>2.30</td>\n",
              "      <td>3</td>\n",
              "      <td>0</td>\n",
              "      <td>0</td>\n",
              "      <td>2.5</td>\n",
              "      <td>1000.0</td>\n",
              "      <td>1</td>\n",
              "      <td>0.0</td>\n",
              "      <td>3</td>\n",
              "      <td>6.746013</td>\n",
              "    </tr>\n",
              "  </tbody>\n",
              "</table>\n",
              "<p>1132 rows × 18 columns</p>\n",
              "</div>\n",
              "      <button class=\"colab-df-convert\" onclick=\"convertToInteractive('df-3d11e4e3-2a24-4d29-96d8-ef563f9d137f')\"\n",
              "              title=\"Convert this dataframe to an interactive table.\"\n",
              "              style=\"display:none;\">\n",
              "        \n",
              "  <svg xmlns=\"http://www.w3.org/2000/svg\" height=\"24px\"viewBox=\"0 0 24 24\"\n",
              "       width=\"24px\">\n",
              "    <path d=\"M0 0h24v24H0V0z\" fill=\"none\"/>\n",
              "    <path d=\"M18.56 5.44l.94 2.06.94-2.06 2.06-.94-2.06-.94-.94-2.06-.94 2.06-2.06.94zm-11 1L8.5 8.5l.94-2.06 2.06-.94-2.06-.94L8.5 2.5l-.94 2.06-2.06.94zm10 10l.94 2.06.94-2.06 2.06-.94-2.06-.94-.94-2.06-.94 2.06-2.06.94z\"/><path d=\"M17.41 7.96l-1.37-1.37c-.4-.4-.92-.59-1.43-.59-.52 0-1.04.2-1.43.59L10.3 9.45l-7.72 7.72c-.78.78-.78 2.05 0 2.83L4 21.41c.39.39.9.59 1.41.59.51 0 1.02-.2 1.41-.59l7.78-7.78 2.81-2.81c.8-.78.8-2.07 0-2.86zM5.41 20L4 18.59l7.72-7.72 1.47 1.35L5.41 20z\"/>\n",
              "  </svg>\n",
              "      </button>\n",
              "      \n",
              "  <style>\n",
              "    .colab-df-container {\n",
              "      display:flex;\n",
              "      flex-wrap:wrap;\n",
              "      gap: 12px;\n",
              "    }\n",
              "\n",
              "    .colab-df-convert {\n",
              "      background-color: #E8F0FE;\n",
              "      border: none;\n",
              "      border-radius: 50%;\n",
              "      cursor: pointer;\n",
              "      display: none;\n",
              "      fill: #1967D2;\n",
              "      height: 32px;\n",
              "      padding: 0 0 0 0;\n",
              "      width: 32px;\n",
              "    }\n",
              "\n",
              "    .colab-df-convert:hover {\n",
              "      background-color: #E2EBFA;\n",
              "      box-shadow: 0px 1px 2px rgba(60, 64, 67, 0.3), 0px 1px 3px 1px rgba(60, 64, 67, 0.15);\n",
              "      fill: #174EA6;\n",
              "    }\n",
              "\n",
              "    [theme=dark] .colab-df-convert {\n",
              "      background-color: #3B4455;\n",
              "      fill: #D2E3FC;\n",
              "    }\n",
              "\n",
              "    [theme=dark] .colab-df-convert:hover {\n",
              "      background-color: #434B5C;\n",
              "      box-shadow: 0px 1px 3px 1px rgba(0, 0, 0, 0.15);\n",
              "      filter: drop-shadow(0px 1px 2px rgba(0, 0, 0, 0.3));\n",
              "      fill: #FFFFFF;\n",
              "    }\n",
              "  </style>\n",
              "\n",
              "      <script>\n",
              "        const buttonEl =\n",
              "          document.querySelector('#df-3d11e4e3-2a24-4d29-96d8-ef563f9d137f button.colab-df-convert');\n",
              "        buttonEl.style.display =\n",
              "          google.colab.kernel.accessAllowed ? 'block' : 'none';\n",
              "\n",
              "        async function convertToInteractive(key) {\n",
              "          const element = document.querySelector('#df-3d11e4e3-2a24-4d29-96d8-ef563f9d137f');\n",
              "          const dataTable =\n",
              "            await google.colab.kernel.invokeFunction('convertToInteractive',\n",
              "                                                     [key], {});\n",
              "          if (!dataTable) return;\n",
              "\n",
              "          const docLinkHtml = 'Like what you see? Visit the ' +\n",
              "            '<a target=\"_blank\" href=https://colab.research.google.com/notebooks/data_table.ipynb>data table notebook</a>'\n",
              "            + ' to learn more about interactive tables.';\n",
              "          element.innerHTML = '';\n",
              "          dataTable['output_type'] = 'display_data';\n",
              "          await google.colab.output.renderOutput(dataTable, element);\n",
              "          const docLink = document.createElement('div');\n",
              "          docLink.innerHTML = docLinkHtml;\n",
              "          element.appendChild(docLink);\n",
              "        }\n",
              "      </script>\n",
              "    </div>\n",
              "  </div>\n",
              "  "
            ]
          },
          "metadata": {},
          "execution_count": 40
        }
      ]
    },
    {
      "cell_type": "code",
      "source": [
        "X=df.drop('log_price', axis = 1).values\n",
        "y=df['log_price'].values"
      ],
      "metadata": {
        "id": "jAR24ZhZtlCh"
      },
      "id": "jAR24ZhZtlCh",
      "execution_count": 41,
      "outputs": []
    },
    {
      "cell_type": "code",
      "source": [
        "X_train, X_test, y_train, y_test = train_test_split(X, y, test_size = 0.3, random_state = 2023)\n",
        "rf = RandomForestRegressor()\n",
        "rf.fit(X_train,y_train)\n",
        "y_pred_rf = rf.predict(X_test)"
      ],
      "metadata": {
        "id": "pL31a2ExuAj0"
      },
      "id": "pL31a2ExuAj0",
      "execution_count": 43,
      "outputs": []
    },
    {
      "cell_type": "code",
      "source": [
        "print(\"R2: {:.2f} %\".format(np.round(r2_score(y_test, y_pred_rf),4)*100))\n"
      ],
      "metadata": {
        "colab": {
          "base_uri": "https://localhost:8080/"
        },
        "id": "_WMeStdSuK-K",
        "outputId": "500fed33-bdec-4f50-b7e4-34272857e860"
      },
      "id": "_WMeStdSuK-K",
      "execution_count": 44,
      "outputs": [
        {
          "output_type": "stream",
          "name": "stdout",
          "text": [
            "R2: 90.02 %\n"
          ]
        }
      ]
    },
    {
      "cell_type": "markdown",
      "source": [
        "Result with default hyperparameters and without CV"
      ],
      "metadata": {
        "id": "BndfNL2Zieu1"
      },
      "id": "BndfNL2Zieu1"
    },
    {
      "cell_type": "markdown",
      "source": [
        "## Hyperparameter tuning"
      ],
      "metadata": {
        "id": "YA0o_NLo2RpX"
      },
      "id": "YA0o_NLo2RpX"
    },
    {
      "cell_type": "code",
      "source": [
        "features = df.columns.tolist()\n",
        "features.remove(target)"
      ],
      "metadata": {
        "id": "GW2xk5BiKVEI"
      },
      "id": "GW2xk5BiKVEI",
      "execution_count": 45,
      "outputs": []
    },
    {
      "cell_type": "code",
      "source": [
        "from sklearn.model_selection import KFold\n",
        "from sklearn import metrics\n",
        "from sklearn.ensemble import RandomForestRegressor\n",
        "from sklearn.metrics import roc_auc_score\n",
        "\n",
        "\n",
        "def CVTestRFClass(nFolds = 5, randomState=2023, debug=False, features=features, *args, **kwargs):\n",
        "    kf = KFold(n_splits=nFolds, shuffle=True, random_state=randomState)\n",
        "\n",
        "    # empty lists to save thge results\n",
        "    testResults = []\n",
        "    trainResults = []\n",
        "    predictions = []\n",
        "    indices = []\n",
        "\n",
        "    # Loop validating the model for each fold\n",
        "    for train, test in kf.split(df.index.values):\n",
        "\n",
        "        # Estimator\n",
        "        clf = RandomForestRegressor(*args, **kwargs, random_state=randomState, n_jobs=-1)\n",
        "\n",
        "        if debug:\n",
        "            print(clf)\n",
        "        # Training the model\n",
        "        clf.fit(df.iloc[train][features], df.iloc[train][target])\n",
        "\n",
        "        predsTrain = clf.predict(df.iloc[train][features])\n",
        "        preds = clf.predict(df.iloc[test][features])\n",
        "        \n",
        "        # Save predictions for this fold\n",
        "        predictions.append(preds.tolist().copy())\n",
        "        \n",
        "        # with indexes\n",
        "        indices.append(df.iloc[test].index.tolist().copy())\n",
        "        \n",
        "        # R2 measure\n",
        "        trainScore = np.round(r2_score(df[target].iloc[train], predsTrain),4)*100\n",
        "        testScore = np.round(r2_score(df[target].iloc[test], preds),4)*100\n",
        "        \n",
        "        # Save the results to the list\n",
        "        trainResults.append(trainScore)\n",
        "        testResults.append(testScore)\n",
        "\n",
        "        if debug:\n",
        "            print(\"Train R2: {:.2f} %\".format(trainScore),\n",
        "                  \"Test R2: {:.2f} %\".format(testScore))\n",
        "        \n",
        "    return trainResults, testResults, predictions, indices\n"
      ],
      "metadata": {
        "id": "isrp21LPKOzQ"
      },
      "id": "isrp21LPKOzQ",
      "execution_count": 46,
      "outputs": []
    },
    {
      "cell_type": "code",
      "source": [
        "trainResults, testResults, predictions, indices = CVTestRFClass(debug=True)\n",
        "print(\"R2: {:.2f} %\".format(np.mean(testResults)))"
      ],
      "metadata": {
        "colab": {
          "base_uri": "https://localhost:8080/"
        },
        "id": "FGwfg_NmKQsb",
        "outputId": "80f351bc-311c-4c3c-a043-7784620f81f8"
      },
      "id": "FGwfg_NmKQsb",
      "execution_count": 47,
      "outputs": [
        {
          "output_type": "stream",
          "name": "stdout",
          "text": [
            "RandomForestRegressor(n_jobs=-1, random_state=2023)\n",
            "Train R2: 98.67 % Test R2: 91.77 %\n",
            "RandomForestRegressor(n_jobs=-1, random_state=2023)\n",
            "Train R2: 98.77 % Test R2: 89.17 %\n",
            "RandomForestRegressor(n_jobs=-1, random_state=2023)\n",
            "Train R2: 98.62 % Test R2: 92.61 %\n",
            "RandomForestRegressor(n_jobs=-1, random_state=2023)\n",
            "Train R2: 98.72 % Test R2: 90.56 %\n",
            "RandomForestRegressor(n_jobs=-1, random_state=2023)\n",
            "Train R2: 98.69 % Test R2: 90.33 %\n",
            "R2: 90.89 %\n"
          ]
        }
      ]
    },
    {
      "cell_type": "markdown",
      "source": [
        "### Random search"
      ],
      "metadata": {
        "id": "q_EohF2SKcKh"
      },
      "id": "q_EohF2SKcKh"
    },
    {
      "cell_type": "code",
      "source": [
        "import matplotlib.pyplot as plt\n",
        "plt.style.use('seaborn-ticks')\n",
        "%matplotlib inline"
      ],
      "metadata": {
        "id": "94fM-b9CTjCR"
      },
      "id": "94fM-b9CTjCR",
      "execution_count": 48,
      "outputs": []
    },
    {
      "cell_type": "code",
      "source": [
        "import random\n",
        "\n",
        "results = []\n",
        "\n",
        "for k in range(100):\n",
        "\n",
        "    params = {\n",
        "        \"max_depth\" : random.randint(5, 40),\n",
        "        \"max_features\" : random.randint(2, 17),\n",
        "        \"min_samples_split\" : random.randint(2, 9),\n",
        "    }\n",
        "    params[\"min_samples_leaf\"] = random.randint(1, params[\"min_samples_split\"])\n",
        "    \n",
        "    # Estimate the model for randomized hyperparameters\n",
        "    trainResults, testResults, predictions, indices = CVTestRFClass(n_estimators=100,\n",
        "                                                                    max_depth=params[\"max_depth\"],\n",
        "                                                                    max_features=params[\"max_features\"],\n",
        "                                                                    min_samples_split=params[\"min_samples_split\"],\n",
        "                                                                    min_samples_leaf=params[\"min_samples_leaf\"])\n",
        "    \n",
        "    # Save the result\n",
        "    results.append((np.mean(testResults), params.copy()))\n",
        "    \n",
        "    # Current iteration result\n",
        "    print(params, np.mean(testResults))\n",
        "    \n",
        "    # Top 5 results each 10 iterations\n",
        "    if k>1 and k%10==0:    \n",
        "        print(\"\\n Top 5:\")\n",
        "        for score, params in sorted(results, key=lambda x: x[0], reverse=True)[0:5]:\n",
        "            print(params, score)\n",
        "        print()"
      ],
      "metadata": {
        "colab": {
          "base_uri": "https://localhost:8080/"
        },
        "id": "O7vXzyYoTF0W",
        "outputId": "9db4da3f-3132-46e4-c5e0-0902d0156939"
      },
      "id": "O7vXzyYoTF0W",
      "execution_count": 49,
      "outputs": [
        {
          "output_type": "stream",
          "name": "stdout",
          "text": [
            "{'max_depth': 36, 'max_features': 6, 'min_samples_split': 9, 'min_samples_leaf': 7} 88.03\n",
            "{'max_depth': 28, 'max_features': 12, 'min_samples_split': 8, 'min_samples_leaf': 5} 89.66600000000001\n",
            "{'max_depth': 15, 'max_features': 4, 'min_samples_split': 9, 'min_samples_leaf': 6} 88.15599999999999\n",
            "{'max_depth': 26, 'max_features': 5, 'min_samples_split': 9, 'min_samples_leaf': 4} 89.60399999999998\n",
            "{'max_depth': 9, 'max_features': 3, 'min_samples_split': 2, 'min_samples_leaf': 1} 90.20599999999999\n",
            "{'max_depth': 29, 'max_features': 5, 'min_samples_split': 8, 'min_samples_leaf': 8} 87.34\n",
            "{'max_depth': 13, 'max_features': 17, 'min_samples_split': 5, 'min_samples_leaf': 1} 90.508\n",
            "{'max_depth': 30, 'max_features': 5, 'min_samples_split': 9, 'min_samples_leaf': 9} 86.784\n",
            "{'max_depth': 11, 'max_features': 8, 'min_samples_split': 5, 'min_samples_leaf': 4} 89.902\n",
            "{'max_depth': 34, 'max_features': 10, 'min_samples_split': 8, 'min_samples_leaf': 7} 88.606\n",
            "{'max_depth': 39, 'max_features': 9, 'min_samples_split': 5, 'min_samples_leaf': 3} 90.792\n",
            "\n",
            " Top 5:\n",
            "{'max_depth': 39, 'max_features': 9, 'min_samples_split': 5, 'min_samples_leaf': 3} 90.792\n",
            "{'max_depth': 13, 'max_features': 17, 'min_samples_split': 5, 'min_samples_leaf': 1} 90.508\n",
            "{'max_depth': 9, 'max_features': 3, 'min_samples_split': 2, 'min_samples_leaf': 1} 90.20599999999999\n",
            "{'max_depth': 11, 'max_features': 8, 'min_samples_split': 5, 'min_samples_leaf': 4} 89.902\n",
            "{'max_depth': 28, 'max_features': 12, 'min_samples_split': 8, 'min_samples_leaf': 5} 89.66600000000001\n",
            "\n",
            "{'max_depth': 15, 'max_features': 14, 'min_samples_split': 8, 'min_samples_leaf': 4} 90.14000000000001\n",
            "{'max_depth': 40, 'max_features': 13, 'min_samples_split': 5, 'min_samples_leaf': 5} 89.66\n",
            "{'max_depth': 17, 'max_features': 5, 'min_samples_split': 2, 'min_samples_leaf': 1} 91.714\n",
            "{'max_depth': 36, 'max_features': 4, 'min_samples_split': 4, 'min_samples_leaf': 4} 89.256\n",
            "{'max_depth': 40, 'max_features': 13, 'min_samples_split': 8, 'min_samples_leaf': 7} 88.602\n",
            "{'max_depth': 27, 'max_features': 9, 'min_samples_split': 5, 'min_samples_leaf': 3} 90.792\n",
            "{'max_depth': 10, 'max_features': 16, 'min_samples_split': 2, 'min_samples_leaf': 2} 90.11600000000001\n",
            "{'max_depth': 16, 'max_features': 11, 'min_samples_split': 5, 'min_samples_leaf': 3} 90.96400000000001\n",
            "{'max_depth': 11, 'max_features': 14, 'min_samples_split': 5, 'min_samples_leaf': 4} 89.99600000000001\n",
            "{'max_depth': 17, 'max_features': 7, 'min_samples_split': 2, 'min_samples_leaf': 2} 91.29800000000002\n",
            "\n",
            " Top 5:\n",
            "{'max_depth': 17, 'max_features': 5, 'min_samples_split': 2, 'min_samples_leaf': 1} 91.714\n",
            "{'max_depth': 17, 'max_features': 7, 'min_samples_split': 2, 'min_samples_leaf': 2} 91.29800000000002\n",
            "{'max_depth': 16, 'max_features': 11, 'min_samples_split': 5, 'min_samples_leaf': 3} 90.96400000000001\n",
            "{'max_depth': 39, 'max_features': 9, 'min_samples_split': 5, 'min_samples_leaf': 3} 90.792\n",
            "{'max_depth': 27, 'max_features': 9, 'min_samples_split': 5, 'min_samples_leaf': 3} 90.792\n",
            "\n",
            "{'max_depth': 6, 'max_features': 8, 'min_samples_split': 9, 'min_samples_leaf': 3} 87.308\n",
            "{'max_depth': 8, 'max_features': 10, 'min_samples_split': 9, 'min_samples_leaf': 7} 87.98400000000001\n",
            "{'max_depth': 9, 'max_features': 17, 'min_samples_split': 3, 'min_samples_leaf': 1} 89.686\n",
            "{'max_depth': 20, 'max_features': 5, 'min_samples_split': 2, 'min_samples_leaf': 2} 91.17200000000001\n",
            "{'max_depth': 38, 'max_features': 15, 'min_samples_split': 7, 'min_samples_leaf': 5} 89.494\n",
            "{'max_depth': 15, 'max_features': 3, 'min_samples_split': 3, 'min_samples_leaf': 1} 91.508\n",
            "{'max_depth': 12, 'max_features': 7, 'min_samples_split': 3, 'min_samples_leaf': 1} 91.576\n",
            "{'max_depth': 26, 'max_features': 11, 'min_samples_split': 4, 'min_samples_leaf': 3} 90.924\n",
            "{'max_depth': 26, 'max_features': 4, 'min_samples_split': 3, 'min_samples_leaf': 2} 91.02199999999999\n",
            "{'max_depth': 34, 'max_features': 17, 'min_samples_split': 9, 'min_samples_leaf': 4} 89.50399999999999\n",
            "\n",
            " Top 5:\n",
            "{'max_depth': 17, 'max_features': 5, 'min_samples_split': 2, 'min_samples_leaf': 1} 91.714\n",
            "{'max_depth': 12, 'max_features': 7, 'min_samples_split': 3, 'min_samples_leaf': 1} 91.576\n",
            "{'max_depth': 15, 'max_features': 3, 'min_samples_split': 3, 'min_samples_leaf': 1} 91.508\n",
            "{'max_depth': 17, 'max_features': 7, 'min_samples_split': 2, 'min_samples_leaf': 2} 91.29800000000002\n",
            "{'max_depth': 20, 'max_features': 5, 'min_samples_split': 2, 'min_samples_leaf': 2} 91.17200000000001\n",
            "\n",
            "{'max_depth': 32, 'max_features': 6, 'min_samples_split': 8, 'min_samples_leaf': 5} 89.338\n",
            "{'max_depth': 6, 'max_features': 10, 'min_samples_split': 9, 'min_samples_leaf': 4} 87.228\n",
            "{'max_depth': 36, 'max_features': 11, 'min_samples_split': 6, 'min_samples_leaf': 2} 91.29400000000001\n",
            "{'max_depth': 18, 'max_features': 2, 'min_samples_split': 6, 'min_samples_leaf': 6} 86.4\n",
            "{'max_depth': 19, 'max_features': 2, 'min_samples_split': 4, 'min_samples_leaf': 1} 91.334\n",
            "{'max_depth': 37, 'max_features': 11, 'min_samples_split': 2, 'min_samples_leaf': 2} 91.28400000000002\n",
            "{'max_depth': 11, 'max_features': 9, 'min_samples_split': 5, 'min_samples_leaf': 1} 91.092\n",
            "{'max_depth': 16, 'max_features': 7, 'min_samples_split': 6, 'min_samples_leaf': 3} 90.696\n",
            "{'max_depth': 22, 'max_features': 15, 'min_samples_split': 3, 'min_samples_leaf': 1} 91.3\n",
            "{'max_depth': 31, 'max_features': 8, 'min_samples_split': 8, 'min_samples_leaf': 2} 90.85400000000001\n",
            "\n",
            " Top 5:\n",
            "{'max_depth': 17, 'max_features': 5, 'min_samples_split': 2, 'min_samples_leaf': 1} 91.714\n",
            "{'max_depth': 12, 'max_features': 7, 'min_samples_split': 3, 'min_samples_leaf': 1} 91.576\n",
            "{'max_depth': 15, 'max_features': 3, 'min_samples_split': 3, 'min_samples_leaf': 1} 91.508\n",
            "{'max_depth': 19, 'max_features': 2, 'min_samples_split': 4, 'min_samples_leaf': 1} 91.334\n",
            "{'max_depth': 22, 'max_features': 15, 'min_samples_split': 3, 'min_samples_leaf': 1} 91.3\n",
            "\n",
            "{'max_depth': 40, 'max_features': 16, 'min_samples_split': 6, 'min_samples_leaf': 6} 88.726\n",
            "{'max_depth': 13, 'max_features': 7, 'min_samples_split': 3, 'min_samples_leaf': 1} 91.65\n",
            "{'max_depth': 32, 'max_features': 10, 'min_samples_split': 8, 'min_samples_leaf': 5} 89.652\n",
            "{'max_depth': 25, 'max_features': 7, 'min_samples_split': 6, 'min_samples_leaf': 4} 89.97999999999999\n",
            "{'max_depth': 15, 'max_features': 6, 'min_samples_split': 8, 'min_samples_leaf': 4} 90.00200000000001\n",
            "{'max_depth': 9, 'max_features': 7, 'min_samples_split': 3, 'min_samples_leaf': 3} 89.88799999999999\n",
            "{'max_depth': 33, 'max_features': 9, 'min_samples_split': 9, 'min_samples_leaf': 1} 91.124\n",
            "{'max_depth': 11, 'max_features': 10, 'min_samples_split': 6, 'min_samples_leaf': 4} 90.16199999999999\n",
            "{'max_depth': 14, 'max_features': 17, 'min_samples_split': 5, 'min_samples_leaf': 1} 90.624\n",
            "{'max_depth': 23, 'max_features': 17, 'min_samples_split': 7, 'min_samples_leaf': 4} 89.584\n",
            "\n",
            " Top 5:\n",
            "{'max_depth': 17, 'max_features': 5, 'min_samples_split': 2, 'min_samples_leaf': 1} 91.714\n",
            "{'max_depth': 13, 'max_features': 7, 'min_samples_split': 3, 'min_samples_leaf': 1} 91.65\n",
            "{'max_depth': 12, 'max_features': 7, 'min_samples_split': 3, 'min_samples_leaf': 1} 91.576\n",
            "{'max_depth': 15, 'max_features': 3, 'min_samples_split': 3, 'min_samples_leaf': 1} 91.508\n",
            "{'max_depth': 19, 'max_features': 2, 'min_samples_split': 4, 'min_samples_leaf': 1} 91.334\n",
            "\n",
            "{'max_depth': 28, 'max_features': 14, 'min_samples_split': 8, 'min_samples_leaf': 3} 90.438\n",
            "{'max_depth': 39, 'max_features': 13, 'min_samples_split': 3, 'min_samples_leaf': 3} 90.78599999999999\n",
            "{'max_depth': 7, 'max_features': 5, 'min_samples_split': 8, 'min_samples_leaf': 4} 87.96799999999999\n",
            "{'max_depth': 30, 'max_features': 12, 'min_samples_split': 8, 'min_samples_leaf': 4} 90.282\n",
            "{'max_depth': 33, 'max_features': 9, 'min_samples_split': 6, 'min_samples_leaf': 1} 91.568\n",
            "{'max_depth': 23, 'max_features': 8, 'min_samples_split': 4, 'min_samples_leaf': 1} 91.63\n",
            "{'max_depth': 27, 'max_features': 16, 'min_samples_split': 6, 'min_samples_leaf': 1} 90.798\n",
            "{'max_depth': 15, 'max_features': 8, 'min_samples_split': 3, 'min_samples_leaf': 3} 90.70400000000002\n",
            "{'max_depth': 25, 'max_features': 11, 'min_samples_split': 9, 'min_samples_leaf': 3} 90.53\n",
            "{'max_depth': 36, 'max_features': 15, 'min_samples_split': 8, 'min_samples_leaf': 3} 90.328\n",
            "\n",
            " Top 5:\n",
            "{'max_depth': 17, 'max_features': 5, 'min_samples_split': 2, 'min_samples_leaf': 1} 91.714\n",
            "{'max_depth': 13, 'max_features': 7, 'min_samples_split': 3, 'min_samples_leaf': 1} 91.65\n",
            "{'max_depth': 23, 'max_features': 8, 'min_samples_split': 4, 'min_samples_leaf': 1} 91.63\n",
            "{'max_depth': 12, 'max_features': 7, 'min_samples_split': 3, 'min_samples_leaf': 1} 91.576\n",
            "{'max_depth': 33, 'max_features': 9, 'min_samples_split': 6, 'min_samples_leaf': 1} 91.568\n",
            "\n",
            "{'max_depth': 22, 'max_features': 8, 'min_samples_split': 3, 'min_samples_leaf': 1} 91.85\n",
            "{'max_depth': 5, 'max_features': 12, 'min_samples_split': 9, 'min_samples_leaf': 6} 84.882\n",
            "{'max_depth': 16, 'max_features': 6, 'min_samples_split': 6, 'min_samples_leaf': 3} 90.47\n",
            "{'max_depth': 20, 'max_features': 7, 'min_samples_split': 4, 'min_samples_leaf': 4} 89.978\n",
            "{'max_depth': 29, 'max_features': 13, 'min_samples_split': 2, 'min_samples_leaf': 2} 91.19000000000001\n",
            "{'max_depth': 10, 'max_features': 16, 'min_samples_split': 9, 'min_samples_leaf': 4} 89.512\n",
            "{'max_depth': 37, 'max_features': 5, 'min_samples_split': 2, 'min_samples_leaf': 1} 91.74000000000001\n",
            "{'max_depth': 25, 'max_features': 2, 'min_samples_split': 6, 'min_samples_leaf': 2} 89.976\n",
            "{'max_depth': 17, 'max_features': 6, 'min_samples_split': 4, 'min_samples_leaf': 4} 89.95200000000001\n",
            "{'max_depth': 24, 'max_features': 14, 'min_samples_split': 5, 'min_samples_leaf': 4} 90.15799999999999\n",
            "\n",
            " Top 5:\n",
            "{'max_depth': 22, 'max_features': 8, 'min_samples_split': 3, 'min_samples_leaf': 1} 91.85\n",
            "{'max_depth': 37, 'max_features': 5, 'min_samples_split': 2, 'min_samples_leaf': 1} 91.74000000000001\n",
            "{'max_depth': 17, 'max_features': 5, 'min_samples_split': 2, 'min_samples_leaf': 1} 91.714\n",
            "{'max_depth': 13, 'max_features': 7, 'min_samples_split': 3, 'min_samples_leaf': 1} 91.65\n",
            "{'max_depth': 23, 'max_features': 8, 'min_samples_split': 4, 'min_samples_leaf': 1} 91.63\n",
            "\n",
            "{'max_depth': 37, 'max_features': 14, 'min_samples_split': 3, 'min_samples_leaf': 1} 91.456\n",
            "{'max_depth': 22, 'max_features': 17, 'min_samples_split': 5, 'min_samples_leaf': 4} 89.584\n",
            "{'max_depth': 11, 'max_features': 14, 'min_samples_split': 7, 'min_samples_leaf': 4} 89.99600000000001\n",
            "{'max_depth': 21, 'max_features': 8, 'min_samples_split': 7, 'min_samples_leaf': 5} 89.422\n",
            "{'max_depth': 33, 'max_features': 4, 'min_samples_split': 3, 'min_samples_leaf': 2} 91.02199999999999\n",
            "{'max_depth': 23, 'max_features': 2, 'min_samples_split': 6, 'min_samples_leaf': 1} 90.97\n",
            "{'max_depth': 6, 'max_features': 8, 'min_samples_split': 2, 'min_samples_leaf': 2} 87.626\n",
            "{'max_depth': 24, 'max_features': 3, 'min_samples_split': 8, 'min_samples_leaf': 5} 88.358\n",
            "{'max_depth': 26, 'max_features': 5, 'min_samples_split': 5, 'min_samples_leaf': 1} 91.53000000000002\n",
            "{'max_depth': 7, 'max_features': 17, 'min_samples_split': 7, 'min_samples_leaf': 5} 87.376\n",
            "\n",
            " Top 5:\n",
            "{'max_depth': 22, 'max_features': 8, 'min_samples_split': 3, 'min_samples_leaf': 1} 91.85\n",
            "{'max_depth': 37, 'max_features': 5, 'min_samples_split': 2, 'min_samples_leaf': 1} 91.74000000000001\n",
            "{'max_depth': 17, 'max_features': 5, 'min_samples_split': 2, 'min_samples_leaf': 1} 91.714\n",
            "{'max_depth': 13, 'max_features': 7, 'min_samples_split': 3, 'min_samples_leaf': 1} 91.65\n",
            "{'max_depth': 23, 'max_features': 8, 'min_samples_split': 4, 'min_samples_leaf': 1} 91.63\n",
            "\n",
            "{'max_depth': 24, 'max_features': 8, 'min_samples_split': 5, 'min_samples_leaf': 2} 91.282\n",
            "{'max_depth': 29, 'max_features': 2, 'min_samples_split': 7, 'min_samples_leaf': 1} 90.88199999999999\n",
            "{'max_depth': 9, 'max_features': 16, 'min_samples_split': 8, 'min_samples_leaf': 7} 87.95199999999998\n",
            "{'max_depth': 9, 'max_features': 14, 'min_samples_split': 3, 'min_samples_leaf': 1} 90.20599999999999\n",
            "{'max_depth': 19, 'max_features': 11, 'min_samples_split': 4, 'min_samples_leaf': 2} 91.23800000000001\n",
            "{'max_depth': 11, 'max_features': 17, 'min_samples_split': 3, 'min_samples_leaf': 3} 89.852\n",
            "{'max_depth': 14, 'max_features': 17, 'min_samples_split': 9, 'min_samples_leaf': 9} 87.032\n",
            "{'max_depth': 21, 'max_features': 7, 'min_samples_split': 7, 'min_samples_leaf': 5} 89.402\n",
            "{'max_depth': 39, 'max_features': 12, 'min_samples_split': 5, 'min_samples_leaf': 2} 91.026\n",
            "{'max_depth': 16, 'max_features': 11, 'min_samples_split': 8, 'min_samples_leaf': 4} 90.27199999999999\n",
            "\n",
            " Top 5:\n",
            "{'max_depth': 22, 'max_features': 8, 'min_samples_split': 3, 'min_samples_leaf': 1} 91.85\n",
            "{'max_depth': 37, 'max_features': 5, 'min_samples_split': 2, 'min_samples_leaf': 1} 91.74000000000001\n",
            "{'max_depth': 17, 'max_features': 5, 'min_samples_split': 2, 'min_samples_leaf': 1} 91.714\n",
            "{'max_depth': 13, 'max_features': 7, 'min_samples_split': 3, 'min_samples_leaf': 1} 91.65\n",
            "{'max_depth': 23, 'max_features': 8, 'min_samples_split': 4, 'min_samples_leaf': 1} 91.63\n",
            "\n",
            "{'max_depth': 14, 'max_features': 9, 'min_samples_split': 3, 'min_samples_leaf': 3} 90.726\n",
            "{'max_depth': 24, 'max_features': 16, 'min_samples_split': 5, 'min_samples_leaf': 3} 90.31200000000001\n",
            "{'max_depth': 13, 'max_features': 14, 'min_samples_split': 8, 'min_samples_leaf': 2} 90.612\n",
            "{'max_depth': 5, 'max_features': 8, 'min_samples_split': 8, 'min_samples_leaf': 2} 85.518\n",
            "{'max_depth': 17, 'max_features': 7, 'min_samples_split': 2, 'min_samples_leaf': 2} 91.29800000000002\n",
            "{'max_depth': 5, 'max_features': 9, 'min_samples_split': 5, 'min_samples_leaf': 4} 85.486\n",
            "{'max_depth': 12, 'max_features': 9, 'min_samples_split': 9, 'min_samples_leaf': 8} 87.73200000000001\n",
            "{'max_depth': 15, 'max_features': 5, 'min_samples_split': 7, 'min_samples_leaf': 4} 89.79199999999999\n",
            "{'max_depth': 32, 'max_features': 2, 'min_samples_split': 4, 'min_samples_leaf': 1} 91.304\n"
          ]
        }
      ]
    },
    {
      "cell_type": "code",
      "source": [
        "bestHistory = []\n",
        "for k in range(1,len(results)):\n",
        "    # List comprehension:\n",
        "    bestHistory.append(np.max([x for x, y in sorted(results[:k], key=lambda x: x[0], reverse=True)]))\n",
        "plt.plot(bestHistory)"
      ],
      "metadata": {
        "colab": {
          "base_uri": "https://localhost:8080/",
          "height": 287
        },
        "id": "UMPbuxQfTXUY",
        "outputId": "7d8f645d-0196-4d7c-ac40-ef6003d2b229"
      },
      "id": "UMPbuxQfTXUY",
      "execution_count": 50,
      "outputs": [
        {
          "output_type": "execute_result",
          "data": {
            "text/plain": [
              "[<matplotlib.lines.Line2D at 0x7fa1673b3550>]"
            ]
          },
          "metadata": {},
          "execution_count": 50
        },
        {
          "output_type": "display_data",
          "data": {
            "text/plain": [
              "<Figure size 432x288 with 1 Axes>"
            ],
            "image/png": "[encoded data removed]"
          },
          "metadata": {
            "needs_background": "light"
          }
        }
      ]
    },
    {
      "cell_type": "code",
      "source": [
        "from sklearn.model_selection import RandomizedSearchCV\n",
        "# Number of trees in random forest\n",
        "n_estimators = [int(x) for x in np.linspace(start = 200, stop = 2000, num = 10)]\n",
        "# Number of features to consider at every split\n",
        "max_features = ['auto', 'sqrt']\n",
        "# Maximum number of levels in tree\n",
        "max_depth = [int(x) for x in np.linspace(10, 110, num = 11)]\n",
        "max_depth.append(None)\n",
        "# Minimum number of samples required to split a node\n",
        "min_samples_split = [2, 5, 10]\n",
        "# Minimum number of samples required at each leaf node\n",
        "min_samples_leaf = [1, 2, 4]\n",
        "# Method of selecting samples for training each tree\n",
        "bootstrap = [True, False]\n",
        "# Create the random grid\n",
        "random_grid = {'n_estimators': n_estimators,\n",
        "               'max_features': max_features,\n",
        "               'max_depth': max_depth,\n",
        "               'min_samples_split': min_samples_split,\n",
        "               'min_samples_leaf': min_samples_leaf,\n",
        "               'bootstrap': bootstrap}\n",
        "print(random_grid)"
      ],
      "metadata": {
        "colab": {
          "base_uri": "https://localhost:8080/"
        },
        "id": "XQTa2te6TISz",
        "outputId": "3b7a43f9-ee2b-4fbb-8384-e795cbef72b9"
      },
      "id": "XQTa2te6TISz",
      "execution_count": 51,
      "outputs": [
        {
          "output_type": "stream",
          "name": "stdout",
          "text": [
            "{'n_estimators': [200, 400, 600, 800, 1000, 1200, 1400, 1600, 1800, 2000], 'max_features': ['auto', 'sqrt'], 'max_depth': [10, 20, 30, 40, 50, 60, 70, 80, 90, 100, 110, None], 'min_samples_split': [2, 5, 10], 'min_samples_leaf': [1, 2, 4], 'bootstrap': [True, False]}\n"
          ]
        }
      ]
    },
    {
      "cell_type": "code",
      "source": [
        "# Use the random grid to search for best hyperparameters\n",
        "# First create the base model to tune\n",
        "rf = RandomForestRegressor()\n",
        "# Random search of parameters, using 3 fold cross validation, \n",
        "# search across 100 different combinations, and use all available cores\n",
        "rf_random = RandomizedSearchCV(estimator = rf, param_distributions = random_grid, n_iter = 100, cv = 3, verbose=2, random_state=42, n_jobs = -1)\n",
        "# Fit the random search model\n",
        "rf_random.fit(df[features], df[target])"
      ],
      "metadata": {
        "colab": {
          "base_uri": "https://localhost:8080/"
        },
        "id": "9UExvZIeWX5_",
        "outputId": "177dfc61-5c82-4b4e-b713-916139369209"
      },
      "id": "9UExvZIeWX5_",
      "execution_count": 52,
      "outputs": [
        {
          "output_type": "stream",
          "name": "stdout",
          "text": [
            "Fitting 3 folds for each of 100 candidates, totalling 300 fits\n"
          ]
        },
        {
          "output_type": "execute_result",
          "data": {
            "text/plain": [
              "RandomizedSearchCV(cv=3, estimator=RandomForestRegressor(), n_iter=100,\n",
              "                   n_jobs=-1,\n",
              "                   param_distributions={'bootstrap': [True, False],\n",
              "                                        'max_depth': [10, 20, 30, 40, 50, 60,\n",
              "                                                      70, 80, 90, 100, 110,\n",
              "                                                      None],\n",
              "                                        'max_features': ['auto', 'sqrt'],\n",
              "                                        'min_samples_leaf': [1, 2, 4],\n",
              "                                        'min_samples_split': [2, 5, 10],\n",
              "                                        'n_estimators': [200, 400, 600, 800,\n",
              "                                                         1000, 1200, 1400, 1600,\n",
              "                                                         1800, 2000]},\n",
              "                   random_state=42, verbose=2)"
            ]
          },
          "metadata": {},
          "execution_count": 52
        }
      ]
    },
    {
      "cell_type": "code",
      "source": [
        "rf_random.best_params_"
      ],
      "metadata": {
        "colab": {
          "base_uri": "https://localhost:8080/"
        },
        "id": "k3G1_WFiWp2R",
        "outputId": "cbd936cc-be0d-45e4-8f74-ff870e512073"
      },
      "id": "k3G1_WFiWp2R",
      "execution_count": 53,
      "outputs": [
        {
          "output_type": "execute_result",
          "data": {
            "text/plain": [
              "{'n_estimators': 400,\n",
              " 'min_samples_split': 2,\n",
              " 'min_samples_leaf': 1,\n",
              " 'max_features': 'sqrt',\n",
              " 'max_depth': None,\n",
              " 'bootstrap': False}"
            ]
          },
          "metadata": {},
          "execution_count": 53
        }
      ]
    },
    {
      "cell_type": "code",
      "source": [
        "trainResults, testResults, predictions, indices = CVTestRFClass(\n",
        "    n_estimators = 400,\n",
        "    min_samples_split = 2,\n",
        "    min_samples_leaf = 1,\n",
        "    max_features = 'sqrt',\n",
        "    max_depth = None,\n",
        "    bootstrap =  False,\n",
        "    debug = True)\n",
        "print(\"R2: {:.2f} %\".format(np.mean(testResults)))"
      ],
      "metadata": {
        "colab": {
          "base_uri": "https://localhost:8080/"
        },
        "id": "toQLkrRBZhoB",
        "outputId": "b3fe78e3-e61a-49b4-d20f-ad658b988a4b"
      },
      "id": "toQLkrRBZhoB",
      "execution_count": 54,
      "outputs": [
        {
          "output_type": "stream",
          "name": "stdout",
          "text": [
            "RandomForestRegressor(bootstrap=False, max_features='sqrt', n_estimators=400,\n",
            "                      n_jobs=-1, random_state=2023)\n",
            "Train R2: 99.97 % Test R2: 92.43 %\n",
            "RandomForestRegressor(bootstrap=False, max_features='sqrt', n_estimators=400,\n",
            "                      n_jobs=-1, random_state=2023)\n",
            "Train R2: 99.99 % Test R2: 90.87 %\n",
            "RandomForestRegressor(bootstrap=False, max_features='sqrt', n_estimators=400,\n",
            "                      n_jobs=-1, random_state=2023)\n",
            "Train R2: 99.97 % Test R2: 93.83 %\n",
            "RandomForestRegressor(bootstrap=False, max_features='sqrt', n_estimators=400,\n",
            "                      n_jobs=-1, random_state=2023)\n",
            "Train R2: 99.97 % Test R2: 92.67 %\n",
            "RandomForestRegressor(bootstrap=False, max_features='sqrt', n_estimators=400,\n",
            "                      n_jobs=-1, random_state=2023)\n",
            "Train R2: 99.98 % Test R2: 92.09 %\n",
            "R2: 92.38 %\n"
          ]
        }
      ]
    },
    {
      "cell_type": "markdown",
      "source": [
        "Results after hyperparameter tuning are better than without it\\\n",
        "R2: 90.89 %\n",
        "vs.\n",
        "R2: 92.38 %"
      ],
      "metadata": {
        "id": "C0ZYFwU2iuRv"
      },
      "id": "C0ZYFwU2iuRv"
    },
    {
      "cell_type": "markdown",
      "source": [
        "## Save the model"
      ],
      "metadata": {
        "id": "LlZXZty-ZkTt"
      },
      "id": "LlZXZty-ZkTt"
    },
    {
      "cell_type": "markdown",
      "source": [
        "Let's save the model. I will later compare the performance of different models on the testing dataset"
      ],
      "metadata": {
        "id": "mc_dhEb7i9wb"
      },
      "id": "mc_dhEb7i9wb"
    },
    {
      "cell_type": "code",
      "source": [
        "import pickle"
      ],
      "metadata": {
        "id": "CSheVeILdaIK"
      },
      "id": "CSheVeILdaIK",
      "execution_count": 55,
      "outputs": []
    },
    {
      "cell_type": "code",
      "source": [
        "model = RandomForestRegressor(n_estimators = 400,\n",
        "    min_samples_split = 2,\n",
        "    min_samples_leaf = 1,\n",
        "    max_features = 'sqrt',\n",
        "    max_depth = None,\n",
        "    bootstrap =  False)\n",
        "model.fit(df[features], df[target])"
      ],
      "metadata": {
        "colab": {
          "base_uri": "https://localhost:8080/"
        },
        "id": "ZK34fyNmckaf",
        "outputId": "04b7ff79-e513-4f4d-ca65-8a0ec777e016"
      },
      "id": "ZK34fyNmckaf",
      "execution_count": 57,
      "outputs": [
        {
          "output_type": "execute_result",
          "data": {
            "text/plain": [
              "RandomForestRegressor(bootstrap=False, max_features='sqrt', n_estimators=400)"
            ]
          },
          "metadata": {},
          "execution_count": 57
        }
      ]
    },
    {
      "cell_type": "code",
      "source": [
        "pickle.dump(model, open('models/random_forest.sav', 'wb'))"
      ],
      "metadata": {
        "id": "WeqNhS_Hb6f8"
      },
      "id": "WeqNhS_Hb6f8",
      "execution_count": 58,
      "outputs": []
    },
    {
      "cell_type": "code",
      "source": [],
      "metadata": {
        "id": "SPcq49dQGLwx"
      },
      "id": "SPcq49dQGLwx",
      "execution_count": null,
      "outputs": []
    }
  ],
  "metadata": {
    "colab": {
      "provenance": []
    },
    "language_info": {
      "name": "python"
    },
    "kernelspec": {
      "name": "python3",
      "display_name": "Python 3"
    },
    "gpuClass": "standard"
  },
  "nbformat": 4,
  "nbformat_minor": 5
}